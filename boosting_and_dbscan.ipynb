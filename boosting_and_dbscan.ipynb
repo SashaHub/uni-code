{
  "nbformat": 4,
  "nbformat_minor": 0,
  "metadata": {
    "kernelspec": {
      "display_name": "Python 3",
      "language": "python",
      "name": "python3"
    },
    "language_info": {
      "codemirror_mode": {
        "name": "ipython",
        "version": 3
      },
      "file_extension": ".py",
      "mimetype": "text/x-python",
      "name": "python",
      "nbconvert_exporter": "python",
      "pygments_lexer": "ipython3",
      "version": "3.6.3"
    },
    "colab": {
      "name": "Кирдеев Александр БИ-2 ДЗ8.ipynb",
      "provenance": [],
      "collapsed_sections": []
    }
  },
  "cells": [
    {
      "cell_type": "markdown",
      "metadata": {
        "id": "-tKaz0okgeLh"
      },
      "source": [
        "## Градиентный бустинг своими руками"
      ]
    },
    {
      "cell_type": "markdown",
      "metadata": {
        "id": "YzvootzcYQ-6"
      },
      "source": [
        "Композиция на N шаге:\n",
        "$$\n",
        "a_N(x_i) = a_{N-1}(x_i) + \\nu\\gamma_Nb_N(x_i)\n",
        "$$\n",
        "\n",
        "$\\nu$ — гиперпараметр learning rate, $\\gamma_N$ — оптимальный вес, настраиваемый на каждом шаге алгоритма, который можно найти по следующей формуле:\n",
        "\n",
        "$$\n",
        "\\gamma_N = \\mathrm{arg}\\min_\\gamma \\frac{1}{\\ell}\\sum\\limits_{i=1}^{\\ell}L\\left(y_i, a_{N - 1}(x_i) + \\gamma b_N(x_i)\\right)\n",
        "$$"
      ]
    },
    {
      "cell_type": "code",
      "metadata": {
        "id": "Eu_ZIF9YgeLi"
      },
      "source": [
        "from scipy.optimize import minimize"
      ],
      "execution_count": null,
      "outputs": []
    },
    {
      "cell_type": "code",
      "metadata": {
        "id": "ZB5Yt-LKgeLi"
      },
      "source": [
        "class GradientBoosting():\n",
        "    def __init__(self, n_estimators=100, max_depth=7, learning_rate=0.1, optimal_gamma= True, max_features= 1.0):\n",
        "        \"\"\"\n",
        "        PARAMETERS:\n",
        "        n_estimators - number of trees in the ensemble\n",
        "        max_depth - maximum depth of a tree\n",
        "        learning_rate - coefficient by which new algorithm result is multiplied\n",
        "        \"\"\"\n",
        "        self.n_estimators = n_estimators\n",
        "        self.max_depth = max_depth\n",
        "        self.learning_rate = learning_rate\n",
        "        self.trees = [] #сохраняем сюда деревья\n",
        "        self.optimal_gamma = optimal_gamma # оптимальная gamma или нет\n",
        "        self.gamma = []\n",
        "        self.max_features = max_features\n",
        "\n",
        "    def fit(self, x, y):\n",
        "        \"\"\"\n",
        "        INPUT:\n",
        "        x - np.array of shape (k, d)\n",
        "        y - np.array of shape (k,)\n",
        "        \"\"\"\n",
        "        # Итерации по n_estimators и обучение\n",
        "        # соответствующего количества деревьев с помощью _fit_predict_tree()\n",
        "        self.X = x\n",
        "        self.y = y\n",
        "        pred = np.zeros(y.shape[0])\n",
        "        for t in range(self.n_estimators):\n",
        "          if t==0:\n",
        "            pred = self._fit_predict_tree(x,y,pred)\n",
        "            y_new = y - pred #антиградиент для MSE\n",
        "          else:\n",
        "            pred += self._fit_predict_tree(x,y_new,pred)\n",
        "            y_new = y - pred\n",
        "        return self\n",
        "\n",
        "\n",
        "    def _fit_predict_tree(self, x, y, pred):\n",
        "        # Обучаем дерево и возвращаем его предикшн\n",
        "        tree = DecisionTreeRegressor(max_depth = self.max_depth,max_features= self.max_features , random_state=19052019)\n",
        "        tree.fit(x,y)\n",
        "        self.trees.append(tree)\n",
        "        if self.optimal_gamma == True:\n",
        "          # нахождение оптимальной гаммы\n",
        "          gamma = minimize(lambda g: (np.sum((self.y - (pred + g * tree.predict(x)))**2))/len(self.y),0.5,method='BFGS').x[0]\n",
        "          self.gamma.append(gamma)\n",
        "          return gamma * self.learning_rate * tree.predict(x)\n",
        "        else:\n",
        "          self.gamma.append(1)\n",
        "          return self.learning_rate * tree.predict(x)\n",
        "        \n",
        "    def predict(self, x):\n",
        "        \"\"\"\n",
        "        INPUT:\n",
        "        x - np.array of shape (m, d)\n",
        "        OUTPUT:\n",
        "        y_pred - np.array of shape (m,)\n",
        "        \"\"\"\n",
        "        # Используем сохранённые деревья для расчёта агрегированного предикшна\n",
        "        y_pred = np.zeros(x.shape[0])\n",
        "        for i in range(0,self.n_estimators):\n",
        "          y_pred += self.learning_rate * self.gamma[i] * self.trees[i].predict(x)\n",
        "        return y_pred\n",
        "\n"
      ],
      "execution_count": null,
      "outputs": []
    },
    {
      "cell_type": "markdown",
      "metadata": {
        "id": "7z-8PafFgeLj"
      },
      "source": [
        "Проверка реализации на Boston dataset. Сид подобран так чтобы решающие деревья выдавали плохой результат."
      ]
    },
    {
      "cell_type": "code",
      "metadata": {
        "id": "0rxKS85vgeLj"
      },
      "source": [
        "boston = load_boston()\n",
        "X = boston.data\n",
        "y = boston.target\n",
        "X_train, X_test, y_train, y_test = train_test_split(X, y, test_size=0.25, random_state=13)"
      ],
      "execution_count": null,
      "outputs": []
    },
    {
      "cell_type": "code",
      "metadata": {
        "id": "dAOaQK2a2N4p",
        "colab": {
          "base_uri": "https://localhost:8080/"
        },
        "outputId": "bc3321dc-47a3-4f0b-9a31-3c1c4cb153a0"
      },
      "source": [
        "from sklearn.ensemble import RandomForestRegressor\n",
        "\n",
        "rf = RandomForestRegressor(max_features=4, n_estimators=640, random_state=19052019)\n",
        "\n",
        "rf.fit(X_train, y_train)\n",
        "mean_squared_error(y_test, rf.predict(X_test))"
      ],
      "execution_count": null,
      "outputs": [
        {
          "output_type": "execute_result",
          "data": {
            "text/plain": [
              "9.635844078917064"
            ]
          },
          "metadata": {
            "tags": []
          },
          "execution_count": 178
        }
      ]
    },
    {
      "cell_type": "code",
      "metadata": {
        "id": "_gt3vn0IgeLk",
        "colab": {
          "base_uri": "https://localhost:8080/"
        },
        "outputId": "eb4b367e-3d24-44f2-df8c-9d155eaa767e"
      },
      "source": [
        "np.random.seed(19052019)\n",
        "gb = GradientBoosting(n_estimators= 94, max_depth = 4, learning_rate= 0.05,optimal_gamma= False, max_features= 0.5)\n",
        "gb.fit(X_train, y_train)\n",
        "mean_squared_error(y_test, gb.predict(X_test))"
      ],
      "execution_count": null,
      "outputs": [
        {
          "output_type": "execute_result",
          "data": {
            "text/plain": [
              "8.11193292089421"
            ]
          },
          "metadata": {
            "tags": []
          },
          "execution_count": 201
        }
      ]
    },
    {
      "cell_type": "code",
      "metadata": {
        "colab": {
          "base_uri": "https://localhost:8080/"
        },
        "id": "oQHrbmU0ZkP-",
        "outputId": "b8253370-1a93-4d68-9e65-513a3f1c69eb"
      },
      "source": [
        "np.random.seed(19052019)\n",
        "gb = GradientBoosting(n_estimators= 94 , max_depth = 4 ,learning_rate= 0.05,optimal_gamma= True, max_features= 0.5)\n",
        "gb.fit(X_train, y_train)\n",
        "mean_squared_error(y_test, gb.predict(X_test))"
      ],
      "execution_count": null,
      "outputs": [
        {
          "output_type": "execute_result",
          "data": {
            "text/plain": [
              "8.378790928214489"
            ]
          },
          "metadata": {
            "tags": []
          },
          "execution_count": 202
        }
      ]
    },
    {
      "cell_type": "markdown",
      "metadata": {
        "id": "PgCTG0lbO1mK"
      },
      "source": [
        "## Прогноз задержки самолётов"
      ]
    },
    {
      "cell_type": "markdown",
      "metadata": {
        "id": "ZVZibhKiM3j4"
      },
      "source": [
        "На основании доступных данных о рейсе нужно определить, будет ли он задержан на 15 минут."
      ]
    },
    {
      "cell_type": "code",
      "metadata": {
        "id": "foHRGE7r-ieC"
      },
      "source": [
        "import pandas as pd"
      ],
      "execution_count": null,
      "outputs": []
    },
    {
      "cell_type": "code",
      "metadata": {
        "id": "WuwqUkrfM3UI"
      },
      "source": [
        "train = pd.read_csv('https://raw.githubusercontent.com/PersDep/data-mining-intro-2021/main/hw08-boosting-clustering/flight_delays_train.csv')"
      ],
      "execution_count": null,
      "outputs": []
    },
    {
      "cell_type": "code",
      "metadata": {
        "colab": {
          "base_uri": "https://localhost:8080/",
          "height": 206
        },
        "id": "af-whZAeNz5f",
        "outputId": "8c214a5d-19a6-4fc8-faef-343684045fda"
      },
      "source": [
        "train.head()"
      ],
      "execution_count": null,
      "outputs": [
        {
          "output_type": "execute_result",
          "data": {
            "text/html": [
              "<div>\n",
              "<style scoped>\n",
              "    .dataframe tbody tr th:only-of-type {\n",
              "        vertical-align: middle;\n",
              "    }\n",
              "\n",
              "    .dataframe tbody tr th {\n",
              "        vertical-align: top;\n",
              "    }\n",
              "\n",
              "    .dataframe thead th {\n",
              "        text-align: right;\n",
              "    }\n",
              "</style>\n",
              "<table border=\"1\" class=\"dataframe\">\n",
              "  <thead>\n",
              "    <tr style=\"text-align: right;\">\n",
              "      <th></th>\n",
              "      <th>Month</th>\n",
              "      <th>DayofMonth</th>\n",
              "      <th>DayOfWeek</th>\n",
              "      <th>DepTime</th>\n",
              "      <th>UniqueCarrier</th>\n",
              "      <th>Origin</th>\n",
              "      <th>Dest</th>\n",
              "      <th>Distance</th>\n",
              "      <th>dep_delayed_15min</th>\n",
              "    </tr>\n",
              "  </thead>\n",
              "  <tbody>\n",
              "    <tr>\n",
              "      <th>0</th>\n",
              "      <td>c-8</td>\n",
              "      <td>c-21</td>\n",
              "      <td>c-7</td>\n",
              "      <td>1934</td>\n",
              "      <td>AA</td>\n",
              "      <td>ATL</td>\n",
              "      <td>DFW</td>\n",
              "      <td>732</td>\n",
              "      <td>N</td>\n",
              "    </tr>\n",
              "    <tr>\n",
              "      <th>1</th>\n",
              "      <td>c-4</td>\n",
              "      <td>c-20</td>\n",
              "      <td>c-3</td>\n",
              "      <td>1548</td>\n",
              "      <td>US</td>\n",
              "      <td>PIT</td>\n",
              "      <td>MCO</td>\n",
              "      <td>834</td>\n",
              "      <td>N</td>\n",
              "    </tr>\n",
              "    <tr>\n",
              "      <th>2</th>\n",
              "      <td>c-9</td>\n",
              "      <td>c-2</td>\n",
              "      <td>c-5</td>\n",
              "      <td>1422</td>\n",
              "      <td>XE</td>\n",
              "      <td>RDU</td>\n",
              "      <td>CLE</td>\n",
              "      <td>416</td>\n",
              "      <td>N</td>\n",
              "    </tr>\n",
              "    <tr>\n",
              "      <th>3</th>\n",
              "      <td>c-11</td>\n",
              "      <td>c-25</td>\n",
              "      <td>c-6</td>\n",
              "      <td>1015</td>\n",
              "      <td>OO</td>\n",
              "      <td>DEN</td>\n",
              "      <td>MEM</td>\n",
              "      <td>872</td>\n",
              "      <td>N</td>\n",
              "    </tr>\n",
              "    <tr>\n",
              "      <th>4</th>\n",
              "      <td>c-10</td>\n",
              "      <td>c-7</td>\n",
              "      <td>c-6</td>\n",
              "      <td>1828</td>\n",
              "      <td>WN</td>\n",
              "      <td>MDW</td>\n",
              "      <td>OMA</td>\n",
              "      <td>423</td>\n",
              "      <td>Y</td>\n",
              "    </tr>\n",
              "  </tbody>\n",
              "</table>\n",
              "</div>"
            ],
            "text/plain": [
              "  Month DayofMonth DayOfWeek  DepTime  ... Origin Dest Distance  dep_delayed_15min\n",
              "0   c-8       c-21       c-7     1934  ...    ATL  DFW      732                  N\n",
              "1   c-4       c-20       c-3     1548  ...    PIT  MCO      834                  N\n",
              "2   c-9        c-2       c-5     1422  ...    RDU  CLE      416                  N\n",
              "3  c-11       c-25       c-6     1015  ...    DEN  MEM      872                  N\n",
              "4  c-10        c-7       c-6     1828  ...    MDW  OMA      423                  Y\n",
              "\n",
              "[5 rows x 9 columns]"
            ]
          },
          "metadata": {
            "tags": []
          },
          "execution_count": 205
        }
      ]
    },
    {
      "cell_type": "code",
      "metadata": {
        "id": "v5a3DGydN7eu",
        "colab": {
          "base_uri": "https://localhost:8080/"
        },
        "outputId": "fd77e93a-b017-4dc8-ad32-a8481eb5bba7"
      },
      "source": [
        "# Референс\n",
        "from xgboost.sklearn import XGBClassifier\n",
        "X_train = train[['Distance', 'DepTime']].values\n",
        "y_train = train['dep_delayed_15min'].map({'Y': 1, 'N': 0}).values\n",
        "X_train_part, X_valid, y_train_part, y_valid = train_test_split(X_train, y_train, test_size=0.3,shuffle=True)\n",
        "\n",
        "xgb = XGBClassifier(n_jobs = -1)\n",
        "xgb.fit(X_train_part, y_train_part)\n",
        "roc_auc_score(y_valid, xgb.predict_proba(X_valid)[:, 1])"
      ],
      "execution_count": null,
      "outputs": [
        {
          "output_type": "execute_result",
          "data": {
            "text/plain": [
              "0.7000607807325846"
            ]
          },
          "metadata": {
            "tags": []
          },
          "execution_count": 336
        }
      ]
    },
    {
      "cell_type": "code",
      "metadata": {
        "id": "zhhgqaWx1BmS"
      },
      "source": [
        "X_train = train[['Distance', 'DepTime',\t'UniqueCarrier','Origin','Dest','Month',\t'DayofMonth',\t'DayOfWeek']].values\n",
        "X_test = test[['Distance', 'DepTime',\t'UniqueCarrier','Origin','Dest','Month',\t'DayofMonth',\t'DayOfWeek']].values\n",
        "X_train_part, X_valid, y_train_part, y_valid = train_test_split(X_train, y_train, test_size=0.3,shuffle=True)"
      ],
      "execution_count": null,
      "outputs": []
    },
    {
      "cell_type": "code",
      "metadata": {
        "id": "I5uzOL7imOXS"
      },
      "source": [
        "!pip install catboost\n",
        "import catboost\n",
        "from catboost import CatBoostClassifier"
      ],
      "execution_count": null,
      "outputs": []
    },
    {
      "cell_type": "code",
      "metadata": {
        "id": "tJI3mzhR464J"
      },
      "source": [
        "cat_features=[2,3,4,5,6,7]"
      ],
      "execution_count": null,
      "outputs": []
    },
    {
      "cell_type": "code",
      "metadata": {
        "colab": {
          "base_uri": "https://localhost:8080/"
        },
        "id": "ePimrk_4nTvm",
        "outputId": "327d4a02-ec5e-4bea-f6ae-3a4270f63130"
      },
      "source": [
        "grid = CatBoostClassifier(eval_metric='AUC', early_stopping_rounds=40, learning_rate=0.1, depth=6, cat_features=cat_features)\n",
        "grid.fit(X_train_part, y_train_part, eval_set=(X_valid, y_valid), use_best_model=True, verbose=True,cat_features=cat_features)"
      ],
      "execution_count": null,
      "outputs": [
        {
          "output_type": "stream",
          "text": [
            "Custom logger is already specified. Specify more than one logger at same time is not thread safe."
          ],
          "name": "stderr"
        },
        {
          "output_type": "stream",
          "text": [
            "0:\ttest: 0.6568125\tbest: 0.6568125 (0)\ttotal: 69.5ms\tremaining: 1m 9s\n",
            "1:\ttest: 0.6805931\tbest: 0.6805931 (1)\ttotal: 188ms\tremaining: 1m 34s\n",
            "2:\ttest: 0.6821158\tbest: 0.6821158 (2)\ttotal: 236ms\tremaining: 1m 18s\n",
            "3:\ttest: 0.6837312\tbest: 0.6837312 (3)\ttotal: 363ms\tremaining: 1m 30s\n",
            "4:\ttest: 0.6831514\tbest: 0.6837312 (3)\ttotal: 429ms\tremaining: 1m 25s\n",
            "5:\ttest: 0.6831253\tbest: 0.6837312 (3)\ttotal: 478ms\tremaining: 1m 19s\n",
            "6:\ttest: 0.6834167\tbest: 0.6837312 (3)\ttotal: 532ms\tremaining: 1m 15s\n",
            "7:\ttest: 0.6857535\tbest: 0.6857535 (7)\ttotal: 612ms\tremaining: 1m 15s\n",
            "8:\ttest: 0.6891064\tbest: 0.6891064 (8)\ttotal: 681ms\tremaining: 1m 14s\n",
            "9:\ttest: 0.6910321\tbest: 0.6910321 (9)\ttotal: 787ms\tremaining: 1m 17s\n",
            "10:\ttest: 0.6953587\tbest: 0.6953587 (10)\ttotal: 903ms\tremaining: 1m 21s\n",
            "11:\ttest: 0.6948696\tbest: 0.6953587 (10)\ttotal: 961ms\tremaining: 1m 19s\n",
            "12:\ttest: 0.6956405\tbest: 0.6956405 (12)\ttotal: 1.06s\tremaining: 1m 20s\n",
            "13:\ttest: 0.6975162\tbest: 0.6975162 (13)\ttotal: 1.15s\tremaining: 1m 21s\n",
            "14:\ttest: 0.6994270\tbest: 0.6994270 (14)\ttotal: 1.29s\tremaining: 1m 24s\n",
            "15:\ttest: 0.7043832\tbest: 0.7043832 (15)\ttotal: 1.41s\tremaining: 1m 26s\n",
            "16:\ttest: 0.7071309\tbest: 0.7071309 (16)\ttotal: 1.54s\tremaining: 1m 28s\n",
            "17:\ttest: 0.7090204\tbest: 0.7090204 (17)\ttotal: 1.67s\tremaining: 1m 31s\n",
            "18:\ttest: 0.7094283\tbest: 0.7094283 (18)\ttotal: 1.78s\tremaining: 1m 31s\n",
            "19:\ttest: 0.7124197\tbest: 0.7124197 (19)\ttotal: 1.9s\tremaining: 1m 33s\n",
            "20:\ttest: 0.7136532\tbest: 0.7136532 (20)\ttotal: 2.02s\tremaining: 1m 34s\n",
            "21:\ttest: 0.7146010\tbest: 0.7146010 (21)\ttotal: 2.16s\tremaining: 1m 35s\n",
            "22:\ttest: 0.7152717\tbest: 0.7152717 (22)\ttotal: 2.26s\tremaining: 1m 35s\n",
            "23:\ttest: 0.7181191\tbest: 0.7181191 (23)\ttotal: 2.39s\tremaining: 1m 37s\n",
            "24:\ttest: 0.7206702\tbest: 0.7206702 (24)\ttotal: 2.51s\tremaining: 1m 37s\n",
            "25:\ttest: 0.7210548\tbest: 0.7210548 (25)\ttotal: 2.63s\tremaining: 1m 38s\n",
            "26:\ttest: 0.7218892\tbest: 0.7218892 (26)\ttotal: 2.75s\tremaining: 1m 39s\n",
            "27:\ttest: 0.7221908\tbest: 0.7221908 (27)\ttotal: 2.9s\tremaining: 1m 40s\n",
            "28:\ttest: 0.7240449\tbest: 0.7240449 (28)\ttotal: 3s\tremaining: 1m 40s\n",
            "29:\ttest: 0.7246992\tbest: 0.7246992 (29)\ttotal: 3.12s\tremaining: 1m 40s\n",
            "30:\ttest: 0.7252609\tbest: 0.7252609 (30)\ttotal: 3.25s\tremaining: 1m 41s\n",
            "31:\ttest: 0.7268501\tbest: 0.7268501 (31)\ttotal: 3.38s\tremaining: 1m 42s\n",
            "32:\ttest: 0.7282091\tbest: 0.7282091 (32)\ttotal: 3.49s\tremaining: 1m 42s\n",
            "33:\ttest: 0.7297909\tbest: 0.7297909 (33)\ttotal: 3.59s\tremaining: 1m 41s\n",
            "34:\ttest: 0.7300989\tbest: 0.7300989 (34)\ttotal: 3.71s\tremaining: 1m 42s\n",
            "35:\ttest: 0.7308318\tbest: 0.7308318 (35)\ttotal: 3.82s\tremaining: 1m 42s\n",
            "36:\ttest: 0.7310097\tbest: 0.7310097 (36)\ttotal: 3.95s\tremaining: 1m 42s\n",
            "37:\ttest: 0.7324348\tbest: 0.7324348 (37)\ttotal: 4.06s\tremaining: 1m 42s\n",
            "38:\ttest: 0.7327868\tbest: 0.7327868 (38)\ttotal: 4.18s\tremaining: 1m 42s\n",
            "39:\ttest: 0.7331194\tbest: 0.7331194 (39)\ttotal: 4.29s\tremaining: 1m 42s\n",
            "40:\ttest: 0.7334752\tbest: 0.7334752 (40)\ttotal: 4.4s\tremaining: 1m 42s\n",
            "41:\ttest: 0.7338087\tbest: 0.7338087 (41)\ttotal: 4.51s\tremaining: 1m 42s\n",
            "42:\ttest: 0.7345976\tbest: 0.7345976 (42)\ttotal: 4.63s\tremaining: 1m 42s\n",
            "43:\ttest: 0.7346906\tbest: 0.7346906 (43)\ttotal: 4.74s\tremaining: 1m 42s\n",
            "44:\ttest: 0.7347165\tbest: 0.7347165 (44)\ttotal: 4.82s\tremaining: 1m 42s\n",
            "45:\ttest: 0.7353758\tbest: 0.7353758 (45)\ttotal: 4.95s\tremaining: 1m 42s\n",
            "46:\ttest: 0.7356257\tbest: 0.7356257 (46)\ttotal: 5.08s\tremaining: 1m 43s\n",
            "47:\ttest: 0.7367571\tbest: 0.7367571 (47)\ttotal: 5.17s\tremaining: 1m 42s\n",
            "48:\ttest: 0.7375985\tbest: 0.7375985 (48)\ttotal: 5.27s\tremaining: 1m 42s\n",
            "49:\ttest: 0.7377385\tbest: 0.7377385 (49)\ttotal: 5.41s\tremaining: 1m 42s\n",
            "50:\ttest: 0.7378292\tbest: 0.7378292 (50)\ttotal: 5.5s\tremaining: 1m 42s\n",
            "51:\ttest: 0.7383773\tbest: 0.7383773 (51)\ttotal: 5.63s\tremaining: 1m 42s\n",
            "52:\ttest: 0.7391423\tbest: 0.7391423 (52)\ttotal: 5.72s\tremaining: 1m 42s\n",
            "53:\ttest: 0.7397946\tbest: 0.7397946 (53)\ttotal: 5.8s\tremaining: 1m 41s\n",
            "54:\ttest: 0.7400404\tbest: 0.7400404 (54)\ttotal: 5.92s\tremaining: 1m 41s\n",
            "55:\ttest: 0.7402359\tbest: 0.7402359 (55)\ttotal: 6.06s\tremaining: 1m 42s\n",
            "56:\ttest: 0.7408215\tbest: 0.7408215 (56)\ttotal: 6.18s\tremaining: 1m 42s\n",
            "57:\ttest: 0.7410477\tbest: 0.7410477 (57)\ttotal: 6.31s\tremaining: 1m 42s\n",
            "58:\ttest: 0.7411761\tbest: 0.7411761 (58)\ttotal: 6.45s\tremaining: 1m 42s\n",
            "59:\ttest: 0.7412934\tbest: 0.7412934 (59)\ttotal: 6.57s\tremaining: 1m 42s\n",
            "60:\ttest: 0.7418127\tbest: 0.7418127 (60)\ttotal: 6.7s\tremaining: 1m 43s\n",
            "61:\ttest: 0.7418744\tbest: 0.7418744 (61)\ttotal: 6.81s\tremaining: 1m 43s\n",
            "62:\ttest: 0.7420882\tbest: 0.7420882 (62)\ttotal: 6.93s\tremaining: 1m 43s\n",
            "63:\ttest: 0.7421374\tbest: 0.7421374 (63)\ttotal: 7.04s\tremaining: 1m 42s\n",
            "64:\ttest: 0.7424736\tbest: 0.7424736 (64)\ttotal: 7.13s\tremaining: 1m 42s\n",
            "65:\ttest: 0.7424843\tbest: 0.7424843 (65)\ttotal: 7.25s\tremaining: 1m 42s\n",
            "66:\ttest: 0.7428246\tbest: 0.7428246 (66)\ttotal: 7.38s\tremaining: 1m 42s\n",
            "67:\ttest: 0.7429723\tbest: 0.7429723 (67)\ttotal: 7.49s\tremaining: 1m 42s\n",
            "68:\ttest: 0.7429627\tbest: 0.7429723 (67)\ttotal: 7.53s\tremaining: 1m 41s\n",
            "69:\ttest: 0.7429748\tbest: 0.7429748 (69)\ttotal: 7.67s\tremaining: 1m 41s\n",
            "70:\ttest: 0.7430172\tbest: 0.7430172 (70)\ttotal: 7.81s\tremaining: 1m 42s\n",
            "71:\ttest: 0.7433287\tbest: 0.7433287 (71)\ttotal: 7.94s\tremaining: 1m 42s\n",
            "72:\ttest: 0.7433921\tbest: 0.7433921 (72)\ttotal: 8.05s\tremaining: 1m 42s\n",
            "73:\ttest: 0.7434252\tbest: 0.7434252 (73)\ttotal: 8.14s\tremaining: 1m 41s\n",
            "74:\ttest: 0.7436260\tbest: 0.7436260 (74)\ttotal: 8.29s\tremaining: 1m 42s\n",
            "75:\ttest: 0.7436812\tbest: 0.7436812 (75)\ttotal: 8.42s\tremaining: 1m 42s\n",
            "76:\ttest: 0.7439427\tbest: 0.7439427 (76)\ttotal: 8.55s\tremaining: 1m 42s\n",
            "77:\ttest: 0.7440765\tbest: 0.7440765 (77)\ttotal: 8.66s\tremaining: 1m 42s\n",
            "78:\ttest: 0.7443467\tbest: 0.7443467 (78)\ttotal: 8.75s\tremaining: 1m 42s\n",
            "79:\ttest: 0.7445286\tbest: 0.7445286 (79)\ttotal: 8.86s\tremaining: 1m 41s\n",
            "80:\ttest: 0.7448696\tbest: 0.7448696 (80)\ttotal: 8.97s\tremaining: 1m 41s\n",
            "81:\ttest: 0.7449938\tbest: 0.7449938 (81)\ttotal: 9.09s\tremaining: 1m 41s\n",
            "82:\ttest: 0.7456004\tbest: 0.7456004 (82)\ttotal: 9.19s\tremaining: 1m 41s\n",
            "83:\ttest: 0.7458656\tbest: 0.7458656 (83)\ttotal: 9.29s\tremaining: 1m 41s\n",
            "84:\ttest: 0.7460024\tbest: 0.7460024 (84)\ttotal: 9.42s\tremaining: 1m 41s\n",
            "85:\ttest: 0.7462312\tbest: 0.7462312 (85)\ttotal: 9.54s\tremaining: 1m 41s\n",
            "86:\ttest: 0.7463193\tbest: 0.7463193 (86)\ttotal: 9.69s\tremaining: 1m 41s\n",
            "87:\ttest: 0.7463679\tbest: 0.7463679 (87)\ttotal: 9.78s\tremaining: 1m 41s\n",
            "88:\ttest: 0.7464884\tbest: 0.7464884 (88)\ttotal: 9.9s\tremaining: 1m 41s\n",
            "89:\ttest: 0.7465226\tbest: 0.7465226 (89)\ttotal: 9.97s\tremaining: 1m 40s\n",
            "90:\ttest: 0.7466788\tbest: 0.7466788 (90)\ttotal: 10.1s\tremaining: 1m 40s\n",
            "91:\ttest: 0.7467928\tbest: 0.7467928 (91)\ttotal: 10.2s\tremaining: 1m 40s\n",
            "92:\ttest: 0.7471210\tbest: 0.7471210 (92)\ttotal: 10.3s\tremaining: 1m 40s\n",
            "93:\ttest: 0.7474058\tbest: 0.7474058 (93)\ttotal: 10.4s\tremaining: 1m 40s\n",
            "94:\ttest: 0.7474103\tbest: 0.7474103 (94)\ttotal: 10.6s\tremaining: 1m 40s\n",
            "95:\ttest: 0.7478447\tbest: 0.7478447 (95)\ttotal: 10.6s\tremaining: 1m 40s\n",
            "96:\ttest: 0.7481180\tbest: 0.7481180 (96)\ttotal: 10.7s\tremaining: 1m 40s\n",
            "97:\ttest: 0.7481959\tbest: 0.7481959 (97)\ttotal: 10.8s\tremaining: 1m 39s\n",
            "98:\ttest: 0.7482878\tbest: 0.7482878 (98)\ttotal: 11s\tremaining: 1m 39s\n",
            "99:\ttest: 0.7484243\tbest: 0.7484243 (99)\ttotal: 11.1s\tremaining: 1m 39s\n",
            "100:\ttest: 0.7484837\tbest: 0.7484837 (100)\ttotal: 11.2s\tremaining: 1m 39s\n",
            "101:\ttest: 0.7491985\tbest: 0.7491985 (101)\ttotal: 11.3s\tremaining: 1m 39s\n",
            "102:\ttest: 0.7493094\tbest: 0.7493094 (102)\ttotal: 11.4s\tremaining: 1m 39s\n",
            "103:\ttest: 0.7496897\tbest: 0.7496897 (103)\ttotal: 11.5s\tremaining: 1m 39s\n",
            "104:\ttest: 0.7497028\tbest: 0.7497028 (104)\ttotal: 11.6s\tremaining: 1m 39s\n",
            "105:\ttest: 0.7498827\tbest: 0.7498827 (105)\ttotal: 11.7s\tremaining: 1m 39s\n",
            "106:\ttest: 0.7499502\tbest: 0.7499502 (106)\ttotal: 11.9s\tremaining: 1m 38s\n",
            "107:\ttest: 0.7500275\tbest: 0.7500275 (107)\ttotal: 12s\tremaining: 1m 38s\n",
            "108:\ttest: 0.7501588\tbest: 0.7501588 (108)\ttotal: 12.1s\tremaining: 1m 38s\n",
            "109:\ttest: 0.7502195\tbest: 0.7502195 (109)\ttotal: 12.2s\tremaining: 1m 38s\n",
            "110:\ttest: 0.7503822\tbest: 0.7503822 (110)\ttotal: 12.3s\tremaining: 1m 38s\n",
            "111:\ttest: 0.7504052\tbest: 0.7504052 (111)\ttotal: 12.4s\tremaining: 1m 38s\n",
            "112:\ttest: 0.7504559\tbest: 0.7504559 (112)\ttotal: 12.5s\tremaining: 1m 38s\n",
            "113:\ttest: 0.7508586\tbest: 0.7508586 (113)\ttotal: 12.6s\tremaining: 1m 38s\n",
            "114:\ttest: 0.7509698\tbest: 0.7509698 (114)\ttotal: 12.7s\tremaining: 1m 38s\n",
            "115:\ttest: 0.7512080\tbest: 0.7512080 (115)\ttotal: 12.8s\tremaining: 1m 37s\n",
            "116:\ttest: 0.7513147\tbest: 0.7513147 (116)\ttotal: 13s\tremaining: 1m 37s\n",
            "117:\ttest: 0.7513280\tbest: 0.7513280 (117)\ttotal: 13.1s\tremaining: 1m 37s\n",
            "118:\ttest: 0.7515477\tbest: 0.7515477 (118)\ttotal: 13.2s\tremaining: 1m 37s\n",
            "119:\ttest: 0.7516192\tbest: 0.7516192 (119)\ttotal: 13.3s\tremaining: 1m 37s\n",
            "120:\ttest: 0.7517741\tbest: 0.7517741 (120)\ttotal: 13.4s\tremaining: 1m 37s\n",
            "121:\ttest: 0.7518438\tbest: 0.7518438 (121)\ttotal: 13.5s\tremaining: 1m 37s\n",
            "122:\ttest: 0.7519228\tbest: 0.7519228 (122)\ttotal: 13.6s\tremaining: 1m 37s\n",
            "123:\ttest: 0.7520140\tbest: 0.7520140 (123)\ttotal: 13.7s\tremaining: 1m 37s\n",
            "124:\ttest: 0.7520356\tbest: 0.7520356 (124)\ttotal: 13.8s\tremaining: 1m 36s\n",
            "125:\ttest: 0.7520426\tbest: 0.7520426 (125)\ttotal: 14s\tremaining: 1m 36s\n",
            "126:\ttest: 0.7520788\tbest: 0.7520788 (126)\ttotal: 14.1s\tremaining: 1m 36s\n",
            "127:\ttest: 0.7524597\tbest: 0.7524597 (127)\ttotal: 14.2s\tremaining: 1m 36s\n",
            "128:\ttest: 0.7525192\tbest: 0.7525192 (128)\ttotal: 14.3s\tremaining: 1m 36s\n",
            "129:\ttest: 0.7526717\tbest: 0.7526717 (129)\ttotal: 14.4s\tremaining: 1m 36s\n",
            "130:\ttest: 0.7527171\tbest: 0.7527171 (130)\ttotal: 14.5s\tremaining: 1m 36s\n",
            "131:\ttest: 0.7527949\tbest: 0.7527949 (131)\ttotal: 14.7s\tremaining: 1m 36s\n",
            "132:\ttest: 0.7528709\tbest: 0.7528709 (132)\ttotal: 14.8s\tremaining: 1m 36s\n",
            "133:\ttest: 0.7529732\tbest: 0.7529732 (133)\ttotal: 14.9s\tremaining: 1m 36s\n",
            "134:\ttest: 0.7529893\tbest: 0.7529893 (134)\ttotal: 15s\tremaining: 1m 36s\n",
            "135:\ttest: 0.7530484\tbest: 0.7530484 (135)\ttotal: 15.1s\tremaining: 1m 36s\n",
            "136:\ttest: 0.7530982\tbest: 0.7530982 (136)\ttotal: 15.2s\tremaining: 1m 35s\n",
            "137:\ttest: 0.7531372\tbest: 0.7531372 (137)\ttotal: 15.3s\tremaining: 1m 35s\n",
            "138:\ttest: 0.7531890\tbest: 0.7531890 (138)\ttotal: 15.5s\tremaining: 1m 35s\n",
            "139:\ttest: 0.7533271\tbest: 0.7533271 (139)\ttotal: 15.6s\tremaining: 1m 35s\n",
            "140:\ttest: 0.7533850\tbest: 0.7533850 (140)\ttotal: 15.7s\tremaining: 1m 35s\n",
            "141:\ttest: 0.7536193\tbest: 0.7536193 (141)\ttotal: 15.9s\tremaining: 1m 35s\n",
            "142:\ttest: 0.7536963\tbest: 0.7536963 (142)\ttotal: 16s\tremaining: 1m 35s\n",
            "143:\ttest: 0.7538430\tbest: 0.7538430 (143)\ttotal: 16.1s\tremaining: 1m 35s\n",
            "144:\ttest: 0.7539964\tbest: 0.7539964 (144)\ttotal: 16.2s\tremaining: 1m 35s\n",
            "145:\ttest: 0.7540248\tbest: 0.7540248 (145)\ttotal: 16.4s\tremaining: 1m 35s\n",
            "146:\ttest: 0.7541161\tbest: 0.7541161 (146)\ttotal: 16.5s\tremaining: 1m 35s\n",
            "147:\ttest: 0.7541734\tbest: 0.7541734 (147)\ttotal: 16.6s\tremaining: 1m 35s\n",
            "148:\ttest: 0.7542001\tbest: 0.7542001 (148)\ttotal: 16.7s\tremaining: 1m 35s\n",
            "149:\ttest: 0.7541979\tbest: 0.7542001 (148)\ttotal: 16.9s\tremaining: 1m 35s\n",
            "150:\ttest: 0.7542193\tbest: 0.7542193 (150)\ttotal: 17s\tremaining: 1m 35s\n",
            "151:\ttest: 0.7542351\tbest: 0.7542351 (151)\ttotal: 17.1s\tremaining: 1m 35s\n",
            "152:\ttest: 0.7541830\tbest: 0.7542351 (151)\ttotal: 17.2s\tremaining: 1m 35s\n",
            "153:\ttest: 0.7541906\tbest: 0.7542351 (151)\ttotal: 17.3s\tremaining: 1m 35s\n",
            "154:\ttest: 0.7544439\tbest: 0.7544439 (154)\ttotal: 17.4s\tremaining: 1m 34s\n",
            "155:\ttest: 0.7545914\tbest: 0.7545914 (155)\ttotal: 17.5s\tremaining: 1m 34s\n",
            "156:\ttest: 0.7546095\tbest: 0.7546095 (156)\ttotal: 17.7s\tremaining: 1m 34s\n",
            "157:\ttest: 0.7547003\tbest: 0.7547003 (157)\ttotal: 17.8s\tremaining: 1m 34s\n",
            "158:\ttest: 0.7547110\tbest: 0.7547110 (158)\ttotal: 17.9s\tremaining: 1m 34s\n",
            "159:\ttest: 0.7547342\tbest: 0.7547342 (159)\ttotal: 18s\tremaining: 1m 34s\n",
            "160:\ttest: 0.7548524\tbest: 0.7548524 (160)\ttotal: 18.2s\tremaining: 1m 34s\n",
            "161:\ttest: 0.7549841\tbest: 0.7549841 (161)\ttotal: 18.3s\tremaining: 1m 34s\n",
            "162:\ttest: 0.7551739\tbest: 0.7551739 (162)\ttotal: 18.4s\tremaining: 1m 34s\n",
            "163:\ttest: 0.7553193\tbest: 0.7553193 (163)\ttotal: 18.6s\tremaining: 1m 34s\n",
            "164:\ttest: 0.7553004\tbest: 0.7553193 (163)\ttotal: 18.7s\tremaining: 1m 34s\n",
            "165:\ttest: 0.7553768\tbest: 0.7553768 (165)\ttotal: 18.8s\tremaining: 1m 34s\n",
            "166:\ttest: 0.7555218\tbest: 0.7555218 (166)\ttotal: 18.9s\tremaining: 1m 34s\n",
            "167:\ttest: 0.7555508\tbest: 0.7555508 (167)\ttotal: 19s\tremaining: 1m 34s\n",
            "168:\ttest: 0.7556486\tbest: 0.7556486 (168)\ttotal: 19.2s\tremaining: 1m 34s\n",
            "169:\ttest: 0.7556910\tbest: 0.7556910 (169)\ttotal: 19.3s\tremaining: 1m 34s\n",
            "170:\ttest: 0.7556808\tbest: 0.7556910 (169)\ttotal: 19.3s\tremaining: 1m 33s\n",
            "171:\ttest: 0.7557475\tbest: 0.7557475 (171)\ttotal: 19.5s\tremaining: 1m 33s\n",
            "172:\ttest: 0.7558448\tbest: 0.7558448 (172)\ttotal: 19.6s\tremaining: 1m 33s\n",
            "173:\ttest: 0.7558349\tbest: 0.7558448 (172)\ttotal: 19.7s\tremaining: 1m 33s\n",
            "174:\ttest: 0.7558413\tbest: 0.7558448 (172)\ttotal: 19.8s\tremaining: 1m 33s\n",
            "175:\ttest: 0.7558315\tbest: 0.7558448 (172)\ttotal: 19.9s\tremaining: 1m 33s\n",
            "176:\ttest: 0.7558455\tbest: 0.7558455 (176)\ttotal: 20s\tremaining: 1m 33s\n",
            "177:\ttest: 0.7559459\tbest: 0.7559459 (177)\ttotal: 20.2s\tremaining: 1m 33s\n",
            "178:\ttest: 0.7559883\tbest: 0.7559883 (178)\ttotal: 20.3s\tremaining: 1m 32s\n",
            "179:\ttest: 0.7560106\tbest: 0.7560106 (179)\ttotal: 20.4s\tremaining: 1m 32s\n",
            "180:\ttest: 0.7560440\tbest: 0.7560440 (180)\ttotal: 20.5s\tremaining: 1m 32s\n",
            "181:\ttest: 0.7560291\tbest: 0.7560440 (180)\ttotal: 20.6s\tremaining: 1m 32s\n",
            "182:\ttest: 0.7560308\tbest: 0.7560440 (180)\ttotal: 20.7s\tremaining: 1m 32s\n",
            "183:\ttest: 0.7560992\tbest: 0.7560992 (183)\ttotal: 20.8s\tremaining: 1m 32s\n",
            "184:\ttest: 0.7560759\tbest: 0.7560992 (183)\ttotal: 20.9s\tremaining: 1m 31s\n",
            "185:\ttest: 0.7562014\tbest: 0.7562014 (185)\ttotal: 21s\tremaining: 1m 31s\n",
            "186:\ttest: 0.7561916\tbest: 0.7562014 (185)\ttotal: 21.1s\tremaining: 1m 31s\n",
            "187:\ttest: 0.7562139\tbest: 0.7562139 (187)\ttotal: 21.2s\tremaining: 1m 31s\n",
            "188:\ttest: 0.7562236\tbest: 0.7562236 (188)\ttotal: 21.3s\tremaining: 1m 31s\n",
            "189:\ttest: 0.7562331\tbest: 0.7562331 (189)\ttotal: 21.4s\tremaining: 1m 31s\n",
            "190:\ttest: 0.7562914\tbest: 0.7562914 (190)\ttotal: 21.5s\tremaining: 1m 31s\n",
            "191:\ttest: 0.7562990\tbest: 0.7562990 (191)\ttotal: 21.6s\tremaining: 1m 31s\n",
            "192:\ttest: 0.7564049\tbest: 0.7564049 (192)\ttotal: 21.8s\tremaining: 1m 30s\n",
            "193:\ttest: 0.7564399\tbest: 0.7564399 (193)\ttotal: 21.9s\tremaining: 1m 30s\n",
            "194:\ttest: 0.7565016\tbest: 0.7565016 (194)\ttotal: 22s\tremaining: 1m 30s\n",
            "195:\ttest: 0.7566401\tbest: 0.7566401 (195)\ttotal: 22.1s\tremaining: 1m 30s\n",
            "196:\ttest: 0.7566759\tbest: 0.7566759 (196)\ttotal: 22.2s\tremaining: 1m 30s\n",
            "197:\ttest: 0.7567435\tbest: 0.7567435 (197)\ttotal: 22.3s\tremaining: 1m 30s\n",
            "198:\ttest: 0.7568324\tbest: 0.7568324 (198)\ttotal: 22.4s\tremaining: 1m 30s\n",
            "199:\ttest: 0.7568410\tbest: 0.7568410 (199)\ttotal: 22.5s\tremaining: 1m 29s\n",
            "200:\ttest: 0.7568173\tbest: 0.7568410 (199)\ttotal: 22.6s\tremaining: 1m 29s\n",
            "201:\ttest: 0.7568769\tbest: 0.7568769 (201)\ttotal: 22.7s\tremaining: 1m 29s\n",
            "202:\ttest: 0.7569570\tbest: 0.7569570 (202)\ttotal: 22.9s\tremaining: 1m 29s\n",
            "203:\ttest: 0.7569724\tbest: 0.7569724 (203)\ttotal: 22.9s\tremaining: 1m 29s\n",
            "204:\ttest: 0.7570603\tbest: 0.7570603 (204)\ttotal: 23s\tremaining: 1m 29s\n",
            "205:\ttest: 0.7570697\tbest: 0.7570697 (205)\ttotal: 23.2s\tremaining: 1m 29s\n",
            "206:\ttest: 0.7570894\tbest: 0.7570894 (206)\ttotal: 23.3s\tremaining: 1m 29s\n",
            "207:\ttest: 0.7571867\tbest: 0.7571867 (207)\ttotal: 23.4s\tremaining: 1m 28s\n",
            "208:\ttest: 0.7572183\tbest: 0.7572183 (208)\ttotal: 23.5s\tremaining: 1m 28s\n",
            "209:\ttest: 0.7572419\tbest: 0.7572419 (209)\ttotal: 23.6s\tremaining: 1m 28s\n",
            "210:\ttest: 0.7572353\tbest: 0.7572419 (209)\ttotal: 23.7s\tremaining: 1m 28s\n",
            "211:\ttest: 0.7572590\tbest: 0.7572590 (211)\ttotal: 23.8s\tremaining: 1m 28s\n",
            "212:\ttest: 0.7572776\tbest: 0.7572776 (212)\ttotal: 23.9s\tremaining: 1m 28s\n",
            "213:\ttest: 0.7573080\tbest: 0.7573080 (213)\ttotal: 24.1s\tremaining: 1m 28s\n",
            "214:\ttest: 0.7572931\tbest: 0.7573080 (213)\ttotal: 24.2s\tremaining: 1m 28s\n",
            "215:\ttest: 0.7573162\tbest: 0.7573162 (215)\ttotal: 24.3s\tremaining: 1m 28s\n",
            "216:\ttest: 0.7573192\tbest: 0.7573192 (216)\ttotal: 24.4s\tremaining: 1m 28s\n",
            "217:\ttest: 0.7573443\tbest: 0.7573443 (217)\ttotal: 24.5s\tremaining: 1m 27s\n",
            "218:\ttest: 0.7573899\tbest: 0.7573899 (218)\ttotal: 24.6s\tremaining: 1m 27s\n",
            "219:\ttest: 0.7574633\tbest: 0.7574633 (219)\ttotal: 24.8s\tremaining: 1m 27s\n",
            "220:\ttest: 0.7575884\tbest: 0.7575884 (220)\ttotal: 24.9s\tremaining: 1m 27s\n",
            "221:\ttest: 0.7576859\tbest: 0.7576859 (221)\ttotal: 25s\tremaining: 1m 27s\n",
            "222:\ttest: 0.7577004\tbest: 0.7577004 (222)\ttotal: 25.1s\tremaining: 1m 27s\n",
            "223:\ttest: 0.7577083\tbest: 0.7577083 (223)\ttotal: 25.3s\tremaining: 1m 27s\n",
            "224:\ttest: 0.7577202\tbest: 0.7577202 (224)\ttotal: 25.4s\tremaining: 1m 27s\n",
            "225:\ttest: 0.7577124\tbest: 0.7577202 (224)\ttotal: 25.5s\tremaining: 1m 27s\n",
            "226:\ttest: 0.7577530\tbest: 0.7577530 (226)\ttotal: 25.6s\tremaining: 1m 27s\n",
            "227:\ttest: 0.7577218\tbest: 0.7577530 (226)\ttotal: 25.8s\tremaining: 1m 27s\n",
            "228:\ttest: 0.7577467\tbest: 0.7577530 (226)\ttotal: 25.9s\tremaining: 1m 27s\n",
            "229:\ttest: 0.7577853\tbest: 0.7577853 (229)\ttotal: 26s\tremaining: 1m 27s\n",
            "230:\ttest: 0.7579012\tbest: 0.7579012 (230)\ttotal: 26.1s\tremaining: 1m 26s\n",
            "231:\ttest: 0.7579571\tbest: 0.7579571 (231)\ttotal: 26.2s\tremaining: 1m 26s\n",
            "232:\ttest: 0.7580351\tbest: 0.7580351 (232)\ttotal: 26.3s\tremaining: 1m 26s\n",
            "233:\ttest: 0.7580367\tbest: 0.7580367 (233)\ttotal: 26.4s\tremaining: 1m 26s\n",
            "234:\ttest: 0.7580358\tbest: 0.7580367 (233)\ttotal: 26.5s\tremaining: 1m 26s\n",
            "235:\ttest: 0.7580457\tbest: 0.7580457 (235)\ttotal: 26.6s\tremaining: 1m 26s\n",
            "236:\ttest: 0.7580874\tbest: 0.7580874 (236)\ttotal: 26.7s\tremaining: 1m 26s\n",
            "237:\ttest: 0.7581153\tbest: 0.7581153 (237)\ttotal: 26.9s\tremaining: 1m 25s\n",
            "238:\ttest: 0.7581065\tbest: 0.7581153 (237)\ttotal: 27s\tremaining: 1m 25s\n",
            "239:\ttest: 0.7581045\tbest: 0.7581153 (237)\ttotal: 27.1s\tremaining: 1m 25s\n",
            "240:\ttest: 0.7581246\tbest: 0.7581246 (240)\ttotal: 27.2s\tremaining: 1m 25s\n",
            "241:\ttest: 0.7581653\tbest: 0.7581653 (241)\ttotal: 27.3s\tremaining: 1m 25s\n",
            "242:\ttest: 0.7581995\tbest: 0.7581995 (242)\ttotal: 27.4s\tremaining: 1m 25s\n",
            "243:\ttest: 0.7582416\tbest: 0.7582416 (243)\ttotal: 27.5s\tremaining: 1m 25s\n",
            "244:\ttest: 0.7582602\tbest: 0.7582602 (244)\ttotal: 27.6s\tremaining: 1m 25s\n",
            "245:\ttest: 0.7582632\tbest: 0.7582632 (245)\ttotal: 27.7s\tremaining: 1m 25s\n",
            "246:\ttest: 0.7582680\tbest: 0.7582680 (246)\ttotal: 27.9s\tremaining: 1m 24s\n",
            "247:\ttest: 0.7583109\tbest: 0.7583109 (247)\ttotal: 28s\tremaining: 1m 24s\n",
            "248:\ttest: 0.7583403\tbest: 0.7583403 (248)\ttotal: 28.1s\tremaining: 1m 24s\n",
            "249:\ttest: 0.7583248\tbest: 0.7583403 (248)\ttotal: 28.3s\tremaining: 1m 24s\n",
            "250:\ttest: 0.7583187\tbest: 0.7583403 (248)\ttotal: 28.4s\tremaining: 1m 24s\n",
            "251:\ttest: 0.7583211\tbest: 0.7583403 (248)\ttotal: 28.5s\tremaining: 1m 24s\n",
            "252:\ttest: 0.7583289\tbest: 0.7583403 (248)\ttotal: 28.6s\tremaining: 1m 24s\n",
            "253:\ttest: 0.7584333\tbest: 0.7584333 (253)\ttotal: 28.8s\tremaining: 1m 24s\n",
            "254:\ttest: 0.7584538\tbest: 0.7584538 (254)\ttotal: 28.9s\tremaining: 1m 24s\n",
            "255:\ttest: 0.7584529\tbest: 0.7584538 (254)\ttotal: 29s\tremaining: 1m 24s\n",
            "256:\ttest: 0.7584701\tbest: 0.7584701 (256)\ttotal: 29.2s\tremaining: 1m 24s\n",
            "257:\ttest: 0.7585421\tbest: 0.7585421 (257)\ttotal: 29.3s\tremaining: 1m 24s\n",
            "258:\ttest: 0.7585057\tbest: 0.7585421 (257)\ttotal: 29.4s\tremaining: 1m 24s\n",
            "259:\ttest: 0.7585061\tbest: 0.7585421 (257)\ttotal: 29.5s\tremaining: 1m 24s\n",
            "260:\ttest: 0.7585304\tbest: 0.7585421 (257)\ttotal: 29.6s\tremaining: 1m 23s\n",
            "261:\ttest: 0.7585909\tbest: 0.7585909 (261)\ttotal: 29.8s\tremaining: 1m 23s\n",
            "262:\ttest: 0.7585951\tbest: 0.7585951 (262)\ttotal: 29.9s\tremaining: 1m 23s\n",
            "263:\ttest: 0.7586161\tbest: 0.7586161 (263)\ttotal: 30s\tremaining: 1m 23s\n",
            "264:\ttest: 0.7586473\tbest: 0.7586473 (264)\ttotal: 30.1s\tremaining: 1m 23s\n",
            "265:\ttest: 0.7587507\tbest: 0.7587507 (265)\ttotal: 30.2s\tremaining: 1m 23s\n",
            "266:\ttest: 0.7587698\tbest: 0.7587698 (266)\ttotal: 30.3s\tremaining: 1m 23s\n",
            "267:\ttest: 0.7587760\tbest: 0.7587760 (267)\ttotal: 30.5s\tremaining: 1m 23s\n",
            "268:\ttest: 0.7587961\tbest: 0.7587961 (268)\ttotal: 30.6s\tremaining: 1m 23s\n",
            "269:\ttest: 0.7588563\tbest: 0.7588563 (269)\ttotal: 30.6s\tremaining: 1m 22s\n",
            "270:\ttest: 0.7587866\tbest: 0.7588563 (269)\ttotal: 30.7s\tremaining: 1m 22s\n",
            "271:\ttest: 0.7587812\tbest: 0.7588563 (269)\ttotal: 30.9s\tremaining: 1m 22s\n",
            "272:\ttest: 0.7587830\tbest: 0.7588563 (269)\ttotal: 31s\tremaining: 1m 22s\n",
            "273:\ttest: 0.7588118\tbest: 0.7588563 (269)\ttotal: 31.1s\tremaining: 1m 22s\n",
            "274:\ttest: 0.7588761\tbest: 0.7588761 (274)\ttotal: 31.2s\tremaining: 1m 22s\n",
            "275:\ttest: 0.7589731\tbest: 0.7589731 (275)\ttotal: 31.3s\tremaining: 1m 22s\n",
            "276:\ttest: 0.7589716\tbest: 0.7589731 (275)\ttotal: 31.4s\tremaining: 1m 22s\n",
            "277:\ttest: 0.7589605\tbest: 0.7589731 (275)\ttotal: 31.5s\tremaining: 1m 21s\n",
            "278:\ttest: 0.7590603\tbest: 0.7590603 (278)\ttotal: 31.6s\tremaining: 1m 21s\n",
            "279:\ttest: 0.7590923\tbest: 0.7590923 (279)\ttotal: 31.7s\tremaining: 1m 21s\n",
            "280:\ttest: 0.7591152\tbest: 0.7591152 (280)\ttotal: 31.9s\tremaining: 1m 21s\n",
            "281:\ttest: 0.7591448\tbest: 0.7591448 (281)\ttotal: 32s\tremaining: 1m 21s\n",
            "282:\ttest: 0.7591724\tbest: 0.7591724 (282)\ttotal: 32.1s\tremaining: 1m 21s\n",
            "283:\ttest: 0.7591929\tbest: 0.7591929 (283)\ttotal: 32.2s\tremaining: 1m 21s\n",
            "284:\ttest: 0.7592298\tbest: 0.7592298 (284)\ttotal: 32.4s\tremaining: 1m 21s\n",
            "285:\ttest: 0.7593394\tbest: 0.7593394 (285)\ttotal: 32.5s\tremaining: 1m 21s\n",
            "286:\ttest: 0.7594372\tbest: 0.7594372 (286)\ttotal: 32.6s\tremaining: 1m 21s\n",
            "287:\ttest: 0.7594570\tbest: 0.7594570 (287)\ttotal: 32.8s\tremaining: 1m 20s\n",
            "288:\ttest: 0.7594956\tbest: 0.7594956 (288)\ttotal: 32.9s\tremaining: 1m 20s\n",
            "289:\ttest: 0.7594950\tbest: 0.7594956 (288)\ttotal: 33s\tremaining: 1m 20s\n",
            "290:\ttest: 0.7595525\tbest: 0.7595525 (290)\ttotal: 33.1s\tremaining: 1m 20s\n",
            "291:\ttest: 0.7595419\tbest: 0.7595525 (290)\ttotal: 33.2s\tremaining: 1m 20s\n",
            "292:\ttest: 0.7595302\tbest: 0.7595525 (290)\ttotal: 33.4s\tremaining: 1m 20s\n",
            "293:\ttest: 0.7595217\tbest: 0.7595525 (290)\ttotal: 33.5s\tremaining: 1m 20s\n",
            "294:\ttest: 0.7595259\tbest: 0.7595525 (290)\ttotal: 33.6s\tremaining: 1m 20s\n",
            "295:\ttest: 0.7595462\tbest: 0.7595525 (290)\ttotal: 33.8s\tremaining: 1m 20s\n",
            "296:\ttest: 0.7595505\tbest: 0.7595525 (290)\ttotal: 33.9s\tremaining: 1m 20s\n",
            "297:\ttest: 0.7595662\tbest: 0.7595662 (297)\ttotal: 34s\tremaining: 1m 20s\n",
            "298:\ttest: 0.7595892\tbest: 0.7595892 (298)\ttotal: 34.1s\tremaining: 1m 20s\n",
            "299:\ttest: 0.7596034\tbest: 0.7596034 (299)\ttotal: 34.2s\tremaining: 1m 19s\n",
            "300:\ttest: 0.7596315\tbest: 0.7596315 (300)\ttotal: 34.4s\tremaining: 1m 19s\n",
            "301:\ttest: 0.7596548\tbest: 0.7596548 (301)\ttotal: 34.5s\tremaining: 1m 19s\n",
            "302:\ttest: 0.7596451\tbest: 0.7596548 (301)\ttotal: 34.6s\tremaining: 1m 19s\n",
            "303:\ttest: 0.7596652\tbest: 0.7596652 (303)\ttotal: 34.7s\tremaining: 1m 19s\n",
            "304:\ttest: 0.7596195\tbest: 0.7596652 (303)\ttotal: 34.8s\tremaining: 1m 19s\n",
            "305:\ttest: 0.7596255\tbest: 0.7596652 (303)\ttotal: 34.9s\tremaining: 1m 19s\n",
            "306:\ttest: 0.7596637\tbest: 0.7596652 (303)\ttotal: 35s\tremaining: 1m 19s\n",
            "307:\ttest: 0.7597186\tbest: 0.7597186 (307)\ttotal: 35.2s\tremaining: 1m 19s\n",
            "308:\ttest: 0.7596943\tbest: 0.7597186 (307)\ttotal: 35.3s\tremaining: 1m 18s\n",
            "309:\ttest: 0.7597548\tbest: 0.7597548 (309)\ttotal: 35.4s\tremaining: 1m 18s\n",
            "310:\ttest: 0.7597855\tbest: 0.7597855 (310)\ttotal: 35.5s\tremaining: 1m 18s\n",
            "311:\ttest: 0.7598476\tbest: 0.7598476 (311)\ttotal: 35.6s\tremaining: 1m 18s\n",
            "312:\ttest: 0.7598347\tbest: 0.7598476 (311)\ttotal: 35.7s\tremaining: 1m 18s\n",
            "313:\ttest: 0.7599041\tbest: 0.7599041 (313)\ttotal: 35.8s\tremaining: 1m 18s\n",
            "314:\ttest: 0.7599559\tbest: 0.7599559 (314)\ttotal: 35.9s\tremaining: 1m 18s\n",
            "315:\ttest: 0.7599424\tbest: 0.7599559 (314)\ttotal: 36.1s\tremaining: 1m 18s\n",
            "316:\ttest: 0.7599874\tbest: 0.7599874 (316)\ttotal: 36.2s\tremaining: 1m 17s\n",
            "317:\ttest: 0.7599868\tbest: 0.7599874 (316)\ttotal: 36.3s\tremaining: 1m 17s\n",
            "318:\ttest: 0.7599865\tbest: 0.7599874 (316)\ttotal: 36.4s\tremaining: 1m 17s\n",
            "319:\ttest: 0.7599838\tbest: 0.7599874 (316)\ttotal: 36.5s\tremaining: 1m 17s\n",
            "320:\ttest: 0.7600625\tbest: 0.7600625 (320)\ttotal: 36.6s\tremaining: 1m 17s\n",
            "321:\ttest: 0.7600511\tbest: 0.7600625 (320)\ttotal: 36.8s\tremaining: 1m 17s\n",
            "322:\ttest: 0.7601437\tbest: 0.7601437 (322)\ttotal: 36.9s\tremaining: 1m 17s\n",
            "323:\ttest: 0.7601545\tbest: 0.7601545 (323)\ttotal: 37s\tremaining: 1m 17s\n",
            "324:\ttest: 0.7601476\tbest: 0.7601545 (323)\ttotal: 37.1s\tremaining: 1m 17s\n",
            "325:\ttest: 0.7601426\tbest: 0.7601545 (323)\ttotal: 37.2s\tremaining: 1m 16s\n",
            "326:\ttest: 0.7601793\tbest: 0.7601793 (326)\ttotal: 37.3s\tremaining: 1m 16s\n",
            "327:\ttest: 0.7601697\tbest: 0.7601793 (326)\ttotal: 37.4s\tremaining: 1m 16s\n",
            "328:\ttest: 0.7602296\tbest: 0.7602296 (328)\ttotal: 37.5s\tremaining: 1m 16s\n",
            "329:\ttest: 0.7602215\tbest: 0.7602296 (328)\ttotal: 37.7s\tremaining: 1m 16s\n",
            "330:\ttest: 0.7602537\tbest: 0.7602537 (330)\ttotal: 37.7s\tremaining: 1m 16s\n",
            "331:\ttest: 0.7602590\tbest: 0.7602590 (331)\ttotal: 37.8s\tremaining: 1m 16s\n",
            "332:\ttest: 0.7602953\tbest: 0.7602953 (332)\ttotal: 37.9s\tremaining: 1m 15s\n",
            "333:\ttest: 0.7602827\tbest: 0.7602953 (332)\ttotal: 38s\tremaining: 1m 15s\n",
            "334:\ttest: 0.7602877\tbest: 0.7602953 (332)\ttotal: 38.1s\tremaining: 1m 15s\n",
            "335:\ttest: 0.7602835\tbest: 0.7602953 (332)\ttotal: 38.2s\tremaining: 1m 15s\n",
            "336:\ttest: 0.7603022\tbest: 0.7603022 (336)\ttotal: 38.3s\tremaining: 1m 15s\n",
            "337:\ttest: 0.7603396\tbest: 0.7603396 (337)\ttotal: 38.4s\tremaining: 1m 15s\n",
            "338:\ttest: 0.7603306\tbest: 0.7603396 (337)\ttotal: 38.5s\tremaining: 1m 15s\n",
            "339:\ttest: 0.7603718\tbest: 0.7603718 (339)\ttotal: 38.6s\tremaining: 1m 15s\n",
            "340:\ttest: 0.7603701\tbest: 0.7603718 (339)\ttotal: 38.8s\tremaining: 1m 14s\n",
            "341:\ttest: 0.7603703\tbest: 0.7603718 (339)\ttotal: 38.9s\tremaining: 1m 14s\n",
            "342:\ttest: 0.7603859\tbest: 0.7603859 (342)\ttotal: 39s\tremaining: 1m 14s\n",
            "343:\ttest: 0.7603733\tbest: 0.7603859 (342)\ttotal: 39s\tremaining: 1m 14s\n",
            "344:\ttest: 0.7603968\tbest: 0.7603968 (344)\ttotal: 39.1s\tremaining: 1m 14s\n",
            "345:\ttest: 0.7603985\tbest: 0.7603985 (345)\ttotal: 39.2s\tremaining: 1m 14s\n",
            "346:\ttest: 0.7604259\tbest: 0.7604259 (346)\ttotal: 39.3s\tremaining: 1m 13s\n",
            "347:\ttest: 0.7604479\tbest: 0.7604479 (347)\ttotal: 39.4s\tremaining: 1m 13s\n",
            "348:\ttest: 0.7604446\tbest: 0.7604479 (347)\ttotal: 39.5s\tremaining: 1m 13s\n",
            "349:\ttest: 0.7604329\tbest: 0.7604479 (347)\ttotal: 39.7s\tremaining: 1m 13s\n",
            "350:\ttest: 0.7604267\tbest: 0.7604479 (347)\ttotal: 39.8s\tremaining: 1m 13s\n",
            "351:\ttest: 0.7604225\tbest: 0.7604479 (347)\ttotal: 39.9s\tremaining: 1m 13s\n",
            "352:\ttest: 0.7604427\tbest: 0.7604479 (347)\ttotal: 40s\tremaining: 1m 13s\n",
            "353:\ttest: 0.7604298\tbest: 0.7604479 (347)\ttotal: 40.1s\tremaining: 1m 13s\n",
            "354:\ttest: 0.7604393\tbest: 0.7604479 (347)\ttotal: 40.3s\tremaining: 1m 13s\n",
            "355:\ttest: 0.7604709\tbest: 0.7604709 (355)\ttotal: 40.4s\tremaining: 1m 13s\n",
            "356:\ttest: 0.7605048\tbest: 0.7605048 (356)\ttotal: 40.5s\tremaining: 1m 12s\n",
            "357:\ttest: 0.7605184\tbest: 0.7605184 (357)\ttotal: 40.6s\tremaining: 1m 12s\n",
            "358:\ttest: 0.7605078\tbest: 0.7605184 (357)\ttotal: 40.7s\tremaining: 1m 12s\n",
            "359:\ttest: 0.7605394\tbest: 0.7605394 (359)\ttotal: 40.8s\tremaining: 1m 12s\n",
            "360:\ttest: 0.7605331\tbest: 0.7605394 (359)\ttotal: 40.9s\tremaining: 1m 12s\n",
            "361:\ttest: 0.7605674\tbest: 0.7605674 (361)\ttotal: 41s\tremaining: 1m 12s\n",
            "362:\ttest: 0.7605761\tbest: 0.7605761 (362)\ttotal: 41.1s\tremaining: 1m 12s\n",
            "363:\ttest: 0.7605590\tbest: 0.7605761 (362)\ttotal: 41.2s\tremaining: 1m 11s\n",
            "364:\ttest: 0.7605511\tbest: 0.7605761 (362)\ttotal: 41.3s\tremaining: 1m 11s\n",
            "365:\ttest: 0.7605479\tbest: 0.7605761 (362)\ttotal: 41.4s\tremaining: 1m 11s\n",
            "366:\ttest: 0.7605412\tbest: 0.7605761 (362)\ttotal: 41.5s\tremaining: 1m 11s\n",
            "367:\ttest: 0.7605805\tbest: 0.7605805 (367)\ttotal: 41.6s\tremaining: 1m 11s\n",
            "368:\ttest: 0.7605947\tbest: 0.7605947 (368)\ttotal: 41.7s\tremaining: 1m 11s\n",
            "369:\ttest: 0.7605861\tbest: 0.7605947 (368)\ttotal: 41.8s\tremaining: 1m 11s\n",
            "370:\ttest: 0.7606031\tbest: 0.7606031 (370)\ttotal: 41.9s\tremaining: 1m 11s\n",
            "371:\ttest: 0.7606974\tbest: 0.7606974 (371)\ttotal: 42s\tremaining: 1m 10s\n",
            "372:\ttest: 0.7606859\tbest: 0.7606974 (371)\ttotal: 42.1s\tremaining: 1m 10s\n",
            "373:\ttest: 0.7607376\tbest: 0.7607376 (373)\ttotal: 42.3s\tremaining: 1m 10s\n",
            "374:\ttest: 0.7607252\tbest: 0.7607376 (373)\ttotal: 42.4s\tremaining: 1m 10s\n",
            "375:\ttest: 0.7607646\tbest: 0.7607646 (375)\ttotal: 42.4s\tremaining: 1m 10s\n",
            "376:\ttest: 0.7607776\tbest: 0.7607776 (376)\ttotal: 42.6s\tremaining: 1m 10s\n",
            "377:\ttest: 0.7607748\tbest: 0.7607776 (376)\ttotal: 42.7s\tremaining: 1m 10s\n",
            "378:\ttest: 0.7607970\tbest: 0.7607970 (378)\ttotal: 42.8s\tremaining: 1m 10s\n",
            "379:\ttest: 0.7608166\tbest: 0.7608166 (379)\ttotal: 42.9s\tremaining: 1m 10s\n",
            "380:\ttest: 0.7608763\tbest: 0.7608763 (380)\ttotal: 43s\tremaining: 1m 9s\n",
            "381:\ttest: 0.7608651\tbest: 0.7608763 (380)\ttotal: 43.1s\tremaining: 1m 9s\n",
            "382:\ttest: 0.7608504\tbest: 0.7608763 (380)\ttotal: 43.2s\tremaining: 1m 9s\n",
            "383:\ttest: 0.7608638\tbest: 0.7608763 (380)\ttotal: 43.4s\tremaining: 1m 9s\n",
            "384:\ttest: 0.7608910\tbest: 0.7608910 (384)\ttotal: 43.5s\tremaining: 1m 9s\n",
            "385:\ttest: 0.7609543\tbest: 0.7609543 (385)\ttotal: 43.6s\tremaining: 1m 9s\n",
            "386:\ttest: 0.7609597\tbest: 0.7609597 (386)\ttotal: 43.7s\tremaining: 1m 9s\n",
            "387:\ttest: 0.7609558\tbest: 0.7609597 (386)\ttotal: 43.8s\tremaining: 1m 9s\n",
            "388:\ttest: 0.7609448\tbest: 0.7609597 (386)\ttotal: 43.9s\tremaining: 1m 8s\n",
            "389:\ttest: 0.7609597\tbest: 0.7609597 (386)\ttotal: 44s\tremaining: 1m 8s\n",
            "390:\ttest: 0.7609861\tbest: 0.7609861 (390)\ttotal: 44.1s\tremaining: 1m 8s\n",
            "391:\ttest: 0.7610660\tbest: 0.7610660 (391)\ttotal: 44.2s\tremaining: 1m 8s\n",
            "392:\ttest: 0.7610675\tbest: 0.7610675 (392)\ttotal: 44.3s\tremaining: 1m 8s\n",
            "393:\ttest: 0.7610647\tbest: 0.7610675 (392)\ttotal: 44.4s\tremaining: 1m 8s\n",
            "394:\ttest: 0.7610694\tbest: 0.7610694 (394)\ttotal: 44.5s\tremaining: 1m 8s\n",
            "395:\ttest: 0.7610539\tbest: 0.7610694 (394)\ttotal: 44.6s\tremaining: 1m 8s\n",
            "396:\ttest: 0.7610601\tbest: 0.7610694 (394)\ttotal: 44.7s\tremaining: 1m 7s\n",
            "397:\ttest: 0.7610643\tbest: 0.7610694 (394)\ttotal: 44.9s\tremaining: 1m 7s\n",
            "398:\ttest: 0.7610776\tbest: 0.7610776 (398)\ttotal: 45s\tremaining: 1m 7s\n",
            "399:\ttest: 0.7611070\tbest: 0.7611070 (399)\ttotal: 45.1s\tremaining: 1m 7s\n",
            "400:\ttest: 0.7611304\tbest: 0.7611304 (400)\ttotal: 45.2s\tremaining: 1m 7s\n",
            "401:\ttest: 0.7611333\tbest: 0.7611333 (401)\ttotal: 45.3s\tremaining: 1m 7s\n",
            "402:\ttest: 0.7611526\tbest: 0.7611526 (402)\ttotal: 45.4s\tremaining: 1m 7s\n",
            "403:\ttest: 0.7611546\tbest: 0.7611546 (403)\ttotal: 45.5s\tremaining: 1m 7s\n",
            "404:\ttest: 0.7611456\tbest: 0.7611546 (403)\ttotal: 45.7s\tremaining: 1m 7s\n",
            "405:\ttest: 0.7611805\tbest: 0.7611805 (405)\ttotal: 45.8s\tremaining: 1m 6s\n",
            "406:\ttest: 0.7611588\tbest: 0.7611805 (405)\ttotal: 45.9s\tremaining: 1m 6s\n",
            "407:\ttest: 0.7612575\tbest: 0.7612575 (407)\ttotal: 46s\tremaining: 1m 6s\n",
            "408:\ttest: 0.7612506\tbest: 0.7612575 (407)\ttotal: 46.1s\tremaining: 1m 6s\n",
            "409:\ttest: 0.7612559\tbest: 0.7612575 (407)\ttotal: 46.2s\tremaining: 1m 6s\n",
            "410:\ttest: 0.7612507\tbest: 0.7612575 (407)\ttotal: 46.3s\tremaining: 1m 6s\n",
            "411:\ttest: 0.7612976\tbest: 0.7612976 (411)\ttotal: 46.4s\tremaining: 1m 6s\n",
            "412:\ttest: 0.7613669\tbest: 0.7613669 (412)\ttotal: 46.6s\tremaining: 1m 6s\n",
            "413:\ttest: 0.7614277\tbest: 0.7614277 (413)\ttotal: 46.7s\tremaining: 1m 6s\n",
            "414:\ttest: 0.7614299\tbest: 0.7614299 (414)\ttotal: 46.8s\tremaining: 1m 5s\n",
            "415:\ttest: 0.7614174\tbest: 0.7614299 (414)\ttotal: 46.8s\tremaining: 1m 5s\n",
            "416:\ttest: 0.7614477\tbest: 0.7614477 (416)\ttotal: 47s\tremaining: 1m 5s\n",
            "417:\ttest: 0.7614432\tbest: 0.7614477 (416)\ttotal: 47.1s\tremaining: 1m 5s\n",
            "418:\ttest: 0.7614903\tbest: 0.7614903 (418)\ttotal: 47.2s\tremaining: 1m 5s\n",
            "419:\ttest: 0.7614653\tbest: 0.7614903 (418)\ttotal: 47.4s\tremaining: 1m 5s\n",
            "420:\ttest: 0.7615452\tbest: 0.7615452 (420)\ttotal: 47.5s\tremaining: 1m 5s\n",
            "421:\ttest: 0.7615704\tbest: 0.7615704 (421)\ttotal: 47.6s\tremaining: 1m 5s\n",
            "422:\ttest: 0.7616440\tbest: 0.7616440 (422)\ttotal: 47.7s\tremaining: 1m 5s\n",
            "423:\ttest: 0.7616679\tbest: 0.7616679 (423)\ttotal: 47.8s\tremaining: 1m 4s\n",
            "424:\ttest: 0.7615986\tbest: 0.7616679 (423)\ttotal: 47.9s\tremaining: 1m 4s\n",
            "425:\ttest: 0.7616024\tbest: 0.7616679 (423)\ttotal: 48s\tremaining: 1m 4s\n",
            "426:\ttest: 0.7615870\tbest: 0.7616679 (423)\ttotal: 48.1s\tremaining: 1m 4s\n",
            "427:\ttest: 0.7615790\tbest: 0.7616679 (423)\ttotal: 48.3s\tremaining: 1m 4s\n",
            "428:\ttest: 0.7616650\tbest: 0.7616679 (423)\ttotal: 48.4s\tremaining: 1m 4s\n",
            "429:\ttest: 0.7616490\tbest: 0.7616679 (423)\ttotal: 48.5s\tremaining: 1m 4s\n",
            "430:\ttest: 0.7616789\tbest: 0.7616789 (430)\ttotal: 48.6s\tremaining: 1m 4s\n",
            "431:\ttest: 0.7616828\tbest: 0.7616828 (431)\ttotal: 48.7s\tremaining: 1m 4s\n",
            "432:\ttest: 0.7616926\tbest: 0.7616926 (432)\ttotal: 48.8s\tremaining: 1m 3s\n",
            "433:\ttest: 0.7616914\tbest: 0.7616926 (432)\ttotal: 49s\tremaining: 1m 3s\n",
            "434:\ttest: 0.7616974\tbest: 0.7616974 (434)\ttotal: 49.1s\tremaining: 1m 3s\n",
            "435:\ttest: 0.7617043\tbest: 0.7617043 (435)\ttotal: 49.2s\tremaining: 1m 3s\n",
            "436:\ttest: 0.7616800\tbest: 0.7617043 (435)\ttotal: 49.3s\tremaining: 1m 3s\n",
            "437:\ttest: 0.7616919\tbest: 0.7617043 (435)\ttotal: 49.4s\tremaining: 1m 3s\n",
            "438:\ttest: 0.7616625\tbest: 0.7617043 (435)\ttotal: 49.5s\tremaining: 1m 3s\n",
            "439:\ttest: 0.7616596\tbest: 0.7617043 (435)\ttotal: 49.6s\tremaining: 1m 3s\n",
            "440:\ttest: 0.7616963\tbest: 0.7617043 (435)\ttotal: 49.8s\tremaining: 1m 3s\n",
            "441:\ttest: 0.7617073\tbest: 0.7617073 (441)\ttotal: 49.9s\tremaining: 1m 2s\n",
            "442:\ttest: 0.7617166\tbest: 0.7617166 (442)\ttotal: 50s\tremaining: 1m 2s\n",
            "443:\ttest: 0.7616996\tbest: 0.7617166 (442)\ttotal: 50.1s\tremaining: 1m 2s\n",
            "444:\ttest: 0.7616867\tbest: 0.7617166 (442)\ttotal: 50.3s\tremaining: 1m 2s\n",
            "445:\ttest: 0.7616760\tbest: 0.7617166 (442)\ttotal: 50.4s\tremaining: 1m 2s\n",
            "446:\ttest: 0.7617407\tbest: 0.7617407 (446)\ttotal: 50.5s\tremaining: 1m 2s\n",
            "447:\ttest: 0.7617792\tbest: 0.7617792 (447)\ttotal: 50.6s\tremaining: 1m 2s\n",
            "448:\ttest: 0.7618135\tbest: 0.7618135 (448)\ttotal: 50.7s\tremaining: 1m 2s\n",
            "449:\ttest: 0.7617881\tbest: 0.7618135 (448)\ttotal: 50.8s\tremaining: 1m 2s\n",
            "450:\ttest: 0.7618514\tbest: 0.7618514 (450)\ttotal: 51s\tremaining: 1m 2s\n",
            "451:\ttest: 0.7618528\tbest: 0.7618528 (451)\ttotal: 51.1s\tremaining: 1m 1s\n",
            "452:\ttest: 0.7618591\tbest: 0.7618591 (452)\ttotal: 51.2s\tremaining: 1m 1s\n",
            "453:\ttest: 0.7618996\tbest: 0.7618996 (453)\ttotal: 51.3s\tremaining: 1m 1s\n",
            "454:\ttest: 0.7619012\tbest: 0.7619012 (454)\ttotal: 51.4s\tremaining: 1m 1s\n",
            "455:\ttest: 0.7619134\tbest: 0.7619134 (455)\ttotal: 51.5s\tremaining: 1m 1s\n",
            "456:\ttest: 0.7618501\tbest: 0.7619134 (455)\ttotal: 51.7s\tremaining: 1m 1s\n",
            "457:\ttest: 0.7618408\tbest: 0.7619134 (455)\ttotal: 51.8s\tremaining: 1m 1s\n",
            "458:\ttest: 0.7617976\tbest: 0.7619134 (455)\ttotal: 51.9s\tremaining: 1m 1s\n",
            "459:\ttest: 0.7617836\tbest: 0.7619134 (455)\ttotal: 52s\tremaining: 1m 1s\n",
            "460:\ttest: 0.7617669\tbest: 0.7619134 (455)\ttotal: 52.1s\tremaining: 1m\n",
            "461:\ttest: 0.7617613\tbest: 0.7619134 (455)\ttotal: 52.3s\tremaining: 1m\n",
            "462:\ttest: 0.7617623\tbest: 0.7619134 (455)\ttotal: 52.4s\tremaining: 1m\n",
            "463:\ttest: 0.7617681\tbest: 0.7619134 (455)\ttotal: 52.5s\tremaining: 1m\n",
            "464:\ttest: 0.7617753\tbest: 0.7619134 (455)\ttotal: 52.6s\tremaining: 1m\n",
            "465:\ttest: 0.7617503\tbest: 0.7619134 (455)\ttotal: 52.7s\tremaining: 1m\n",
            "466:\ttest: 0.7617500\tbest: 0.7619134 (455)\ttotal: 52.8s\tremaining: 1m\n",
            "467:\ttest: 0.7617672\tbest: 0.7619134 (455)\ttotal: 52.9s\tremaining: 1m\n",
            "468:\ttest: 0.7617670\tbest: 0.7619134 (455)\ttotal: 53s\tremaining: 1m\n",
            "469:\ttest: 0.7618452\tbest: 0.7619134 (455)\ttotal: 53.2s\tremaining: 60s\n",
            "470:\ttest: 0.7618474\tbest: 0.7619134 (455)\ttotal: 53.3s\tremaining: 59.8s\n",
            "471:\ttest: 0.7618423\tbest: 0.7619134 (455)\ttotal: 53.4s\tremaining: 59.7s\n",
            "472:\ttest: 0.7618352\tbest: 0.7619134 (455)\ttotal: 53.5s\tremaining: 59.6s\n",
            "473:\ttest: 0.7618412\tbest: 0.7619134 (455)\ttotal: 53.6s\tremaining: 59.5s\n",
            "474:\ttest: 0.7618645\tbest: 0.7619134 (455)\ttotal: 53.8s\tremaining: 59.4s\n",
            "475:\ttest: 0.7618786\tbest: 0.7619134 (455)\ttotal: 53.9s\tremaining: 59.3s\n",
            "476:\ttest: 0.7618786\tbest: 0.7619134 (455)\ttotal: 54s\tremaining: 59.2s\n",
            "477:\ttest: 0.7618805\tbest: 0.7619134 (455)\ttotal: 54.1s\tremaining: 59.1s\n",
            "478:\ttest: 0.7618718\tbest: 0.7619134 (455)\ttotal: 54.2s\tremaining: 59s\n",
            "479:\ttest: 0.7618723\tbest: 0.7619134 (455)\ttotal: 54.3s\tremaining: 58.9s\n",
            "480:\ttest: 0.7618902\tbest: 0.7619134 (455)\ttotal: 54.5s\tremaining: 58.8s\n",
            "481:\ttest: 0.7618764\tbest: 0.7619134 (455)\ttotal: 54.6s\tremaining: 58.7s\n",
            "482:\ttest: 0.7619397\tbest: 0.7619397 (482)\ttotal: 54.7s\tremaining: 58.6s\n",
            "483:\ttest: 0.7618879\tbest: 0.7619397 (482)\ttotal: 54.9s\tremaining: 58.5s\n",
            "484:\ttest: 0.7618906\tbest: 0.7619397 (482)\ttotal: 55s\tremaining: 58.4s\n",
            "485:\ttest: 0.7618816\tbest: 0.7619397 (482)\ttotal: 55.1s\tremaining: 58.3s\n",
            "486:\ttest: 0.7618707\tbest: 0.7619397 (482)\ttotal: 55.2s\tremaining: 58.1s\n",
            "487:\ttest: 0.7620238\tbest: 0.7620238 (487)\ttotal: 55.3s\tremaining: 58s\n",
            "488:\ttest: 0.7620204\tbest: 0.7620238 (487)\ttotal: 55.4s\tremaining: 57.9s\n",
            "489:\ttest: 0.7620564\tbest: 0.7620564 (489)\ttotal: 55.5s\tremaining: 57.8s\n",
            "490:\ttest: 0.7620678\tbest: 0.7620678 (490)\ttotal: 55.7s\tremaining: 57.7s\n",
            "491:\ttest: 0.7620626\tbest: 0.7620678 (490)\ttotal: 55.8s\tremaining: 57.6s\n",
            "492:\ttest: 0.7620714\tbest: 0.7620714 (492)\ttotal: 55.9s\tremaining: 57.5s\n",
            "493:\ttest: 0.7620449\tbest: 0.7620714 (492)\ttotal: 56.1s\tremaining: 57.4s\n",
            "494:\ttest: 0.7620196\tbest: 0.7620714 (492)\ttotal: 56.2s\tremaining: 57.3s\n",
            "495:\ttest: 0.7620272\tbest: 0.7620714 (492)\ttotal: 56.3s\tremaining: 57.2s\n",
            "496:\ttest: 0.7620671\tbest: 0.7620714 (492)\ttotal: 56.4s\tremaining: 57.1s\n",
            "497:\ttest: 0.7620795\tbest: 0.7620795 (497)\ttotal: 56.5s\tremaining: 56.9s\n",
            "498:\ttest: 0.7621439\tbest: 0.7621439 (498)\ttotal: 56.6s\tremaining: 56.8s\n",
            "499:\ttest: 0.7621425\tbest: 0.7621439 (498)\ttotal: 56.7s\tremaining: 56.7s\n",
            "500:\ttest: 0.7621897\tbest: 0.7621897 (500)\ttotal: 56.8s\tremaining: 56.6s\n",
            "501:\ttest: 0.7621912\tbest: 0.7621912 (501)\ttotal: 56.9s\tremaining: 56.5s\n",
            "502:\ttest: 0.7621706\tbest: 0.7621912 (501)\ttotal: 57s\tremaining: 56.3s\n",
            "503:\ttest: 0.7621685\tbest: 0.7621912 (501)\ttotal: 57.1s\tremaining: 56.2s\n",
            "504:\ttest: 0.7621423\tbest: 0.7621912 (501)\ttotal: 57.2s\tremaining: 56.1s\n",
            "505:\ttest: 0.7621588\tbest: 0.7621912 (501)\ttotal: 57.4s\tremaining: 56s\n",
            "506:\ttest: 0.7621526\tbest: 0.7621912 (501)\ttotal: 57.5s\tremaining: 55.9s\n",
            "507:\ttest: 0.7621737\tbest: 0.7621912 (501)\ttotal: 57.6s\tremaining: 55.8s\n",
            "508:\ttest: 0.7621466\tbest: 0.7621912 (501)\ttotal: 57.8s\tremaining: 55.7s\n",
            "509:\ttest: 0.7621449\tbest: 0.7621912 (501)\ttotal: 57.9s\tremaining: 55.6s\n",
            "510:\ttest: 0.7621612\tbest: 0.7621912 (501)\ttotal: 58s\tremaining: 55.5s\n",
            "511:\ttest: 0.7622139\tbest: 0.7622139 (511)\ttotal: 58.1s\tremaining: 55.4s\n",
            "512:\ttest: 0.7621923\tbest: 0.7622139 (511)\ttotal: 58.2s\tremaining: 55.3s\n",
            "513:\ttest: 0.7621502\tbest: 0.7622139 (511)\ttotal: 58.4s\tremaining: 55.2s\n",
            "514:\ttest: 0.7621784\tbest: 0.7622139 (511)\ttotal: 58.5s\tremaining: 55.1s\n",
            "515:\ttest: 0.7621885\tbest: 0.7622139 (511)\ttotal: 58.6s\tremaining: 55s\n",
            "516:\ttest: 0.7621902\tbest: 0.7622139 (511)\ttotal: 58.7s\tremaining: 54.9s\n",
            "517:\ttest: 0.7622467\tbest: 0.7622467 (517)\ttotal: 58.9s\tremaining: 54.8s\n",
            "518:\ttest: 0.7622621\tbest: 0.7622621 (518)\ttotal: 59s\tremaining: 54.7s\n",
            "519:\ttest: 0.7622655\tbest: 0.7622655 (519)\ttotal: 59.1s\tremaining: 54.6s\n",
            "520:\ttest: 0.7622749\tbest: 0.7622749 (520)\ttotal: 59.2s\tremaining: 54.5s\n",
            "521:\ttest: 0.7622793\tbest: 0.7622793 (521)\ttotal: 59.3s\tremaining: 54.3s\n",
            "522:\ttest: 0.7623029\tbest: 0.7623029 (522)\ttotal: 59.5s\tremaining: 54.2s\n",
            "523:\ttest: 0.7622741\tbest: 0.7623029 (522)\ttotal: 59.6s\tremaining: 54.1s\n",
            "524:\ttest: 0.7622464\tbest: 0.7623029 (522)\ttotal: 59.7s\tremaining: 54s\n",
            "525:\ttest: 0.7622411\tbest: 0.7623029 (522)\ttotal: 59.8s\tremaining: 53.9s\n",
            "526:\ttest: 0.7622100\tbest: 0.7623029 (522)\ttotal: 59.9s\tremaining: 53.8s\n",
            "527:\ttest: 0.7622104\tbest: 0.7623029 (522)\ttotal: 1m\tremaining: 53.6s\n",
            "528:\ttest: 0.7620724\tbest: 0.7623029 (522)\ttotal: 1m\tremaining: 53.5s\n",
            "529:\ttest: 0.7620551\tbest: 0.7623029 (522)\ttotal: 1m\tremaining: 53.4s\n",
            "530:\ttest: 0.7620382\tbest: 0.7623029 (522)\ttotal: 1m\tremaining: 53.3s\n",
            "531:\ttest: 0.7621104\tbest: 0.7623029 (522)\ttotal: 1m\tremaining: 53.3s\n",
            "532:\ttest: 0.7621220\tbest: 0.7623029 (522)\ttotal: 1m\tremaining: 53.1s\n",
            "533:\ttest: 0.7621174\tbest: 0.7623029 (522)\ttotal: 1m\tremaining: 53s\n",
            "534:\ttest: 0.7621175\tbest: 0.7623029 (522)\ttotal: 1m\tremaining: 52.9s\n",
            "535:\ttest: 0.7621213\tbest: 0.7623029 (522)\ttotal: 1m\tremaining: 52.8s\n",
            "536:\ttest: 0.7621206\tbest: 0.7623029 (522)\ttotal: 1m 1s\tremaining: 52.7s\n",
            "537:\ttest: 0.7621128\tbest: 0.7623029 (522)\ttotal: 1m 1s\tremaining: 52.5s\n",
            "538:\ttest: 0.7621152\tbest: 0.7623029 (522)\ttotal: 1m 1s\tremaining: 52.4s\n",
            "539:\ttest: 0.7621154\tbest: 0.7623029 (522)\ttotal: 1m 1s\tremaining: 52.3s\n",
            "540:\ttest: 0.7621302\tbest: 0.7623029 (522)\ttotal: 1m 1s\tremaining: 52.2s\n",
            "541:\ttest: 0.7621172\tbest: 0.7623029 (522)\ttotal: 1m 1s\tremaining: 52.1s\n",
            "542:\ttest: 0.7621166\tbest: 0.7623029 (522)\ttotal: 1m 1s\tremaining: 52s\n",
            "543:\ttest: 0.7621022\tbest: 0.7623029 (522)\ttotal: 1m 1s\tremaining: 51.9s\n",
            "544:\ttest: 0.7620611\tbest: 0.7623029 (522)\ttotal: 1m 2s\tremaining: 51.8s\n",
            "545:\ttest: 0.7620456\tbest: 0.7623029 (522)\ttotal: 1m 2s\tremaining: 51.7s\n",
            "546:\ttest: 0.7620275\tbest: 0.7623029 (522)\ttotal: 1m 2s\tremaining: 51.6s\n",
            "547:\ttest: 0.7620372\tbest: 0.7623029 (522)\ttotal: 1m 2s\tremaining: 51.5s\n",
            "548:\ttest: 0.7620215\tbest: 0.7623029 (522)\ttotal: 1m 2s\tremaining: 51.3s\n",
            "549:\ttest: 0.7620239\tbest: 0.7623029 (522)\ttotal: 1m 2s\tremaining: 51.2s\n",
            "550:\ttest: 0.7619422\tbest: 0.7623029 (522)\ttotal: 1m 2s\tremaining: 51.1s\n",
            "551:\ttest: 0.7619342\tbest: 0.7623029 (522)\ttotal: 1m 2s\tremaining: 51s\n",
            "552:\ttest: 0.7619926\tbest: 0.7623029 (522)\ttotal: 1m 2s\tremaining: 50.8s\n",
            "553:\ttest: 0.7619886\tbest: 0.7623029 (522)\ttotal: 1m 3s\tremaining: 50.7s\n",
            "554:\ttest: 0.7619875\tbest: 0.7623029 (522)\ttotal: 1m 3s\tremaining: 50.6s\n",
            "555:\ttest: 0.7620014\tbest: 0.7623029 (522)\ttotal: 1m 3s\tremaining: 50.5s\n",
            "556:\ttest: 0.7620078\tbest: 0.7623029 (522)\ttotal: 1m 3s\tremaining: 50.4s\n",
            "557:\ttest: 0.7620181\tbest: 0.7623029 (522)\ttotal: 1m 3s\tremaining: 50.3s\n",
            "558:\ttest: 0.7619794\tbest: 0.7623029 (522)\ttotal: 1m 3s\tremaining: 50.2s\n",
            "559:\ttest: 0.7619603\tbest: 0.7623029 (522)\ttotal: 1m 3s\tremaining: 50.1s\n",
            "560:\ttest: 0.7619512\tbest: 0.7623029 (522)\ttotal: 1m 3s\tremaining: 49.9s\n",
            "561:\ttest: 0.7619444\tbest: 0.7623029 (522)\ttotal: 1m 3s\tremaining: 49.8s\n",
            "562:\ttest: 0.7619435\tbest: 0.7623029 (522)\ttotal: 1m 4s\tremaining: 49.7s\n",
            "Stopped by overfitting detector  (40 iterations wait)\n",
            "\n",
            "bestTest = 0.7623028601\n",
            "bestIteration = 522\n",
            "\n",
            "Shrink model to first 523 iterations.\n"
          ],
          "name": "stdout"
        },
        {
          "output_type": "execute_result",
          "data": {
            "text/plain": [
              "<catboost.core.CatBoostClassifier at 0x7f625638da10>"
            ]
          },
          "metadata": {
            "tags": []
          },
          "execution_count": 351
        }
      ]
    },
    {
      "cell_type": "code",
      "metadata": {
        "colab": {
          "base_uri": "https://localhost:8080/"
        },
        "id": "PQV-10vR6S8E",
        "outputId": "2115079d-cadb-4af0-cd2d-e4f4fec452c9"
      },
      "source": [
        "grid.get_feature_importance()"
      ],
      "execution_count": null,
      "outputs": [
        {
          "output_type": "execute_result",
          "data": {
            "text/plain": [
              "array([ 7.90339904, 40.57282911, 11.23043096,  9.73288934, 10.59436275,\n",
              "        7.79368185,  6.15888925,  6.0135177 ])"
            ]
          },
          "metadata": {
            "tags": []
          },
          "execution_count": 353
        }
      ]
    },
    {
      "cell_type": "code",
      "metadata": {
        "colab": {
          "base_uri": "https://localhost:8080/"
        },
        "id": "aaJ81idz6zgl",
        "outputId": "b87e80c7-be04-4399-b7c1-a978105fa413"
      },
      "source": [
        "roc_auc_score(y_valid, grid.predict_proba(X_valid)[:, 1])"
      ],
      "execution_count": null,
      "outputs": [
        {
          "output_type": "execute_result",
          "data": {
            "text/plain": [
              "0.7623028601371812"
            ]
          },
          "metadata": {
            "tags": []
          },
          "execution_count": 361
        }
      ]
    },
    {
      "cell_type": "markdown",
      "metadata": {
        "id": "TPqGgQCeVK-E"
      },
      "source": [
        "Точность на выборке для обучения"
      ]
    },
    {
      "cell_type": "markdown",
      "metadata": {
        "id": "mDmcF1cP2bDe"
      },
      "source": [
        "## DBSCAN своими руками"
      ]
    },
    {
      "cell_type": "code",
      "metadata": {
        "id": "BdC__UEtabvU"
      },
      "source": [
        "from scipy.spatial import distance"
      ],
      "execution_count": null,
      "outputs": []
    },
    {
      "cell_type": "code",
      "metadata": {
        "id": "czgUIv2E3GBm"
      },
      "source": [
        "class dbscan:\n",
        "    def __init__(self, eps, min_samples):\n",
        "\n",
        "        self.eps = eps\n",
        "        self.min_samples = min_samples\n",
        "        self.x = []\n",
        "        self.noted = []\n",
        "        self.current = 0\n",
        "        self.data = []\n",
        "\n",
        "    def fit_predict(self, X):\n",
        "      self.data = X.copy()\n",
        "      self.noted = [0]*X.shape[0]\n",
        "      if X.shape[0]!=len(self.noted):\n",
        "        print(X.shape[0])\n",
        "        print(len(self.noted))\n",
        "      for i in range(X.shape[0]):\n",
        "        \n",
        "        if self.noted[i] is not 0:\n",
        "          continue\n",
        "\n",
        "        neighbours = self.range_query(i)\n",
        "\n",
        "        if len(neighbours) < self.min_samples:\n",
        "          self.noted[i] = -1\n",
        "\n",
        "        else:\n",
        "          self.current +=1\n",
        "          self.grow_cluster(i,neighbours)\n",
        "\n",
        "      return self.noted \n",
        "        # Помечаем переданные точки, чтобы отличать уже кластеризованные\n",
        "        # или являющиеся шумом от остальных\n",
        "        # Реализуем цикл по точкам, игнорирущий уже кластеризованные\n",
        "        # Если точка ещё не кластеризована, с помощью range_query() ищем её соседей\n",
        "        # Если соседей недостаточно, то помечаем её выделенным под шум лейблом\n",
        "        # (однако она ещё может попасть в какой-то иной кластер)\n",
        "        # Если же соседей достаточно, будем строить от неё кластер с помощью grow_cluster()\n",
        "\n",
        "    def grow_cluster(self, root, neighbours):\n",
        "\n",
        "        self.noted[root] = self.current\n",
        "        \n",
        "        i = 0\n",
        "\n",
        "        while(i < len(neighbours)-1):\n",
        "            next = neighbours[i]  \n",
        "\n",
        "            if self.noted[next] == -1:\n",
        "                self.noted[next] = self.current\n",
        "\n",
        "            elif self.noted[next] == 0:\n",
        "                self.noted[next] = self.current\n",
        "                next_neighbours = self.range_query(next)\n",
        "\n",
        "                if len(next_neighbours) >= self.min_samples:\n",
        "                    neighbours += next_neighbours\n",
        "            i+=1\n",
        "        return self\n",
        "        # В этой функции мы полностью строим кластер относительно переданной точки\n",
        "        # Т.е. реализуем цикл по структуре данных, изначально состоящей из уже\n",
        "        # известных соседей (neighbours) и в процессе пополняющейся\n",
        "        # \"соседями соседей\" с помощью range_query()\n",
        "\n",
        "    def range_query(self, x):\n",
        "        \"\"\"Возвращает точки на расстоянии <= eps от x\"\"\"\n",
        "        points = []\n",
        "        for i in range(len(self.data)):\n",
        "          if self.dist(self.data[x],self.data[i]) <= self.eps:\n",
        "            points.append(i)\n",
        "        return points\n",
        "    \n",
        "    @staticmethod\n",
        "    def dist(a, b):\n",
        "        \"\"\"Метрика расстояния\"\"\"\n",
        "        return distance.euclidean(a,b)"
      ],
      "execution_count": null,
      "outputs": []
    },
    {
      "cell_type": "markdown",
      "metadata": {
        "id": "lmI34EpRCLD9"
      },
      "source": [
        "Простой пример:"
      ]
    },
    {
      "cell_type": "code",
      "metadata": {
        "colab": {
          "base_uri": "https://localhost:8080/",
          "height": 265
        },
        "id": "EFABkOA73JC6",
        "outputId": "2ae4f383-9de2-4942-8896-f77235a840a4"
      },
      "source": [
        "from sklearn.datasets import make_moons\n",
        "import matplotlib.pyplot as plt\n",
        "import pandas as pd\n",
        "\n",
        "X, _ = make_moons(n_samples=500, noise=0.1)\n",
        "plt.scatter(X[:,0], X[:,1])\n",
        "plt.show()"
      ],
      "execution_count": null,
      "outputs": [
        {
          "output_type": "display_data",
          "data": {
            "image/png": "[encoded data removed]",
            "text/plain": [
              "<Figure size 432x288 with 1 Axes>"
            ]
          },
          "metadata": {
            "tags": [],
            "needs_background": "light"
          }
        }
      ]
    },
    {
      "cell_type": "markdown",
      "metadata": {
        "id": "NCgWZPMwCycn"
      },
      "source": [
        "Моя версия DBSCAN:"
      ]
    },
    {
      "cell_type": "code",
      "metadata": {
        "id": "dMtgyZMR4h0a",
        "colab": {
          "base_uri": "https://localhost:8080/",
          "height": 265
        },
        "outputId": "b683e822-8023-4ee5-92a6-63592386b701"
      },
      "source": [
        "clusters = dbscan(eps=0.2, min_samples=10).fit_predict(X)\n",
        "\n",
        "plt.scatter(X[:,0], X[:,1], c=clusters)\n",
        "plt.show()"
      ],
      "execution_count": null,
      "outputs": [
        {
          "output_type": "display_data",
          "data": {
            "image/png": "[encoded data removed]",
            "text/plain": [
              "<Figure size 432x288 with 1 Axes>"
            ]
          },
          "metadata": {
            "tags": [],
            "needs_background": "light"
          }
        }
      ]
    },
    {
      "cell_type": "markdown",
      "metadata": {
        "id": "OY_xo0uRC6lt"
      },
      "source": [
        "Референс:"
      ]
    },
    {
      "cell_type": "code",
      "metadata": {
        "colab": {
          "base_uri": "https://localhost:8080/",
          "height": 265
        },
        "id": "QtEwI8mb_lLV",
        "outputId": "a360eb5b-dcb7-44ed-8c6a-9e47446709a5"
      },
      "source": [
        "from sklearn.cluster import DBSCAN\n",
        "\n",
        "clusters = DBSCAN(eps=0.2, min_samples=10).fit_predict(X)\n",
        "\n",
        "plt.scatter(X[:,0], X[:,1], c=clusters)\n",
        "plt.show()"
      ],
      "execution_count": null,
      "outputs": [
        {
          "output_type": "display_data",
          "data": {
            "image/png": "[encoded data removed]",
            "text/plain": [
              "<Figure size 432x288 with 1 Axes>"
            ]
          },
          "metadata": {
            "tags": [],
            "needs_background": "light"
          }
        }
      ]
    },
    {
      "cell_type": "markdown",
      "metadata": {
        "id": "UznIYvK5WeXG"
      },
      "source": [
        "Пример поинтереснее:"
      ]
    },
    {
      "cell_type": "code",
      "metadata": {
        "id": "kDJRXAv_B72E"
      },
      "source": [
        "from sklearn import datasets\n",
        "noisy_circles,_ = datasets.make_circles(n_samples=1500, factor=.7,\n",
        "                                      noise=.04)\n",
        "noisy_moons,_ = datasets.make_moons(n_samples=500, noise=.05)"
      ],
      "execution_count": null,
      "outputs": []
    },
    {
      "cell_type": "code",
      "metadata": {
        "colab": {
          "base_uri": "https://localhost:8080/",
          "height": 265
        },
        "id": "ycsxpG7us6_F",
        "outputId": "46c8dd69-517c-425b-e93f-d35b774c48e5"
      },
      "source": [
        "data = noisy_circles*100\n",
        "data = np.append(data, (noisy_moons + 0.6)*20,axis=0)\n",
        "data = np.append(data, (noisy_moons - 1)*20,axis=0)\n",
        "plt.scatter(data[:,0], data[:,1])\n",
        "plt.show()"
      ],
      "execution_count": null,
      "outputs": [
        {
          "output_type": "display_data",
          "data": {
            "image/png": "[encoded data removed]",
            "text/plain": [
              "<Figure size 432x288 with 1 Axes>"
            ]
          },
          "metadata": {
            "tags": [],
            "needs_background": "light"
          }
        }
      ]
    },
    {
      "cell_type": "code",
      "metadata": {
        "colab": {
          "base_uri": "https://localhost:8080/",
          "height": 265
        },
        "id": "k8Imdop2951i",
        "outputId": "f677dcf6-1772-409d-9aae-302bfd9a9535"
      },
      "source": [
        "from sklearn.cluster import DBSCAN\n",
        "\n",
        "clusters = dbscan(eps=6.7, min_samples=6).fit_predict(data)\n",
        "\n",
        "plt.scatter(data[:,0], data[:,1] , c=clusters)\n",
        "plt.show()"
      ],
      "execution_count": null,
      "outputs": [
        {
          "output_type": "display_data",
          "data": {
            "image/png": "[encoded data removed]",
            "text/plain": [
              "<Figure size 432x288 with 1 Axes>"
            ]
          },
          "metadata": {
            "tags": [],
            "needs_background": "light"
          }
        }
      ]
    },
    {
      "cell_type": "markdown",
      "metadata": {
        "id": "jZRxN-y1DKoA"
      },
      "source": [
        "Сравнение скорости работы алгоритмов:"
      ]
    },
    {
      "cell_type": "code",
      "metadata": {
        "id": "JjqYw7RSDkqd",
        "colab": {
          "base_uri": "https://localhost:8080/"
        },
        "outputId": "167cfabf-2e92-4858-f328-d40131a90068"
      },
      "source": [
        "%%time\n",
        "%%capture\n",
        "clusters = DBSCAN(eps=0.2, min_samples=10).fit_predict(X)"
      ],
      "execution_count": null,
      "outputs": [
        {
          "output_type": "stream",
          "text": [
            "CPU times: user 8.52 ms, sys: 0 ns, total: 8.52 ms\n",
            "Wall time: 10.7 ms\n"
          ],
          "name": "stdout"
        }
      ]
    },
    {
      "cell_type": "code",
      "metadata": {
        "id": "pAeHvTniDtSB",
        "colab": {
          "base_uri": "https://localhost:8080/"
        },
        "outputId": "ebfec71d-6717-4ddb-e5c8-3bf6345d79e2"
      },
      "source": [
        "%%time\n",
        "%%capture\n",
        "clusters = dbscan(eps=0.2, min_samples=10).fit_predict(X)"
      ],
      "execution_count": null,
      "outputs": [
        {
          "output_type": "stream",
          "text": [
            "CPU times: user 3 s, sys: 7.81 ms, total: 3.01 s\n",
            "Wall time: 3.02 s\n"
          ],
          "name": "stdout"
        }
      ]
    }
  ]
}