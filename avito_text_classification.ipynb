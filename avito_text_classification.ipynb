{
  "nbformat": 4,
  "nbformat_minor": 0,
  "metadata": {
    "colab": {
      "name": "Кирдеев Александр БИ-2 ДЗ6.ipynb",
      "provenance": [],
      "collapsed_sections": [
        "2TyS3-PjVSOD",
        "uLJa_ADYVSOF",
        "uIuGzVLKVSOG",
        "g9v229pIVSOJ",
        "OpXR62kwVSOK",
        "c6s5dq09VSOL"
      ]
    },
    "kernelspec": {
      "display_name": "Python 3",
      "language": "python",
      "name": "python3"
    },
    "language_info": {
      "codemirror_mode": {
        "name": "ipython",
        "version": 3
      },
      "file_extension": ".py",
      "mimetype": "text/x-python",
      "name": "python",
      "nbconvert_exporter": "python",
      "pygments_lexer": "ipython3",
      "version": "3.8.5"
    },
    "accelerator": "GPU"
  },
  "cells": [
    {
      "cell_type": "markdown",
      "metadata": {
        "id": "ncjLlWG6VSNp"
      },
      "source": [
        "# Классификация текстов"
      ]
    },
    {
      "cell_type": "markdown",
      "metadata": {
        "id": "MrwgmtEYVSN9"
      },
      "source": [
        "Мы будем работать с датасетом объявлений Avito. Нам предстоит по заголовку и тексту объявления предсказывать категорию объявления."
      ]
    },
    {
      "cell_type": "code",
      "metadata": {
        "id": "XFDcRhIJWu46"
      },
      "source": [
        "import pandas as pd"
      ],
      "execution_count": 1,
      "outputs": []
    },
    {
      "cell_type": "code",
      "metadata": {
        "colab": {
          "base_uri": "https://localhost:8080/"
        },
        "id": "Z7DdMpgrZ0nu",
        "outputId": "578ed9f6-7305-4cec-86f2-b17dbdb83e65"
      },
      "source": [
        "import os\n",
        "from google.colab import drive\n",
        " \n",
        "drive.mount('/content/drive')\n",
        " \n",
        "data_root = '/content/drive/MyDrive/Colab Notebooks/avito-text-classification'\n",
        "os.environ['DATA_ROOT'] = data_root\n",
        " \n",
        "print('Data root:', data_root)\n",
        "print('Data root contains:', os.listdir(data_root))"
      ],
      "execution_count": 2,
      "outputs": [
        {
          "output_type": "stream",
          "text": [
            "Mounted at /content/drive\n",
            "Data root: /content/drive/MyDrive/Colab Notebooks/avito-text-classification\n",
            "Data root contains: ['train.csv', 'test.csv', 'sample_submission.csv']\n"
          ],
          "name": "stdout"
        }
      ]
    },
    {
      "cell_type": "code",
      "metadata": {
        "id": "d5C8p-mlVSOA"
      },
      "source": [
        "train = pd.read_csv(os.path.join(data_root, 'train.csv'))"
      ],
      "execution_count": 3,
      "outputs": []
    },
    {
      "cell_type": "code",
      "metadata": {
        "colab": {
          "base_uri": "https://localhost:8080/",
          "height": 206
        },
        "id": "M-C8mUC4VSOB",
        "outputId": "0d966e6e-2679-4019-d330-90c6dc3dcba4"
      },
      "source": [
        "train.head()"
      ],
      "execution_count": 4,
      "outputs": [
        {
          "output_type": "execute_result",
          "data": {
            "text/html": [
              "<div>\n",
              "<style scoped>\n",
              "    .dataframe tbody tr th:only-of-type {\n",
              "        vertical-align: middle;\n",
              "    }\n",
              "\n",
              "    .dataframe tbody tr th {\n",
              "        vertical-align: top;\n",
              "    }\n",
              "\n",
              "    .dataframe thead th {\n",
              "        text-align: right;\n",
              "    }\n",
              "</style>\n",
              "<table border=\"1\" class=\"dataframe\">\n",
              "  <thead>\n",
              "    <tr style=\"text-align: right;\">\n",
              "      <th></th>\n",
              "      <th>title</th>\n",
              "      <th>description</th>\n",
              "      <th>Category_name</th>\n",
              "      <th>Category</th>\n",
              "    </tr>\n",
              "  </thead>\n",
              "  <tbody>\n",
              "    <tr>\n",
              "      <th>0</th>\n",
              "      <td>Эбу Renault / Nissan 1,5 DCI Delphi 2001-2008 год</td>\n",
              "      <td>Комплект ЭБУ (мозги, компьютер мотора, двигате...</td>\n",
              "      <td>Запчасти и аксессуары</td>\n",
              "      <td>10</td>\n",
              "    </tr>\n",
              "    <tr>\n",
              "      <th>1</th>\n",
              "      <td>Утюг утп 1000 ватт СССР 1987 год</td>\n",
              "      <td>Продам/\\n Фото № 1-2 /\\n /\\nУтюг УТП 1000 ватт...</td>\n",
              "      <td>Бытовая техника</td>\n",
              "      <td>21</td>\n",
              "    </tr>\n",
              "    <tr>\n",
              "      <th>2</th>\n",
              "      <td>Возвму машину с выкупом</td>\n",
              "      <td>Возьму машину в аренду с последующим выкупом н...</td>\n",
              "      <td>Предложение услуг</td>\n",
              "      <td>114</td>\n",
              "    </tr>\n",
              "    <tr>\n",
              "      <th>3</th>\n",
              "      <td>Полусапожки</td>\n",
              "      <td>полусапожки в отличном состоянии, один раз оде...</td>\n",
              "      <td>Одежда, обувь, аксессуары</td>\n",
              "      <td>27</td>\n",
              "    </tr>\n",
              "    <tr>\n",
              "      <th>4</th>\n",
              "      <td>Босоножки кожаные</td>\n",
              "      <td>Кожаные(натур) босоножки Karlo Pasolini, 40 рр...</td>\n",
              "      <td>Одежда, обувь, аксессуары</td>\n",
              "      <td>27</td>\n",
              "    </tr>\n",
              "  </tbody>\n",
              "</table>\n",
              "</div>"
            ],
            "text/plain": [
              "                                               title  ... Category\n",
              "0  Эбу Renault / Nissan 1,5 DCI Delphi 2001-2008 год  ...       10\n",
              "1                   Утюг утп 1000 ватт СССР 1987 год  ...       21\n",
              "2                            Возвму машину с выкупом  ...      114\n",
              "3                                        Полусапожки  ...       27\n",
              "4                                  Босоножки кожаные  ...       27\n",
              "\n",
              "[5 rows x 4 columns]"
            ]
          },
          "metadata": {
            "tags": []
          },
          "execution_count": 4
        }
      ]
    },
    {
      "cell_type": "code",
      "metadata": {
        "colab": {
          "base_uri": "https://localhost:8080/"
        },
        "id": "IAC01PR6VSOD",
        "outputId": "e0a5127d-2830-4b07-bac8-42b57322d66d"
      },
      "source": [
        "train.shape"
      ],
      "execution_count": 5,
      "outputs": [
        {
          "output_type": "execute_result",
          "data": {
            "text/plain": [
              "(4234042, 4)"
            ]
          },
          "metadata": {
            "tags": []
          },
          "execution_count": 5
        }
      ]
    },
    {
      "cell_type": "markdown",
      "metadata": {
        "id": "2TyS3-PjVSOD"
      },
      "source": [
        "## Выведем на экран информацию о пропусках в данных."
      ]
    },
    {
      "cell_type": "code",
      "metadata": {
        "colab": {
          "base_uri": "https://localhost:8080/"
        },
        "id": "YKw8f3eaVSOE",
        "outputId": "cddfc561-7b75-4d6e-98a3-dc4cd0a8c577"
      },
      "source": [
        "train.isna().sum()"
      ],
      "execution_count": null,
      "outputs": [
        {
          "output_type": "execute_result",
          "data": {
            "text/plain": [
              "title            0\n",
              "description      2\n",
              "Category_name    0\n",
              "Category         0\n",
              "dtype: int64"
            ]
          },
          "metadata": {
            "tags": []
          },
          "execution_count": 6
        }
      ]
    },
    {
      "cell_type": "code",
      "metadata": {
        "id": "Tq0iL5lVVSOF"
      },
      "source": [
        "train.fillna('',inplace=True)"
      ],
      "execution_count": null,
      "outputs": []
    },
    {
      "cell_type": "code",
      "metadata": {
        "colab": {
          "base_uri": "https://localhost:8080/"
        },
        "id": "upYo6-X_GMHK",
        "outputId": "a2793223-c919-4432-ffbd-ea3c24feb661"
      },
      "source": [
        "train.isna().sum()"
      ],
      "execution_count": null,
      "outputs": [
        {
          "output_type": "execute_result",
          "data": {
            "text/plain": [
              "title            0\n",
              "description      0\n",
              "Category_name    0\n",
              "Category         0\n",
              "dtype: int64"
            ]
          },
          "metadata": {
            "tags": []
          },
          "execution_count": 8
        }
      ]
    },
    {
      "cell_type": "markdown",
      "metadata": {
        "id": "uLJa_ADYVSOF"
      },
      "source": [
        "## Сконкатенируем заголовок и описание"
      ]
    },
    {
      "cell_type": "code",
      "metadata": {
        "id": "q8ng3LlrVSOG"
      },
      "source": [
        "train = train.assign(title_description = train.title + \" \" + train.description)"
      ],
      "execution_count": 6,
      "outputs": []
    },
    {
      "cell_type": "code",
      "metadata": {
        "id": "MnmFqyc8SxhY"
      },
      "source": [
        "del train['title']\n",
        "del train['description']"
      ],
      "execution_count": 7,
      "outputs": []
    },
    {
      "cell_type": "code",
      "metadata": {
        "colab": {
          "base_uri": "https://localhost:8080/",
          "height": 206
        },
        "id": "fNxsQlP3WfB_",
        "outputId": "cda3fc79-28fd-4e1d-a151-efdd2e3e4841"
      },
      "source": [
        "train.head()"
      ],
      "execution_count": 8,
      "outputs": [
        {
          "output_type": "execute_result",
          "data": {
            "text/html": [
              "<div>\n",
              "<style scoped>\n",
              "    .dataframe tbody tr th:only-of-type {\n",
              "        vertical-align: middle;\n",
              "    }\n",
              "\n",
              "    .dataframe tbody tr th {\n",
              "        vertical-align: top;\n",
              "    }\n",
              "\n",
              "    .dataframe thead th {\n",
              "        text-align: right;\n",
              "    }\n",
              "</style>\n",
              "<table border=\"1\" class=\"dataframe\">\n",
              "  <thead>\n",
              "    <tr style=\"text-align: right;\">\n",
              "      <th></th>\n",
              "      <th>Category_name</th>\n",
              "      <th>Category</th>\n",
              "      <th>title_description</th>\n",
              "    </tr>\n",
              "  </thead>\n",
              "  <tbody>\n",
              "    <tr>\n",
              "      <th>0</th>\n",
              "      <td>Запчасти и аксессуары</td>\n",
              "      <td>10</td>\n",
              "      <td>Эбу Renault / Nissan 1,5 DCI Delphi 2001-2008 ...</td>\n",
              "    </tr>\n",
              "    <tr>\n",
              "      <th>1</th>\n",
              "      <td>Бытовая техника</td>\n",
              "      <td>21</td>\n",
              "      <td>Утюг утп 1000 ватт СССР 1987 год Продам/\\n Фот...</td>\n",
              "    </tr>\n",
              "    <tr>\n",
              "      <th>2</th>\n",
              "      <td>Предложение услуг</td>\n",
              "      <td>114</td>\n",
              "      <td>Возвму машину с выкупом Возьму машину в аренду...</td>\n",
              "    </tr>\n",
              "    <tr>\n",
              "      <th>3</th>\n",
              "      <td>Одежда, обувь, аксессуары</td>\n",
              "      <td>27</td>\n",
              "      <td>Полусапожки полусапожки в отличном состоянии, ...</td>\n",
              "    </tr>\n",
              "    <tr>\n",
              "      <th>4</th>\n",
              "      <td>Одежда, обувь, аксессуары</td>\n",
              "      <td>27</td>\n",
              "      <td>Босоножки кожаные Кожаные(натур) босоножки Kar...</td>\n",
              "    </tr>\n",
              "  </tbody>\n",
              "</table>\n",
              "</div>"
            ],
            "text/plain": [
              "               Category_name  ...                                  title_description\n",
              "0      Запчасти и аксессуары  ...  Эбу Renault / Nissan 1,5 DCI Delphi 2001-2008 ...\n",
              "1            Бытовая техника  ...  Утюг утп 1000 ватт СССР 1987 год Продам/\\n Фот...\n",
              "2          Предложение услуг  ...  Возвму машину с выкупом Возьму машину в аренду...\n",
              "3  Одежда, обувь, аксессуары  ...  Полусапожки полусапожки в отличном состоянии, ...\n",
              "4  Одежда, обувь, аксессуары  ...  Босоножки кожаные Кожаные(натур) босоножки Kar...\n",
              "\n",
              "[5 rows x 3 columns]"
            ]
          },
          "metadata": {
            "tags": []
          },
          "execution_count": 8
        }
      ]
    },
    {
      "cell_type": "markdown",
      "metadata": {
        "id": "uIuGzVLKVSOG"
      },
      "source": [
        "## Посмотрим на данные"
      ]
    },
    {
      "cell_type": "code",
      "metadata": {
        "colab": {
          "base_uri": "https://localhost:8080/"
        },
        "id": "ua2ZYD0IVSOI",
        "outputId": "16c45f49-36d9-408b-d13e-65d98188b5ec"
      },
      "source": [
        "train['Category'].nunique()"
      ],
      "execution_count": null,
      "outputs": [
        {
          "output_type": "execute_result",
          "data": {
            "text/plain": [
              "50"
            ]
          },
          "metadata": {
            "tags": []
          },
          "execution_count": 12
        }
      ]
    },
    {
      "cell_type": "code",
      "metadata": {
        "id": "PlU-coDRQ-kf"
      },
      "source": [
        "import numpy as np\n",
        "unique, counts = np.unique(train['Category_name'], return_counts=True)\n",
        "counts = counts / counts.sum() * 100"
      ],
      "execution_count": 26,
      "outputs": []
    },
    {
      "cell_type": "code",
      "metadata": {
        "id": "Ep1Rjm_Ae4pL"
      },
      "source": [
        "df = pd.DataFrame(data=(unique,counts), index=['Класс', 'Доля в %']).T"
      ],
      "execution_count": 27,
      "outputs": []
    },
    {
      "cell_type": "code",
      "metadata": {
        "colab": {
          "base_uri": "https://localhost:8080/",
          "height": 895
        },
        "id": "4X1apaurRthW",
        "outputId": "0f3a8eaa-24c1-44e1-b043-15315f73989e"
      },
      "source": [
        "import seaborn as sns\n",
        "import matplotlib.pyplot as plt\n",
        "f, ax = plt.subplots(figsize=(5, 15))\n",
        "sns.barplot(x ='Доля в %', y ='Класс', data= df)"
      ],
      "execution_count": 28,
      "outputs": [
        {
          "output_type": "execute_result",
          "data": {
            "text/plain": [
              "<matplotlib.axes._subplots.AxesSubplot at 0x7fe62bc1e290>"
            ]
          },
          "metadata": {
            "tags": []
          },
          "execution_count": 28
        },
        {
          "output_type": "display_data",
          "data": {
            "image/png": "[encoded data removed]",
            "text/plain": [
              "<Figure size 360x1080 with 1 Axes>"
            ]
          },
          "metadata": {
            "tags": [],
            "needs_background": "light"
          }
        }
      ]
    },
    {
      "cell_type": "code",
      "metadata": {
        "id": "6XKe7TnedEz4"
      },
      "source": [
        "df['Доля в %']= pd.to_numeric(df['Доля в %'])"
      ],
      "execution_count": null,
      "outputs": []
    },
    {
      "cell_type": "code",
      "metadata": {
        "colab": {
          "base_uri": "https://localhost:8080/"
        },
        "id": "i__yNGWup1kC",
        "outputId": "65ee8c93-1ba0-43fc-bb34-9f15a1d04fba"
      },
      "source": [
        "df.iloc[df['Доля в %'].argmax()]"
      ],
      "execution_count": null,
      "outputs": [
        {
          "output_type": "execute_result",
          "data": {
            "text/plain": [
              "Класс       Одежда, обувь, аксессуары\n",
              "Доля в %                      18.0707\n",
              "Name: 31, dtype: object"
            ]
          },
          "metadata": {
            "tags": []
          },
          "execution_count": 17
        }
      ]
    },
    {
      "cell_type": "code",
      "metadata": {
        "colab": {
          "base_uri": "https://localhost:8080/"
        },
        "id": "xv4DbXQNqAsB",
        "outputId": "a3a0c41a-e2a4-4d03-9b4a-9edd51af7749"
      },
      "source": [
        "df.iloc[df['Доля в %'].argmin()]"
      ],
      "execution_count": null,
      "outputs": [
        {
          "output_type": "execute_result",
          "data": {
            "text/plain": [
              "Класс       Недвижимость за рубежом\n",
              "Доля в %                 0.00389699\n",
              "Name: 28, dtype: object"
            ]
          },
          "metadata": {
            "tags": []
          },
          "execution_count": 18
        }
      ]
    },
    {
      "cell_type": "markdown",
      "metadata": {
        "id": "g9v229pIVSOJ"
      },
      "source": [
        "### Тест CountVectorizer\n"
      ]
    },
    {
      "cell_type": "code",
      "metadata": {
        "id": "fkjVi8fJVSOJ"
      },
      "source": [
        "from sklearn.feature_extraction.text import CountVectorizer"
      ],
      "execution_count": 29,
      "outputs": []
    },
    {
      "cell_type": "code",
      "metadata": {
        "id": "O5PIkiX6do1d"
      },
      "source": [
        "vec = CountVectorizer()"
      ],
      "execution_count": null,
      "outputs": []
    },
    {
      "cell_type": "code",
      "metadata": {
        "id": "wynLv8Z1e1Dn"
      },
      "source": [
        "bow = vec.fit_transform(train['title_description'])"
      ],
      "execution_count": null,
      "outputs": []
    },
    {
      "cell_type": "code",
      "metadata": {
        "colab": {
          "base_uri": "https://localhost:8080/"
        },
        "id": "bShVU_DeiBeT",
        "outputId": "02f95570-19cc-49dd-99c0-ef31ca2e890d"
      },
      "source": [
        "bow.shape"
      ],
      "execution_count": null,
      "outputs": [
        {
          "output_type": "execute_result",
          "data": {
            "text/plain": [
              "(4234042, 2125805)"
            ]
          },
          "metadata": {
            "tags": []
          },
          "execution_count": 21
        }
      ]
    },
    {
      "cell_type": "markdown",
      "metadata": {
        "id": "OpXR62kwVSOK"
      },
      "source": [
        "## Посмотрим на словарь"
      ]
    },
    {
      "cell_type": "code",
      "metadata": {
        "id": "YQKKOpJVOuSq"
      },
      "source": [
        "import re\n",
        "words = list(vec.vocabulary_.keys())\n",
        "words = ' '.join(words)"
      ],
      "execution_count": null,
      "outputs": []
    },
    {
      "cell_type": "code",
      "metadata": {
        "id": "UyXNaJOJxNPj"
      },
      "source": [
        "result1 = re.findall(r'\\b\\d+\\S+\\b',words)"
      ],
      "execution_count": null,
      "outputs": []
    },
    {
      "cell_type": "code",
      "metadata": {
        "colab": {
          "base_uri": "https://localhost:8080/"
        },
        "id": "UvL-03Ktzlol",
        "outputId": "6ae88e1c-973f-4170-e2ad-2f24f9ee7809"
      },
      "source": [
        "len(result1)"
      ],
      "execution_count": null,
      "outputs": [
        {
          "output_type": "execute_result",
          "data": {
            "text/plain": [
              "610889"
            ]
          },
          "metadata": {
            "tags": []
          },
          "execution_count": 25
        }
      ]
    },
    {
      "cell_type": "code",
      "metadata": {
        "id": "-i6Lafso0zOW",
        "outputId": "20ad8696-2784-4d1e-f98d-480391edaacb"
      },
      "source": [
        "from string import punctuation\n",
        "punctuation"
      ],
      "execution_count": null,
      "outputs": [
        {
          "output_type": "execute_result",
          "data": {
            "text/plain": [
              "'!\"#$%&\\'()*+,-./:;<=>?@[\\\\]^_`{|}~'"
            ]
          },
          "metadata": {
            "tags": []
          },
          "execution_count": 26
        }
      ]
    },
    {
      "cell_type": "code",
      "metadata": {
        "id": "zaEOIpnjzozU"
      },
      "source": [
        "result2 = re.findall(r'\\b[!\"#$%&\\'()*+,-./:;<=>?@\\[\\\\\\]^_`{|}~]\\S*\\b',words)"
      ],
      "execution_count": null,
      "outputs": []
    },
    {
      "cell_type": "code",
      "metadata": {
        "colab": {
          "base_uri": "https://localhost:8080/"
        },
        "id": "gMTfyhYyzo-a",
        "outputId": "1a6b8eed-4d8c-4c27-e72d-2c756e68c8b9"
      },
      "source": [
        "len(result2)"
      ],
      "execution_count": null,
      "outputs": [
        {
          "output_type": "execute_result",
          "data": {
            "text/plain": [
              "2043"
            ]
          },
          "metadata": {
            "tags": []
          },
          "execution_count": 28
        }
      ]
    },
    {
      "cell_type": "markdown",
      "metadata": {
        "id": "c6s5dq09VSOL"
      },
      "source": [
        "## Кастомный токенайзер.\n",
        "0. Приводит все буквы к нижнему регистру\n",
        "1. Разбивает текст на токены с помощью word_tokenizer из пакета nltk\n",
        "2. Удаляет все токены содержащие числа и пунктуацию\n",
        "3. Удаляет все токены, которые перечислены в nltk.corpus.stopwords('russian')\n",
        "4. Проводит стемминг с помощью SnowballStemmer\n"
      ]
    },
    {
      "cell_type": "code",
      "metadata": {
        "id": "0_SY2Mb7VSOM",
        "colab": {
          "base_uri": "https://localhost:8080/"
        },
        "outputId": "830253f7-b037-4fa9-c350-4077a12b7036"
      },
      "source": [
        "import nltk\n",
        "nltk.download('punkt')\n",
        "nltk.download('stopwords')\n",
        "from nltk.corpus import stopwords\n",
        "from nltk.tokenize import word_tokenize\n",
        "from nltk.stem.snowball import SnowballStemmer"
      ],
      "execution_count": 9,
      "outputs": [
        {
          "output_type": "stream",
          "text": [
            "[nltk_data] Downloading package punkt to /root/nltk_data...\n",
            "[nltk_data]   Unzipping tokenizers/punkt.zip.\n",
            "[nltk_data] Downloading package stopwords to /root/nltk_data...\n",
            "[nltk_data]   Unzipping corpora/stopwords.zip.\n"
          ],
          "name": "stdout"
        }
      ]
    },
    {
      "cell_type": "code",
      "metadata": {
        "id": "hDbN98sH0zOY"
      },
      "source": [
        "stemmer = SnowballStemmer('russian')"
      ],
      "execution_count": 16,
      "outputs": []
    },
    {
      "cell_type": "code",
      "metadata": {
        "id": "kI-Teuxb0zOZ"
      },
      "source": [
        "def mytokenizer(text):\n",
        "  text = re.sub(r'\\b\\S*\\d+\\S*\\b',' ',text)\n",
        "  text = re.sub(r'\\S*[!\"#$%&\\'()*+,-./:;<=>?@\\]\\[\\\\^_`{|}~»«—_]\\S*',' ',text)\n",
        "  text = re.sub(r'\\s+',' ',text)\n",
        "  text = word_tokenize(text.lower())\n",
        "  text = np.array(text)[np.in1d(text,np.array(stopwords.words('russian')),invert=True)]\n",
        "  text = [stemmer.stem(word) for word in text]\n",
        "  return text"
      ],
      "execution_count": 17,
      "outputs": []
    },
    {
      "cell_type": "code",
      "metadata": {
        "id": "2Nik7-y00zOZ",
        "colab": {
          "base_uri": "https://localhost:8080/"
        },
        "outputId": "98fe0aec-1a72-4e3e-ff46-3855c61a14ae"
      },
      "source": [
        "mytokenizer(train['title_description'][0])"
      ],
      "execution_count": 20,
      "outputs": [
        {
          "output_type": "execute_result",
          "data": {
            "text/plain": [
              "['эб',\n",
              " 'renault',\n",
              " 'nissa',\n",
              " 'dci',\n",
              " 'delph',\n",
              " 'год',\n",
              " 'комплект',\n",
              " 'эб',\n",
              " 'компьютер',\n",
              " 'электрон',\n",
              " 'блок',\n",
              " 'управлен',\n",
              " 'двигател',\n",
              " 'рен',\n",
              " 'kango',\n",
              " 'lagun',\n",
              " 'cli',\n",
              " 'nissa',\n",
              " 'micr',\n",
              " 'друг',\n",
              " 'рен',\n",
              " 'нисса',\n",
              " 'дизел',\n",
              " 'топливн',\n",
              " 'аппаратур',\n",
              " 'отличн',\n",
              " 'проверен',\n",
              " 'запчаст',\n",
              " 'предоставля',\n",
              " 'возможн',\n",
              " 'подробн',\n",
              " 'раздел',\n",
              " 'дорож',\n",
              " 'сво',\n",
              " 'репутац',\n",
              " 'торгу',\n",
              " 'легальн',\n",
              " 'контрактн',\n",
              " 'запчаст',\n",
              " 'дета',\n",
              " 'налич',\n",
              " 'таможен',\n",
              " 'запчаст',\n",
              " 'автомобил',\n",
              " 'пробег',\n",
              " 'отправля',\n",
              " 'друг',\n",
              " 'регион',\n",
              " 'таможен',\n",
              " 'союз',\n",
              " 'транспортн',\n",
              " 'компан',\n",
              " 'наложн']"
            ]
          },
          "metadata": {
            "tags": []
          },
          "execution_count": 20
        }
      ]
    },
    {
      "cell_type": "markdown",
      "metadata": {
        "id": "IK-pMbrDu1p8"
      },
      "source": [
        "### Проверим быстродействие различных функций"
      ]
    },
    {
      "cell_type": "code",
      "metadata": {
        "id": "hhdLixc8j0RO"
      },
      "source": [
        "test_text = re.sub(r'\\b\\S*\\d+\\S*\\b',' ',train['title_description'][0])\n",
        "test_text = re.sub(r'\\S*[!\"#$%&\\'()*+,-./:;<=>?@\\]\\[\\\\^_`{|}~»«—_]\\S*',' ',test_text)\n",
        "test_text = re.sub(r'\\s+',' ',test_text)\n",
        "test_text = word_tokenize(test_text.lower())"
      ],
      "execution_count": 21,
      "outputs": []
    },
    {
      "cell_type": "code",
      "metadata": {
        "colab": {
          "base_uri": "https://localhost:8080/"
        },
        "id": "Rxi90NK8mpxU",
        "outputId": "ef9b14e7-4004-40a4-ae47-c8a6fb6a90f5"
      },
      "source": [
        "%%time\n",
        "test_text1 = np.array(test_text)[np.in1d(test_text,np.array(stopwords.words('russian')),invert=True)]\n",
        "test_text1 = [stemmer.stem(word) for word in test_text]"
      ],
      "execution_count": 22,
      "outputs": [
        {
          "output_type": "stream",
          "text": [
            "CPU times: user 3.79 ms, sys: 0 ns, total: 3.79 ms\n",
            "Wall time: 3.79 ms\n"
          ],
          "name": "stdout"
        }
      ]
    },
    {
      "cell_type": "code",
      "metadata": {
        "colab": {
          "base_uri": "https://localhost:8080/"
        },
        "id": "-FxZLbRgs0l7",
        "outputId": "01e0ad89-18d2-4b29-e2b2-51d2cce20005"
      },
      "source": [
        "%%time\n",
        "test_text2 = [stemmer.stem(word) for word in test_text if word not in stopwords.words('russian')]"
      ],
      "execution_count": 23,
      "outputs": [
        {
          "output_type": "stream",
          "text": [
            "CPU times: user 15 ms, sys: 1.21 ms, total: 16.2 ms\n",
            "Wall time: 20.3 ms\n"
          ],
          "name": "stdout"
        }
      ]
    },
    {
      "cell_type": "code",
      "metadata": {
        "colab": {
          "base_uri": "https://localhost:8080/"
        },
        "id": "4nhYT41qteLG",
        "outputId": "cb551975-ef8a-4845-90d9-ff0547aa3df7"
      },
      "source": [
        "%%time\n",
        "stemmedtext=[]\n",
        "for word in test_text:\n",
        "  if word not in stopwords.words('russian'):\n",
        "    stemmedtext.append(stemmer.stem(word))"
      ],
      "execution_count": 24,
      "outputs": [
        {
          "output_type": "stream",
          "text": [
            "CPU times: user 9.55 ms, sys: 2.11 ms, total: 11.7 ms\n",
            "Wall time: 11.9 ms\n"
          ],
          "name": "stdout"
        }
      ]
    },
    {
      "cell_type": "markdown",
      "metadata": {
        "id": "akr960V-VSOM"
      },
      "source": [
        "## Обучение с CountVectorizer\n",
        "1. Возьмем случайные 100к строк из датасета. Построим по ним CountVectorizer.\n",
        "2. Разбиваем полученную матрицу на train, test в отношении 4 к 1.\n",
        "3. Обучим SGDClassifier на полученной выборке.\n",
        "4. Считаем accuracy"
      ]
    },
    {
      "cell_type": "code",
      "metadata": {
        "id": "7a34qPsyVSON"
      },
      "source": [
        "vec = CountVectorizer(tokenizer = mytokenizer)\n",
        "sam = train.sample(n=100000)\n",
        "del train#чтобы в колабе ОЗУ не переполнялось"
      ],
      "execution_count": 30,
      "outputs": []
    },
    {
      "cell_type": "code",
      "metadata": {
        "id": "xjoo2Osc0zOa"
      },
      "source": [
        "bow = vec.fit_transform(sam['title_description'])"
      ],
      "execution_count": 31,
      "outputs": []
    },
    {
      "cell_type": "code",
      "metadata": {
        "id": "wmRCj_WG0zOb",
        "colab": {
          "base_uri": "https://localhost:8080/"
        },
        "outputId": "c48ed110-107e-4111-bdfa-ae9df328e07b"
      },
      "source": [
        "bow.shape"
      ],
      "execution_count": 32,
      "outputs": [
        {
          "output_type": "execute_result",
          "data": {
            "text/plain": [
              "(100000, 74902)"
            ]
          },
          "metadata": {
            "tags": []
          },
          "execution_count": 32
        }
      ]
    },
    {
      "cell_type": "code",
      "metadata": {
        "id": "rV6nUpJF0zOd",
        "colab": {
          "base_uri": "https://localhost:8080/"
        },
        "outputId": "b078c544-0e04-48c3-ca7c-28978a842289"
      },
      "source": [
        "%%time\n",
        "from sklearn.model_selection import train_test_split\n",
        "x_train, x_test, y_train, y_test = train_test_split(bow, sam['Category'], random_state=13, test_size=0.2, train_size=0.8)"
      ],
      "execution_count": 33,
      "outputs": [
        {
          "output_type": "stream",
          "text": [
            "CPU times: user 21.4 ms, sys: 1.02 ms, total: 22.4 ms\n",
            "Wall time: 24.9 ms\n"
          ],
          "name": "stdout"
        }
      ]
    },
    {
      "cell_type": "code",
      "metadata": {
        "id": "ur--4d780zOe",
        "colab": {
          "base_uri": "https://localhost:8080/"
        },
        "outputId": "f41b4144-3ef0-4049-c0e1-8446a4e53d00"
      },
      "source": [
        "%%time\n",
        "from sklearn.linear_model import SGDClassifier\n",
        "from sklearn.metrics import classification_report, accuracy_score\n",
        "sgd = SGDClassifier(max_iter = 200, random_state=13)\n",
        "sgd.fit(x_train,y_train)"
      ],
      "execution_count": 34,
      "outputs": [
        {
          "output_type": "stream",
          "text": [
            "CPU times: user 8.02 s, sys: 4.87 s, total: 12.9 s\n",
            "Wall time: 7.07 s\n"
          ],
          "name": "stdout"
        }
      ]
    },
    {
      "cell_type": "code",
      "metadata": {
        "id": "oowsabsb0zOf"
      },
      "source": [
        "pred = sgd.predict(x_test)"
      ],
      "execution_count": 35,
      "outputs": []
    },
    {
      "cell_type": "code",
      "metadata": {
        "id": "cjyrXEG40zOg",
        "colab": {
          "base_uri": "https://localhost:8080/"
        },
        "outputId": "4ab03882-d684-4a4d-d875-ec887d694884"
      },
      "source": [
        "print(accuracy_score(y_test,pred))"
      ],
      "execution_count": 36,
      "outputs": [
        {
          "output_type": "stream",
          "text": [
            "0.80835\n"
          ],
          "name": "stdout"
        }
      ]
    },
    {
      "cell_type": "markdown",
      "metadata": {
        "id": "Fpc8w1RNVSON"
      },
      "source": [
        "## Обучение с TfIdfVectorizer\n",
        "\n"
      ]
    },
    {
      "cell_type": "code",
      "metadata": {
        "id": "bujCNX3FVSON"
      },
      "source": [
        "from sklearn.feature_extraction.text import TfidfVectorizer\n",
        "tfidf_vec = TfidfVectorizer(tokenizer = mytokenizer,max_df=0.9)"
      ],
      "execution_count": 37,
      "outputs": []
    },
    {
      "cell_type": "code",
      "metadata": {
        "id": "5xhVhSxp0zOi",
        "colab": {
          "base_uri": "https://localhost:8080/"
        },
        "outputId": "3e0449c3-5e53-460f-aeae-ac83e78e09c5"
      },
      "source": [
        "%%time\n",
        "bow = tfidf_vec.fit_transform(sam['title_description'])"
      ],
      "execution_count": 38,
      "outputs": [
        {
          "output_type": "stream",
          "text": [
            "CPU times: user 2min 50s, sys: 2.45 s, total: 2min 52s\n",
            "Wall time: 2min 52s\n"
          ],
          "name": "stdout"
        }
      ]
    },
    {
      "cell_type": "code",
      "metadata": {
        "id": "3WpLc4hI0zOj",
        "colab": {
          "base_uri": "https://localhost:8080/"
        },
        "outputId": "e15ad014-5161-41dd-d0c7-8d475e153d31"
      },
      "source": [
        "%%time\n",
        "from sklearn.model_selection import train_test_split\n",
        "x_train, x_test, y_train, y_test = train_test_split(bow, sam['Category'], random_state=13, test_size=0.2, train_size=0.8)"
      ],
      "execution_count": 39,
      "outputs": [
        {
          "output_type": "stream",
          "text": [
            "CPU times: user 19.7 ms, sys: 986 µs, total: 20.7 ms\n",
            "Wall time: 21.4 ms\n"
          ],
          "name": "stdout"
        }
      ]
    },
    {
      "cell_type": "code",
      "metadata": {
        "id": "N_OwwSMk0zOk",
        "colab": {
          "base_uri": "https://localhost:8080/"
        },
        "outputId": "ddfbe03d-dafe-462a-d7cc-368ca563d05b"
      },
      "source": [
        "%%time\n",
        "from sklearn.linear_model import SGDClassifier\n",
        "from sklearn.metrics import classification_report, accuracy_score\n",
        "sgd = SGDClassifier(max_iter = 200, random_state=13)\n",
        "sgd.fit(x_train,y_train)"
      ],
      "execution_count": 40,
      "outputs": [
        {
          "output_type": "stream",
          "text": [
            "CPU times: user 5.09 s, sys: 3.46 s, total: 8.55 s\n",
            "Wall time: 4.37 s\n"
          ],
          "name": "stdout"
        }
      ]
    },
    {
      "cell_type": "code",
      "metadata": {
        "id": "SExQ-mHx0zOk"
      },
      "source": [
        "pred = sgd.predict(x_test)"
      ],
      "execution_count": 41,
      "outputs": []
    },
    {
      "cell_type": "code",
      "metadata": {
        "id": "da7VlgnT0zOk",
        "colab": {
          "base_uri": "https://localhost:8080/"
        },
        "outputId": "3257fec6-5220-42ff-efc8-44c0b3292b5a"
      },
      "source": [
        "print(accuracy_score(y_test,pred))"
      ],
      "execution_count": 42,
      "outputs": [
        {
          "output_type": "stream",
          "text": [
            "0.8089\n"
          ],
          "name": "stdout"
        }
      ]
    },
    {
      "cell_type": "markdown",
      "metadata": {
        "id": "0pvRnTftVSOO"
      },
      "source": [
        "## Hashing trick\n"
      ]
    },
    {
      "cell_type": "code",
      "metadata": {
        "id": "15zfrA-oVSOP"
      },
      "source": [
        "from sklearn.feature_extraction.text import HashingVectorizer\n",
        "hash_vec = HashingVectorizer(tokenizer = mytokenizer, n_features=30000)"
      ],
      "execution_count": 43,
      "outputs": []
    },
    {
      "cell_type": "code",
      "metadata": {
        "id": "asOQL1tJ0zOq",
        "colab": {
          "base_uri": "https://localhost:8080/"
        },
        "outputId": "1e3e3c45-fdba-4156-d54e-53dbbc3fb349"
      },
      "source": [
        "bow = hash_vec.fit_transform(sam['title_description'])"
      ],
      "execution_count": 44,
      "outputs": [
        {
          "output_type": "stream",
          "text": [
            "/usr/local/lib/python3.7/dist-packages/sklearn/feature_extraction/text.py:507: UserWarning: The parameter 'token_pattern' will not be used since 'tokenizer' is not None'\n",
            "  warnings.warn(\"The parameter 'token_pattern' will not be used\"\n"
          ],
          "name": "stderr"
        }
      ]
    },
    {
      "cell_type": "code",
      "metadata": {
        "id": "YHhe_QaB0zOr",
        "colab": {
          "base_uri": "https://localhost:8080/"
        },
        "outputId": "a73ee905-185c-4486-ebef-921eab929a29"
      },
      "source": [
        "bow.shape"
      ],
      "execution_count": 45,
      "outputs": [
        {
          "output_type": "execute_result",
          "data": {
            "text/plain": [
              "(100000, 30000)"
            ]
          },
          "metadata": {
            "tags": []
          },
          "execution_count": 45
        }
      ]
    },
    {
      "cell_type": "code",
      "metadata": {
        "id": "RMpum1dC0zOs",
        "colab": {
          "base_uri": "https://localhost:8080/"
        },
        "outputId": "81013c26-1882-48e9-a8a5-cd7cd1873c5e"
      },
      "source": [
        "%%time\n",
        "from sklearn.model_selection import train_test_split\n",
        "x_train, x_test, y_train, y_test = train_test_split(bow, sam['Category'], random_state=13, test_size=0.2, train_size=0.8)"
      ],
      "execution_count": 46,
      "outputs": [
        {
          "output_type": "stream",
          "text": [
            "CPU times: user 19.3 ms, sys: 1.02 ms, total: 20.3 ms\n",
            "Wall time: 19.8 ms\n"
          ],
          "name": "stdout"
        }
      ]
    },
    {
      "cell_type": "code",
      "metadata": {
        "id": "LUk8ALk40zOs",
        "colab": {
          "base_uri": "https://localhost:8080/"
        },
        "outputId": "6c8cec02-1136-4b18-c631-401b4d7d83f3"
      },
      "source": [
        "%%time\n",
        "from sklearn.linear_model import SGDClassifier\n",
        "from sklearn.metrics import classification_report, accuracy_score\n",
        "sgd = SGDClassifier(max_iter = 200, random_state=13)\n",
        "sgd.fit(x_train,y_train)"
      ],
      "execution_count": 47,
      "outputs": [
        {
          "output_type": "stream",
          "text": [
            "CPU times: user 4.8 s, sys: 3.35 s, total: 8.15 s\n",
            "Wall time: 4.2 s\n"
          ],
          "name": "stdout"
        }
      ]
    },
    {
      "cell_type": "code",
      "metadata": {
        "id": "IMO8UeKL0zOt",
        "colab": {
          "base_uri": "https://localhost:8080/"
        },
        "outputId": "5a7e450a-159b-4c1d-c96e-4259366e78e3"
      },
      "source": [
        "pred = sgd.predict(x_test)\n",
        "print(accuracy_score(y_test,pred))"
      ],
      "execution_count": 48,
      "outputs": [
        {
          "output_type": "stream",
          "text": [
            "0.7915\n"
          ],
          "name": "stdout"
        }
      ]
    }
  ]
}