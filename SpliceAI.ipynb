{
  "nbformat": 4,
  "nbformat_minor": 0,
  "metadata": {
    "colab": {
      "provenance": [],
      "collapsed_sections": []
    },
    "kernelspec": {
      "name": "python3",
      "display_name": "Python 3"
    },
    "language_info": {
      "name": "python"
    },
    "accelerator": "GPU",
    "gpuClass": "standard",
    "widgets": {
      "application/vnd.jupyter.widget-state+json": {
        "2868f520d21e4772850e91c365ff0bf1": {
          "model_module": "@jupyter-widgets/controls",
          "model_name": "HBoxModel",
          "model_module_version": "1.5.0",
          "state": {
            "_dom_classes": [],
            "_model_module": "@jupyter-widgets/controls",
            "_model_module_version": "1.5.0",
            "_model_name": "HBoxModel",
            "_view_count": null,
            "_view_module": "@jupyter-widgets/controls",
            "_view_module_version": "1.5.0",
            "_view_name": "HBoxView",
            "box_style": "",
            "children": [
              "IPY_MODEL_a99ff4ccceb141c8b9cc27c70c2e9bf3",
              "IPY_MODEL_4dd79635480e4a8baa42d718e101d98b",
              "IPY_MODEL_64a75ab0dc6340f48fa9da26a431ddb4"
            ],
            "layout": "IPY_MODEL_3527c868a6054f0cb1b96af95fe8f231"
          }
        },
        "a99ff4ccceb141c8b9cc27c70c2e9bf3": {
          "model_module": "@jupyter-widgets/controls",
          "model_name": "HTMLModel",
          "model_module_version": "1.5.0",
          "state": {
            "_dom_classes": [],
            "_model_module": "@jupyter-widgets/controls",
            "_model_module_version": "1.5.0",
            "_model_name": "HTMLModel",
            "_view_count": null,
            "_view_module": "@jupyter-widgets/controls",
            "_view_module_version": "1.5.0",
            "_view_name": "HTMLView",
            "description": "",
            "description_tooltip": null,
            "layout": "IPY_MODEL_9dbcc564f4d645228342685406dda08f",
            "placeholder": "​",
            "style": "IPY_MODEL_f77606f1e6a0437fb803427de84f0d2b",
            "value": "Downloading tokenizer_config.json: 100%"
          }
        },
        "4dd79635480e4a8baa42d718e101d98b": {
          "model_module": "@jupyter-widgets/controls",
          "model_name": "FloatProgressModel",
          "model_module_version": "1.5.0",
          "state": {
            "_dom_classes": [],
            "_model_module": "@jupyter-widgets/controls",
            "_model_module_version": "1.5.0",
            "_model_name": "FloatProgressModel",
            "_view_count": null,
            "_view_module": "@jupyter-widgets/controls",
            "_view_module_version": "1.5.0",
            "_view_name": "ProgressView",
            "bar_style": "success",
            "description": "",
            "description_tooltip": null,
            "layout": "IPY_MODEL_418951c7962843ee81ed4725ed5dac51",
            "max": 46,
            "min": 0,
            "orientation": "horizontal",
            "style": "IPY_MODEL_7ff7287e98164f6b973e7c075341909b",
            "value": 46
          }
        },
        "64a75ab0dc6340f48fa9da26a431ddb4": {
          "model_module": "@jupyter-widgets/controls",
          "model_name": "HTMLModel",
          "model_module_version": "1.5.0",
          "state": {
            "_dom_classes": [],
            "_model_module": "@jupyter-widgets/controls",
            "_model_module_version": "1.5.0",
            "_model_name": "HTMLModel",
            "_view_count": null,
            "_view_module": "@jupyter-widgets/controls",
            "_view_module_version": "1.5.0",
            "_view_name": "HTMLView",
            "description": "",
            "description_tooltip": null,
            "layout": "IPY_MODEL_db4946d70327454692d066da694632a2",
            "placeholder": "​",
            "style": "IPY_MODEL_8cae9f164bb04c18aa74ca56b622f253",
            "value": " 46.0/46.0 [00:00&lt;00:00, 1.29kB/s]"
          }
        },
        "3527c868a6054f0cb1b96af95fe8f231": {
          "model_module": "@jupyter-widgets/base",
          "model_name": "LayoutModel",
          "model_module_version": "1.2.0",
          "state": {
            "_model_module": "@jupyter-widgets/base",
            "_model_module_version": "1.2.0",
            "_model_name": "LayoutModel",
            "_view_count": null,
            "_view_module": "@jupyter-widgets/base",
            "_view_module_version": "1.2.0",
            "_view_name": "LayoutView",
            "align_content": null,
            "align_items": null,
            "align_self": null,
            "border": null,
            "bottom": null,
            "display": null,
            "flex": null,
            "flex_flow": null,
            "grid_area": null,
            "grid_auto_columns": null,
            "grid_auto_flow": null,
            "grid_auto_rows": null,
            "grid_column": null,
            "grid_gap": null,
            "grid_row": null,
            "grid_template_areas": null,
            "grid_template_columns": null,
            "grid_template_rows": null,
            "height": null,
            "justify_content": null,
            "justify_items": null,
            "left": null,
            "margin": null,
            "max_height": null,
            "max_width": null,
            "min_height": null,
            "min_width": null,
            "object_fit": null,
            "object_position": null,
            "order": null,
            "overflow": null,
            "overflow_x": null,
            "overflow_y": null,
            "padding": null,
            "right": null,
            "top": null,
            "visibility": null,
            "width": null
          }
        },
        "9dbcc564f4d645228342685406dda08f": {
          "model_module": "@jupyter-widgets/base",
          "model_name": "LayoutModel",
          "model_module_version": "1.2.0",
          "state": {
            "_model_module": "@jupyter-widgets/base",
            "_model_module_version": "1.2.0",
            "_model_name": "LayoutModel",
            "_view_count": null,
            "_view_module": "@jupyter-widgets/base",
            "_view_module_version": "1.2.0",
            "_view_name": "LayoutView",
            "align_content": null,
            "align_items": null,
            "align_self": null,
            "border": null,
            "bottom": null,
            "display": null,
            "flex": null,
            "flex_flow": null,
            "grid_area": null,
            "grid_auto_columns": null,
            "grid_auto_flow": null,
            "grid_auto_rows": null,
            "grid_column": null,
            "grid_gap": null,
            "grid_row": null,
            "grid_template_areas": null,
            "grid_template_columns": null,
            "grid_template_rows": null,
            "height": null,
            "justify_content": null,
            "justify_items": null,
            "left": null,
            "margin": null,
            "max_height": null,
            "max_width": null,
            "min_height": null,
            "min_width": null,
            "object_fit": null,
            "object_position": null,
            "order": null,
            "overflow": null,
            "overflow_x": null,
            "overflow_y": null,
            "padding": null,
            "right": null,
            "top": null,
            "visibility": null,
            "width": null
          }
        },
        "f77606f1e6a0437fb803427de84f0d2b": {
          "model_module": "@jupyter-widgets/controls",
          "model_name": "DescriptionStyleModel",
          "model_module_version": "1.5.0",
          "state": {
            "_model_module": "@jupyter-widgets/controls",
            "_model_module_version": "1.5.0",
            "_model_name": "DescriptionStyleModel",
            "_view_count": null,
            "_view_module": "@jupyter-widgets/base",
            "_view_module_version": "1.2.0",
            "_view_name": "StyleView",
            "description_width": ""
          }
        },
        "418951c7962843ee81ed4725ed5dac51": {
          "model_module": "@jupyter-widgets/base",
          "model_name": "LayoutModel",
          "model_module_version": "1.2.0",
          "state": {
            "_model_module": "@jupyter-widgets/base",
            "_model_module_version": "1.2.0",
            "_model_name": "LayoutModel",
            "_view_count": null,
            "_view_module": "@jupyter-widgets/base",
            "_view_module_version": "1.2.0",
            "_view_name": "LayoutView",
            "align_content": null,
            "align_items": null,
            "align_self": null,
            "border": null,
            "bottom": null,
            "display": null,
            "flex": null,
            "flex_flow": null,
            "grid_area": null,
            "grid_auto_columns": null,
            "grid_auto_flow": null,
            "grid_auto_rows": null,
            "grid_column": null,
            "grid_gap": null,
            "grid_row": null,
            "grid_template_areas": null,
            "grid_template_columns": null,
            "grid_template_rows": null,
            "height": null,
            "justify_content": null,
            "justify_items": null,
            "left": null,
            "margin": null,
            "max_height": null,
            "max_width": null,
            "min_height": null,
            "min_width": null,
            "object_fit": null,
            "object_position": null,
            "order": null,
            "overflow": null,
            "overflow_x": null,
            "overflow_y": null,
            "padding": null,
            "right": null,
            "top": null,
            "visibility": null,
            "width": null
          }
        },
        "7ff7287e98164f6b973e7c075341909b": {
          "model_module": "@jupyter-widgets/controls",
          "model_name": "ProgressStyleModel",
          "model_module_version": "1.5.0",
          "state": {
            "_model_module": "@jupyter-widgets/controls",
            "_model_module_version": "1.5.0",
            "_model_name": "ProgressStyleModel",
            "_view_count": null,
            "_view_module": "@jupyter-widgets/base",
            "_view_module_version": "1.2.0",
            "_view_name": "StyleView",
            "bar_color": null,
            "description_width": ""
          }
        },
        "db4946d70327454692d066da694632a2": {
          "model_module": "@jupyter-widgets/base",
          "model_name": "LayoutModel",
          "model_module_version": "1.2.0",
          "state": {
            "_model_module": "@jupyter-widgets/base",
            "_model_module_version": "1.2.0",
            "_model_name": "LayoutModel",
            "_view_count": null,
            "_view_module": "@jupyter-widgets/base",
            "_view_module_version": "1.2.0",
            "_view_name": "LayoutView",
            "align_content": null,
            "align_items": null,
            "align_self": null,
            "border": null,
            "bottom": null,
            "display": null,
            "flex": null,
            "flex_flow": null,
            "grid_area": null,
            "grid_auto_columns": null,
            "grid_auto_flow": null,
            "grid_auto_rows": null,
            "grid_column": null,
            "grid_gap": null,
            "grid_row": null,
            "grid_template_areas": null,
            "grid_template_columns": null,
            "grid_template_rows": null,
            "height": null,
            "justify_content": null,
            "justify_items": null,
            "left": null,
            "margin": null,
            "max_height": null,
            "max_width": null,
            "min_height": null,
            "min_width": null,
            "object_fit": null,
            "object_position": null,
            "order": null,
            "overflow": null,
            "overflow_x": null,
            "overflow_y": null,
            "padding": null,
            "right": null,
            "top": null,
            "visibility": null,
            "width": null
          }
        },
        "8cae9f164bb04c18aa74ca56b622f253": {
          "model_module": "@jupyter-widgets/controls",
          "model_name": "DescriptionStyleModel",
          "model_module_version": "1.5.0",
          "state": {
            "_model_module": "@jupyter-widgets/controls",
            "_model_module_version": "1.5.0",
            "_model_name": "DescriptionStyleModel",
            "_view_count": null,
            "_view_module": "@jupyter-widgets/base",
            "_view_module_version": "1.2.0",
            "_view_name": "StyleView",
            "description_width": ""
          }
        },
        "1529839b3d20467abce2118b9de01c9b": {
          "model_module": "@jupyter-widgets/controls",
          "model_name": "HBoxModel",
          "model_module_version": "1.5.0",
          "state": {
            "_dom_classes": [],
            "_model_module": "@jupyter-widgets/controls",
            "_model_module_version": "1.5.0",
            "_model_name": "HBoxModel",
            "_view_count": null,
            "_view_module": "@jupyter-widgets/controls",
            "_view_module_version": "1.5.0",
            "_view_name": "HBoxView",
            "box_style": "",
            "children": [
              "IPY_MODEL_77f50594fc88478fb67dc85b845183c6",
              "IPY_MODEL_550af81df9334041b72e89f095e6ba19",
              "IPY_MODEL_c22f4c1972704d7f8ab381649513b471"
            ],
            "layout": "IPY_MODEL_110029ab8e6e4c7e8a82e72fed6acc8d"
          }
        },
        "77f50594fc88478fb67dc85b845183c6": {
          "model_module": "@jupyter-widgets/controls",
          "model_name": "HTMLModel",
          "model_module_version": "1.5.0",
          "state": {
            "_dom_classes": [],
            "_model_module": "@jupyter-widgets/controls",
            "_model_module_version": "1.5.0",
            "_model_name": "HTMLModel",
            "_view_count": null,
            "_view_module": "@jupyter-widgets/controls",
            "_view_module_version": "1.5.0",
            "_view_name": "HTMLView",
            "description": "",
            "description_tooltip": null,
            "layout": "IPY_MODEL_a111425ff8854b439d219fd2fe6f6387",
            "placeholder": "​",
            "style": "IPY_MODEL_35655f5e864c4ce591e90679e52b4615",
            "value": "Downloading tokenizer.json: 100%"
          }
        },
        "550af81df9334041b72e89f095e6ba19": {
          "model_module": "@jupyter-widgets/controls",
          "model_name": "FloatProgressModel",
          "model_module_version": "1.5.0",
          "state": {
            "_dom_classes": [],
            "_model_module": "@jupyter-widgets/controls",
            "_model_module_version": "1.5.0",
            "_model_name": "FloatProgressModel",
            "_view_count": null,
            "_view_module": "@jupyter-widgets/controls",
            "_view_module_version": "1.5.0",
            "_view_name": "ProgressView",
            "bar_style": "success",
            "description": "",
            "description_tooltip": null,
            "layout": "IPY_MODEL_6ce0d18083fd4743968620b8d6712b43",
            "max": 1538643,
            "min": 0,
            "orientation": "horizontal",
            "style": "IPY_MODEL_55f0e9c4edc848309d8ee980bd98a5f1",
            "value": 1538643
          }
        },
        "c22f4c1972704d7f8ab381649513b471": {
          "model_module": "@jupyter-widgets/controls",
          "model_name": "HTMLModel",
          "model_module_version": "1.5.0",
          "state": {
            "_dom_classes": [],
            "_model_module": "@jupyter-widgets/controls",
            "_model_module_version": "1.5.0",
            "_model_name": "HTMLModel",
            "_view_count": null,
            "_view_module": "@jupyter-widgets/controls",
            "_view_module_version": "1.5.0",
            "_view_name": "HTMLView",
            "description": "",
            "description_tooltip": null,
            "layout": "IPY_MODEL_f0991230b01e4d00ac67f8b9c0323fd5",
            "placeholder": "​",
            "style": "IPY_MODEL_1facb5900b0d424a86ee805765e58f59",
            "value": " 1.47M/1.47M [00:00&lt;00:00, 4.54MB/s]"
          }
        },
        "110029ab8e6e4c7e8a82e72fed6acc8d": {
          "model_module": "@jupyter-widgets/base",
          "model_name": "LayoutModel",
          "model_module_version": "1.2.0",
          "state": {
            "_model_module": "@jupyter-widgets/base",
            "_model_module_version": "1.2.0",
            "_model_name": "LayoutModel",
            "_view_count": null,
            "_view_module": "@jupyter-widgets/base",
            "_view_module_version": "1.2.0",
            "_view_name": "LayoutView",
            "align_content": null,
            "align_items": null,
            "align_self": null,
            "border": null,
            "bottom": null,
            "display": null,
            "flex": null,
            "flex_flow": null,
            "grid_area": null,
            "grid_auto_columns": null,
            "grid_auto_flow": null,
            "grid_auto_rows": null,
            "grid_column": null,
            "grid_gap": null,
            "grid_row": null,
            "grid_template_areas": null,
            "grid_template_columns": null,
            "grid_template_rows": null,
            "height": null,
            "justify_content": null,
            "justify_items": null,
            "left": null,
            "margin": null,
            "max_height": null,
            "max_width": null,
            "min_height": null,
            "min_width": null,
            "object_fit": null,
            "object_position": null,
            "order": null,
            "overflow": null,
            "overflow_x": null,
            "overflow_y": null,
            "padding": null,
            "right": null,
            "top": null,
            "visibility": null,
            "width": null
          }
        },
        "a111425ff8854b439d219fd2fe6f6387": {
          "model_module": "@jupyter-widgets/base",
          "model_name": "LayoutModel",
          "model_module_version": "1.2.0",
          "state": {
            "_model_module": "@jupyter-widgets/base",
            "_model_module_version": "1.2.0",
            "_model_name": "LayoutModel",
            "_view_count": null,
            "_view_module": "@jupyter-widgets/base",
            "_view_module_version": "1.2.0",
            "_view_name": "LayoutView",
            "align_content": null,
            "align_items": null,
            "align_self": null,
            "border": null,
            "bottom": null,
            "display": null,
            "flex": null,
            "flex_flow": null,
            "grid_area": null,
            "grid_auto_columns": null,
            "grid_auto_flow": null,
            "grid_auto_rows": null,
            "grid_column": null,
            "grid_gap": null,
            "grid_row": null,
            "grid_template_areas": null,
            "grid_template_columns": null,
            "grid_template_rows": null,
            "height": null,
            "justify_content": null,
            "justify_items": null,
            "left": null,
            "margin": null,
            "max_height": null,
            "max_width": null,
            "min_height": null,
            "min_width": null,
            "object_fit": null,
            "object_position": null,
            "order": null,
            "overflow": null,
            "overflow_x": null,
            "overflow_y": null,
            "padding": null,
            "right": null,
            "top": null,
            "visibility": null,
            "width": null
          }
        },
        "35655f5e864c4ce591e90679e52b4615": {
          "model_module": "@jupyter-widgets/controls",
          "model_name": "DescriptionStyleModel",
          "model_module_version": "1.5.0",
          "state": {
            "_model_module": "@jupyter-widgets/controls",
            "_model_module_version": "1.5.0",
            "_model_name": "DescriptionStyleModel",
            "_view_count": null,
            "_view_module": "@jupyter-widgets/base",
            "_view_module_version": "1.2.0",
            "_view_name": "StyleView",
            "description_width": ""
          }
        },
        "6ce0d18083fd4743968620b8d6712b43": {
          "model_module": "@jupyter-widgets/base",
          "model_name": "LayoutModel",
          "model_module_version": "1.2.0",
          "state": {
            "_model_module": "@jupyter-widgets/base",
            "_model_module_version": "1.2.0",
            "_model_name": "LayoutModel",
            "_view_count": null,
            "_view_module": "@jupyter-widgets/base",
            "_view_module_version": "1.2.0",
            "_view_name": "LayoutView",
            "align_content": null,
            "align_items": null,
            "align_self": null,
            "border": null,
            "bottom": null,
            "display": null,
            "flex": null,
            "flex_flow": null,
            "grid_area": null,
            "grid_auto_columns": null,
            "grid_auto_flow": null,
            "grid_auto_rows": null,
            "grid_column": null,
            "grid_gap": null,
            "grid_row": null,
            "grid_template_areas": null,
            "grid_template_columns": null,
            "grid_template_rows": null,
            "height": null,
            "justify_content": null,
            "justify_items": null,
            "left": null,
            "margin": null,
            "max_height": null,
            "max_width": null,
            "min_height": null,
            "min_width": null,
            "object_fit": null,
            "object_position": null,
            "order": null,
            "overflow": null,
            "overflow_x": null,
            "overflow_y": null,
            "padding": null,
            "right": null,
            "top": null,
            "visibility": null,
            "width": null
          }
        },
        "55f0e9c4edc848309d8ee980bd98a5f1": {
          "model_module": "@jupyter-widgets/controls",
          "model_name": "ProgressStyleModel",
          "model_module_version": "1.5.0",
          "state": {
            "_model_module": "@jupyter-widgets/controls",
            "_model_module_version": "1.5.0",
            "_model_name": "ProgressStyleModel",
            "_view_count": null,
            "_view_module": "@jupyter-widgets/base",
            "_view_module_version": "1.2.0",
            "_view_name": "StyleView",
            "bar_color": null,
            "description_width": ""
          }
        },
        "f0991230b01e4d00ac67f8b9c0323fd5": {
          "model_module": "@jupyter-widgets/base",
          "model_name": "LayoutModel",
          "model_module_version": "1.2.0",
          "state": {
            "_model_module": "@jupyter-widgets/base",
            "_model_module_version": "1.2.0",
            "_model_name": "LayoutModel",
            "_view_count": null,
            "_view_module": "@jupyter-widgets/base",
            "_view_module_version": "1.2.0",
            "_view_name": "LayoutView",
            "align_content": null,
            "align_items": null,
            "align_self": null,
            "border": null,
            "bottom": null,
            "display": null,
            "flex": null,
            "flex_flow": null,
            "grid_area": null,
            "grid_auto_columns": null,
            "grid_auto_flow": null,
            "grid_auto_rows": null,
            "grid_column": null,
            "grid_gap": null,
            "grid_row": null,
            "grid_template_areas": null,
            "grid_template_columns": null,
            "grid_template_rows": null,
            "height": null,
            "justify_content": null,
            "justify_items": null,
            "left": null,
            "margin": null,
            "max_height": null,
            "max_width": null,
            "min_height": null,
            "min_width": null,
            "object_fit": null,
            "object_position": null,
            "order": null,
            "overflow": null,
            "overflow_x": null,
            "overflow_y": null,
            "padding": null,
            "right": null,
            "top": null,
            "visibility": null,
            "width": null
          }
        },
        "1facb5900b0d424a86ee805765e58f59": {
          "model_module": "@jupyter-widgets/controls",
          "model_name": "DescriptionStyleModel",
          "model_module_version": "1.5.0",
          "state": {
            "_model_module": "@jupyter-widgets/controls",
            "_model_module_version": "1.5.0",
            "_model_name": "DescriptionStyleModel",
            "_view_count": null,
            "_view_module": "@jupyter-widgets/base",
            "_view_module_version": "1.2.0",
            "_view_name": "StyleView",
            "description_width": ""
          }
        },
        "f010b2013768475c8b0cb22136f1c152": {
          "model_module": "@jupyter-widgets/controls",
          "model_name": "HBoxModel",
          "model_module_version": "1.5.0",
          "state": {
            "_dom_classes": [],
            "_model_module": "@jupyter-widgets/controls",
            "_model_module_version": "1.5.0",
            "_model_name": "HBoxModel",
            "_view_count": null,
            "_view_module": "@jupyter-widgets/controls",
            "_view_module_version": "1.5.0",
            "_view_name": "HBoxView",
            "box_style": "",
            "children": [
              "IPY_MODEL_bd9f405da3174213aa6992240efb0aa1",
              "IPY_MODEL_cd907be304dc4b2fa14f3c208b310d14",
              "IPY_MODEL_7a376937ccf944b8906adf2c9d41fd18"
            ],
            "layout": "IPY_MODEL_5c16e279e92046a8a0042a840d047de5"
          }
        },
        "bd9f405da3174213aa6992240efb0aa1": {
          "model_module": "@jupyter-widgets/controls",
          "model_name": "HTMLModel",
          "model_module_version": "1.5.0",
          "state": {
            "_dom_classes": [],
            "_model_module": "@jupyter-widgets/controls",
            "_model_module_version": "1.5.0",
            "_model_name": "HTMLModel",
            "_view_count": null,
            "_view_module": "@jupyter-widgets/controls",
            "_view_module_version": "1.5.0",
            "_view_name": "HTMLView",
            "description": "",
            "description_tooltip": null,
            "layout": "IPY_MODEL_1747015db51c44d28ff5cd7e62115c0a",
            "placeholder": "​",
            "style": "IPY_MODEL_a20a6b471e3f47fb9009d65d68397e27",
            "value": "Downloading special_tokens_map.json: 100%"
          }
        },
        "cd907be304dc4b2fa14f3c208b310d14": {
          "model_module": "@jupyter-widgets/controls",
          "model_name": "FloatProgressModel",
          "model_module_version": "1.5.0",
          "state": {
            "_dom_classes": [],
            "_model_module": "@jupyter-widgets/controls",
            "_model_module_version": "1.5.0",
            "_model_name": "FloatProgressModel",
            "_view_count": null,
            "_view_module": "@jupyter-widgets/controls",
            "_view_module_version": "1.5.0",
            "_view_name": "ProgressView",
            "bar_style": "success",
            "description": "",
            "description_tooltip": null,
            "layout": "IPY_MODEL_0f3ae455dad24fc788cd45d361131122",
            "max": 112,
            "min": 0,
            "orientation": "horizontal",
            "style": "IPY_MODEL_c0af69eb990a48af9aeb88254fb07b0f",
            "value": 112
          }
        },
        "7a376937ccf944b8906adf2c9d41fd18": {
          "model_module": "@jupyter-widgets/controls",
          "model_name": "HTMLModel",
          "model_module_version": "1.5.0",
          "state": {
            "_dom_classes": [],
            "_model_module": "@jupyter-widgets/controls",
            "_model_module_version": "1.5.0",
            "_model_name": "HTMLModel",
            "_view_count": null,
            "_view_module": "@jupyter-widgets/controls",
            "_view_module_version": "1.5.0",
            "_view_name": "HTMLView",
            "description": "",
            "description_tooltip": null,
            "layout": "IPY_MODEL_334cd863b8df42209502b90cd33edfad",
            "placeholder": "​",
            "style": "IPY_MODEL_2bfd3a7a031e4e339fbf722922093fdd",
            "value": " 112/112 [00:00&lt;00:00, 3.37kB/s]"
          }
        },
        "5c16e279e92046a8a0042a840d047de5": {
          "model_module": "@jupyter-widgets/base",
          "model_name": "LayoutModel",
          "model_module_version": "1.2.0",
          "state": {
            "_model_module": "@jupyter-widgets/base",
            "_model_module_version": "1.2.0",
            "_model_name": "LayoutModel",
            "_view_count": null,
            "_view_module": "@jupyter-widgets/base",
            "_view_module_version": "1.2.0",
            "_view_name": "LayoutView",
            "align_content": null,
            "align_items": null,
            "align_self": null,
            "border": null,
            "bottom": null,
            "display": null,
            "flex": null,
            "flex_flow": null,
            "grid_area": null,
            "grid_auto_columns": null,
            "grid_auto_flow": null,
            "grid_auto_rows": null,
            "grid_column": null,
            "grid_gap": null,
            "grid_row": null,
            "grid_template_areas": null,
            "grid_template_columns": null,
            "grid_template_rows": null,
            "height": null,
            "justify_content": null,
            "justify_items": null,
            "left": null,
            "margin": null,
            "max_height": null,
            "max_width": null,
            "min_height": null,
            "min_width": null,
            "object_fit": null,
            "object_position": null,
            "order": null,
            "overflow": null,
            "overflow_x": null,
            "overflow_y": null,
            "padding": null,
            "right": null,
            "top": null,
            "visibility": null,
            "width": null
          }
        },
        "1747015db51c44d28ff5cd7e62115c0a": {
          "model_module": "@jupyter-widgets/base",
          "model_name": "LayoutModel",
          "model_module_version": "1.2.0",
          "state": {
            "_model_module": "@jupyter-widgets/base",
            "_model_module_version": "1.2.0",
            "_model_name": "LayoutModel",
            "_view_count": null,
            "_view_module": "@jupyter-widgets/base",
            "_view_module_version": "1.2.0",
            "_view_name": "LayoutView",
            "align_content": null,
            "align_items": null,
            "align_self": null,
            "border": null,
            "bottom": null,
            "display": null,
            "flex": null,
            "flex_flow": null,
            "grid_area": null,
            "grid_auto_columns": null,
            "grid_auto_flow": null,
            "grid_auto_rows": null,
            "grid_column": null,
            "grid_gap": null,
            "grid_row": null,
            "grid_template_areas": null,
            "grid_template_columns": null,
            "grid_template_rows": null,
            "height": null,
            "justify_content": null,
            "justify_items": null,
            "left": null,
            "margin": null,
            "max_height": null,
            "max_width": null,
            "min_height": null,
            "min_width": null,
            "object_fit": null,
            "object_position": null,
            "order": null,
            "overflow": null,
            "overflow_x": null,
            "overflow_y": null,
            "padding": null,
            "right": null,
            "top": null,
            "visibility": null,
            "width": null
          }
        },
        "a20a6b471e3f47fb9009d65d68397e27": {
          "model_module": "@jupyter-widgets/controls",
          "model_name": "DescriptionStyleModel",
          "model_module_version": "1.5.0",
          "state": {
            "_model_module": "@jupyter-widgets/controls",
            "_model_module_version": "1.5.0",
            "_model_name": "DescriptionStyleModel",
            "_view_count": null,
            "_view_module": "@jupyter-widgets/base",
            "_view_module_version": "1.2.0",
            "_view_name": "StyleView",
            "description_width": ""
          }
        },
        "0f3ae455dad24fc788cd45d361131122": {
          "model_module": "@jupyter-widgets/base",
          "model_name": "LayoutModel",
          "model_module_version": "1.2.0",
          "state": {
            "_model_module": "@jupyter-widgets/base",
            "_model_module_version": "1.2.0",
            "_model_name": "LayoutModel",
            "_view_count": null,
            "_view_module": "@jupyter-widgets/base",
            "_view_module_version": "1.2.0",
            "_view_name": "LayoutView",
            "align_content": null,
            "align_items": null,
            "align_self": null,
            "border": null,
            "bottom": null,
            "display": null,
            "flex": null,
            "flex_flow": null,
            "grid_area": null,
            "grid_auto_columns": null,
            "grid_auto_flow": null,
            "grid_auto_rows": null,
            "grid_column": null,
            "grid_gap": null,
            "grid_row": null,
            "grid_template_areas": null,
            "grid_template_columns": null,
            "grid_template_rows": null,
            "height": null,
            "justify_content": null,
            "justify_items": null,
            "left": null,
            "margin": null,
            "max_height": null,
            "max_width": null,
            "min_height": null,
            "min_width": null,
            "object_fit": null,
            "object_position": null,
            "order": null,
            "overflow": null,
            "overflow_x": null,
            "overflow_y": null,
            "padding": null,
            "right": null,
            "top": null,
            "visibility": null,
            "width": null
          }
        },
        "c0af69eb990a48af9aeb88254fb07b0f": {
          "model_module": "@jupyter-widgets/controls",
          "model_name": "ProgressStyleModel",
          "model_module_version": "1.5.0",
          "state": {
            "_model_module": "@jupyter-widgets/controls",
            "_model_module_version": "1.5.0",
            "_model_name": "ProgressStyleModel",
            "_view_count": null,
            "_view_module": "@jupyter-widgets/base",
            "_view_module_version": "1.2.0",
            "_view_name": "StyleView",
            "bar_color": null,
            "description_width": ""
          }
        },
        "334cd863b8df42209502b90cd33edfad": {
          "model_module": "@jupyter-widgets/base",
          "model_name": "LayoutModel",
          "model_module_version": "1.2.0",
          "state": {
            "_model_module": "@jupyter-widgets/base",
            "_model_module_version": "1.2.0",
            "_model_name": "LayoutModel",
            "_view_count": null,
            "_view_module": "@jupyter-widgets/base",
            "_view_module_version": "1.2.0",
            "_view_name": "LayoutView",
            "align_content": null,
            "align_items": null,
            "align_self": null,
            "border": null,
            "bottom": null,
            "display": null,
            "flex": null,
            "flex_flow": null,
            "grid_area": null,
            "grid_auto_columns": null,
            "grid_auto_flow": null,
            "grid_auto_rows": null,
            "grid_column": null,
            "grid_gap": null,
            "grid_row": null,
            "grid_template_areas": null,
            "grid_template_columns": null,
            "grid_template_rows": null,
            "height": null,
            "justify_content": null,
            "justify_items": null,
            "left": null,
            "margin": null,
            "max_height": null,
            "max_width": null,
            "min_height": null,
            "min_width": null,
            "object_fit": null,
            "object_position": null,
            "order": null,
            "overflow": null,
            "overflow_x": null,
            "overflow_y": null,
            "padding": null,
            "right": null,
            "top": null,
            "visibility": null,
            "width": null
          }
        },
        "2bfd3a7a031e4e339fbf722922093fdd": {
          "model_module": "@jupyter-widgets/controls",
          "model_name": "DescriptionStyleModel",
          "model_module_version": "1.5.0",
          "state": {
            "_model_module": "@jupyter-widgets/controls",
            "_model_module_version": "1.5.0",
            "_model_name": "DescriptionStyleModel",
            "_view_count": null,
            "_view_module": "@jupyter-widgets/base",
            "_view_module_version": "1.2.0",
            "_view_name": "StyleView",
            "description_width": ""
          }
        },
        "67c02d138d1d4fa69ea7368891d7dea8": {
          "model_module": "@jupyter-widgets/controls",
          "model_name": "HBoxModel",
          "model_module_version": "1.5.0",
          "state": {
            "_dom_classes": [],
            "_model_module": "@jupyter-widgets/controls",
            "_model_module_version": "1.5.0",
            "_model_name": "HBoxModel",
            "_view_count": null,
            "_view_module": "@jupyter-widgets/controls",
            "_view_module_version": "1.5.0",
            "_view_name": "HBoxView",
            "box_style": "",
            "children": [
              "IPY_MODEL_902474bd53e5417b9494c6bafb6f324d",
              "IPY_MODEL_1e33d5afb8f548019e93815fd20d5ed4",
              "IPY_MODEL_baa412c4acc6407cac7333c12680df66"
            ],
            "layout": "IPY_MODEL_1881a4fb3aa846939338d081f0609015"
          }
        },
        "902474bd53e5417b9494c6bafb6f324d": {
          "model_module": "@jupyter-widgets/controls",
          "model_name": "HTMLModel",
          "model_module_version": "1.5.0",
          "state": {
            "_dom_classes": [],
            "_model_module": "@jupyter-widgets/controls",
            "_model_module_version": "1.5.0",
            "_model_name": "HTMLModel",
            "_view_count": null,
            "_view_module": "@jupyter-widgets/controls",
            "_view_module_version": "1.5.0",
            "_view_name": "HTMLView",
            "description": "",
            "description_tooltip": null,
            "layout": "IPY_MODEL_943e8b72199c4e968c67740eef9751cb",
            "placeholder": "​",
            "style": "IPY_MODEL_141048402eda4826bf4c9bdcbb59514e",
            "value": "Downloading config.json: 100%"
          }
        },
        "1e33d5afb8f548019e93815fd20d5ed4": {
          "model_module": "@jupyter-widgets/controls",
          "model_name": "FloatProgressModel",
          "model_module_version": "1.5.0",
          "state": {
            "_dom_classes": [],
            "_model_module": "@jupyter-widgets/controls",
            "_model_module_version": "1.5.0",
            "_model_name": "FloatProgressModel",
            "_view_count": null,
            "_view_module": "@jupyter-widgets/controls",
            "_view_module_version": "1.5.0",
            "_view_name": "ProgressView",
            "bar_style": "success",
            "description": "",
            "description_tooltip": null,
            "layout": "IPY_MODEL_2bd3811cea274a5a9a2a6f423e6d88de",
            "max": 645,
            "min": 0,
            "orientation": "horizontal",
            "style": "IPY_MODEL_badd369ec0454381b42d922651a8567f",
            "value": 645
          }
        },
        "baa412c4acc6407cac7333c12680df66": {
          "model_module": "@jupyter-widgets/controls",
          "model_name": "HTMLModel",
          "model_module_version": "1.5.0",
          "state": {
            "_dom_classes": [],
            "_model_module": "@jupyter-widgets/controls",
            "_model_module_version": "1.5.0",
            "_model_name": "HTMLModel",
            "_view_count": null,
            "_view_module": "@jupyter-widgets/controls",
            "_view_module_version": "1.5.0",
            "_view_name": "HTMLView",
            "description": "",
            "description_tooltip": null,
            "layout": "IPY_MODEL_b0ef63e7768340249ba9eee6ef228075",
            "placeholder": "​",
            "style": "IPY_MODEL_52000cf7089e48589345e39e565065a8",
            "value": " 645/645 [00:00&lt;00:00, 20.8kB/s]"
          }
        },
        "1881a4fb3aa846939338d081f0609015": {
          "model_module": "@jupyter-widgets/base",
          "model_name": "LayoutModel",
          "model_module_version": "1.2.0",
          "state": {
            "_model_module": "@jupyter-widgets/base",
            "_model_module_version": "1.2.0",
            "_model_name": "LayoutModel",
            "_view_count": null,
            "_view_module": "@jupyter-widgets/base",
            "_view_module_version": "1.2.0",
            "_view_name": "LayoutView",
            "align_content": null,
            "align_items": null,
            "align_self": null,
            "border": null,
            "bottom": null,
            "display": null,
            "flex": null,
            "flex_flow": null,
            "grid_area": null,
            "grid_auto_columns": null,
            "grid_auto_flow": null,
            "grid_auto_rows": null,
            "grid_column": null,
            "grid_gap": null,
            "grid_row": null,
            "grid_template_areas": null,
            "grid_template_columns": null,
            "grid_template_rows": null,
            "height": null,
            "justify_content": null,
            "justify_items": null,
            "left": null,
            "margin": null,
            "max_height": null,
            "max_width": null,
            "min_height": null,
            "min_width": null,
            "object_fit": null,
            "object_position": null,
            "order": null,
            "overflow": null,
            "overflow_x": null,
            "overflow_y": null,
            "padding": null,
            "right": null,
            "top": null,
            "visibility": null,
            "width": null
          }
        },
        "943e8b72199c4e968c67740eef9751cb": {
          "model_module": "@jupyter-widgets/base",
          "model_name": "LayoutModel",
          "model_module_version": "1.2.0",
          "state": {
            "_model_module": "@jupyter-widgets/base",
            "_model_module_version": "1.2.0",
            "_model_name": "LayoutModel",
            "_view_count": null,
            "_view_module": "@jupyter-widgets/base",
            "_view_module_version": "1.2.0",
            "_view_name": "LayoutView",
            "align_content": null,
            "align_items": null,
            "align_self": null,
            "border": null,
            "bottom": null,
            "display": null,
            "flex": null,
            "flex_flow": null,
            "grid_area": null,
            "grid_auto_columns": null,
            "grid_auto_flow": null,
            "grid_auto_rows": null,
            "grid_column": null,
            "grid_gap": null,
            "grid_row": null,
            "grid_template_areas": null,
            "grid_template_columns": null,
            "grid_template_rows": null,
            "height": null,
            "justify_content": null,
            "justify_items": null,
            "left": null,
            "margin": null,
            "max_height": null,
            "max_width": null,
            "min_height": null,
            "min_width": null,
            "object_fit": null,
            "object_position": null,
            "order": null,
            "overflow": null,
            "overflow_x": null,
            "overflow_y": null,
            "padding": null,
            "right": null,
            "top": null,
            "visibility": null,
            "width": null
          }
        },
        "141048402eda4826bf4c9bdcbb59514e": {
          "model_module": "@jupyter-widgets/controls",
          "model_name": "DescriptionStyleModel",
          "model_module_version": "1.5.0",
          "state": {
            "_model_module": "@jupyter-widgets/controls",
            "_model_module_version": "1.5.0",
            "_model_name": "DescriptionStyleModel",
            "_view_count": null,
            "_view_module": "@jupyter-widgets/base",
            "_view_module_version": "1.2.0",
            "_view_name": "StyleView",
            "description_width": ""
          }
        },
        "2bd3811cea274a5a9a2a6f423e6d88de": {
          "model_module": "@jupyter-widgets/base",
          "model_name": "LayoutModel",
          "model_module_version": "1.2.0",
          "state": {
            "_model_module": "@jupyter-widgets/base",
            "_model_module_version": "1.2.0",
            "_model_name": "LayoutModel",
            "_view_count": null,
            "_view_module": "@jupyter-widgets/base",
            "_view_module_version": "1.2.0",
            "_view_name": "LayoutView",
            "align_content": null,
            "align_items": null,
            "align_self": null,
            "border": null,
            "bottom": null,
            "display": null,
            "flex": null,
            "flex_flow": null,
            "grid_area": null,
            "grid_auto_columns": null,
            "grid_auto_flow": null,
            "grid_auto_rows": null,
            "grid_column": null,
            "grid_gap": null,
            "grid_row": null,
            "grid_template_areas": null,
            "grid_template_columns": null,
            "grid_template_rows": null,
            "height": null,
            "justify_content": null,
            "justify_items": null,
            "left": null,
            "margin": null,
            "max_height": null,
            "max_width": null,
            "min_height": null,
            "min_width": null,
            "object_fit": null,
            "object_position": null,
            "order": null,
            "overflow": null,
            "overflow_x": null,
            "overflow_y": null,
            "padding": null,
            "right": null,
            "top": null,
            "visibility": null,
            "width": null
          }
        },
        "badd369ec0454381b42d922651a8567f": {
          "model_module": "@jupyter-widgets/controls",
          "model_name": "ProgressStyleModel",
          "model_module_version": "1.5.0",
          "state": {
            "_model_module": "@jupyter-widgets/controls",
            "_model_module_version": "1.5.0",
            "_model_name": "ProgressStyleModel",
            "_view_count": null,
            "_view_module": "@jupyter-widgets/base",
            "_view_module_version": "1.2.0",
            "_view_name": "StyleView",
            "bar_color": null,
            "description_width": ""
          }
        },
        "b0ef63e7768340249ba9eee6ef228075": {
          "model_module": "@jupyter-widgets/base",
          "model_name": "LayoutModel",
          "model_module_version": "1.2.0",
          "state": {
            "_model_module": "@jupyter-widgets/base",
            "_model_module_version": "1.2.0",
            "_model_name": "LayoutModel",
            "_view_count": null,
            "_view_module": "@jupyter-widgets/base",
            "_view_module_version": "1.2.0",
            "_view_name": "LayoutView",
            "align_content": null,
            "align_items": null,
            "align_self": null,
            "border": null,
            "bottom": null,
            "display": null,
            "flex": null,
            "flex_flow": null,
            "grid_area": null,
            "grid_auto_columns": null,
            "grid_auto_flow": null,
            "grid_auto_rows": null,
            "grid_column": null,
            "grid_gap": null,
            "grid_row": null,
            "grid_template_areas": null,
            "grid_template_columns": null,
            "grid_template_rows": null,
            "height": null,
            "justify_content": null,
            "justify_items": null,
            "left": null,
            "margin": null,
            "max_height": null,
            "max_width": null,
            "min_height": null,
            "min_width": null,
            "object_fit": null,
            "object_position": null,
            "order": null,
            "overflow": null,
            "overflow_x": null,
            "overflow_y": null,
            "padding": null,
            "right": null,
            "top": null,
            "visibility": null,
            "width": null
          }
        },
        "52000cf7089e48589345e39e565065a8": {
          "model_module": "@jupyter-widgets/controls",
          "model_name": "DescriptionStyleModel",
          "model_module_version": "1.5.0",
          "state": {
            "_model_module": "@jupyter-widgets/controls",
            "_model_module_version": "1.5.0",
            "_model_name": "DescriptionStyleModel",
            "_view_count": null,
            "_view_module": "@jupyter-widgets/base",
            "_view_module_version": "1.2.0",
            "_view_name": "StyleView",
            "description_width": ""
          }
        }
      }
    }
  },
  "cells": [
    {
      "cell_type": "markdown",
      "source": [
        "Using genomic tools determined which variants causes disease in the patient with the following symptoms:\n",
        " - Autistic features\n",
        " - Developmental delay\n",
        " - Mild speech delay\n",
        " - Epilepsy (bilateral tonic-clonic seizures, lasting 1 min, recurring several times within 2 days, and then increased in frequency to five seizures per day).\n"
      ],
      "metadata": {
        "id": "EiI1Zx2w65Eb"
      }
    },
    {
      "cell_type": "markdown",
      "source": [
        "# Installing"
      ],
      "metadata": {
        "id": "wkt7AKK-9GFZ"
      }
    },
    {
      "cell_type": "code",
      "source": [
        "!pip install spliceai pysam tensorflow transformers "
      ],
      "metadata": {
        "colab": {
          "base_uri": "https://localhost:8080/"
        },
        "id": "yv-O6PoY9Av4",
        "outputId": "f0a538dc-3b10-4a7d-dffb-95256a32ece1"
      },
      "execution_count": null,
      "outputs": [
        {
          "output_type": "stream",
          "name": "stdout",
          "text": [
            "Looking in indexes: https://pypi.org/simple, https://us-python.pkg.dev/colab-wheels/public/simple/\n",
            "Collecting spliceai\n",
            "  Downloading spliceai-1.3.1-py2.py3-none-any.whl (16.7 MB)\n",
            "\u001b[K     |████████████████████████████████| 16.7 MB 3.7 MB/s \n",
            "\u001b[?25hCollecting pysam\n",
            "  Downloading pysam-0.19.1-cp37-cp37m-manylinux_2_24_x86_64.whl (15.1 MB)\n",
            "\u001b[K     |████████████████████████████████| 15.1 MB 28.5 MB/s \n",
            "\u001b[?25hRequirement already satisfied: tensorflow in /usr/local/lib/python3.7/dist-packages (2.8.2+zzzcolab20220719082949)\n",
            "Collecting transformers\n",
            "  Downloading transformers-4.21.3-py3-none-any.whl (4.7 MB)\n",
            "\u001b[K     |████████████████████████████████| 4.7 MB 45.7 MB/s \n",
            "\u001b[?25hCollecting pyfaidx>=0.5.0\n",
            "  Downloading pyfaidx-0.7.1.tar.gz (103 kB)\n",
            "\u001b[K     |████████████████████████████████| 103 kB 55.5 MB/s \n",
            "\u001b[?25hRequirement already satisfied: numpy>=1.14.0 in /usr/local/lib/python3.7/dist-packages (from spliceai) (1.21.6)\n",
            "Requirement already satisfied: pandas>=0.24.2 in /usr/local/lib/python3.7/dist-packages (from spliceai) (1.3.5)\n",
            "Requirement already satisfied: keras>=2.0.5 in /usr/local/lib/python3.7/dist-packages (from spliceai) (2.8.0)\n",
            "Requirement already satisfied: python-dateutil>=2.7.3 in /usr/local/lib/python3.7/dist-packages (from pandas>=0.24.2->spliceai) (2.8.2)\n",
            "Requirement already satisfied: pytz>=2017.3 in /usr/local/lib/python3.7/dist-packages (from pandas>=0.24.2->spliceai) (2022.2.1)\n",
            "Requirement already satisfied: six in /usr/local/lib/python3.7/dist-packages (from pyfaidx>=0.5.0->spliceai) (1.15.0)\n",
            "Requirement already satisfied: setuptools>=0.7 in /usr/local/lib/python3.7/dist-packages (from pyfaidx>=0.5.0->spliceai) (57.4.0)\n",
            "Requirement already satisfied: libclang>=9.0.1 in /usr/local/lib/python3.7/dist-packages (from tensorflow) (14.0.6)\n",
            "Requirement already satisfied: tensorboard<2.9,>=2.8 in /usr/local/lib/python3.7/dist-packages (from tensorflow) (2.8.0)\n",
            "Requirement already satisfied: google-pasta>=0.1.1 in /usr/local/lib/python3.7/dist-packages (from tensorflow) (0.2.0)\n",
            "Requirement already satisfied: flatbuffers>=1.12 in /usr/local/lib/python3.7/dist-packages (from tensorflow) (2.0.7)\n",
            "Requirement already satisfied: gast>=0.2.1 in /usr/local/lib/python3.7/dist-packages (from tensorflow) (0.5.3)\n",
            "Requirement already satisfied: tensorflow-estimator<2.9,>=2.8 in /usr/local/lib/python3.7/dist-packages (from tensorflow) (2.8.0)\n",
            "Requirement already satisfied: h5py>=2.9.0 in /usr/local/lib/python3.7/dist-packages (from tensorflow) (3.1.0)\n",
            "Requirement already satisfied: keras-preprocessing>=1.1.1 in /usr/local/lib/python3.7/dist-packages (from tensorflow) (1.1.2)\n",
            "Requirement already satisfied: grpcio<2.0,>=1.24.3 in /usr/local/lib/python3.7/dist-packages (from tensorflow) (1.48.1)\n",
            "Requirement already satisfied: tensorflow-io-gcs-filesystem>=0.23.1 in /usr/local/lib/python3.7/dist-packages (from tensorflow) (0.26.0)\n",
            "Requirement already satisfied: wrapt>=1.11.0 in /usr/local/lib/python3.7/dist-packages (from tensorflow) (1.14.1)\n",
            "Requirement already satisfied: astunparse>=1.6.0 in /usr/local/lib/python3.7/dist-packages (from tensorflow) (1.6.3)\n",
            "Requirement already satisfied: absl-py>=0.4.0 in /usr/local/lib/python3.7/dist-packages (from tensorflow) (1.2.0)\n",
            "Requirement already satisfied: termcolor>=1.1.0 in /usr/local/lib/python3.7/dist-packages (from tensorflow) (1.1.0)\n",
            "Requirement already satisfied: typing-extensions>=3.6.6 in /usr/local/lib/python3.7/dist-packages (from tensorflow) (4.1.1)\n",
            "Requirement already satisfied: opt-einsum>=2.3.2 in /usr/local/lib/python3.7/dist-packages (from tensorflow) (3.3.0)\n",
            "Requirement already satisfied: protobuf<3.20,>=3.9.2 in /usr/local/lib/python3.7/dist-packages (from tensorflow) (3.17.3)\n",
            "Requirement already satisfied: wheel<1.0,>=0.23.0 in /usr/local/lib/python3.7/dist-packages (from astunparse>=1.6.0->tensorflow) (0.37.1)\n",
            "Requirement already satisfied: cached-property in /usr/local/lib/python3.7/dist-packages (from h5py>=2.9.0->tensorflow) (1.5.2)\n",
            "Requirement already satisfied: tensorboard-data-server<0.7.0,>=0.6.0 in /usr/local/lib/python3.7/dist-packages (from tensorboard<2.9,>=2.8->tensorflow) (0.6.1)\n",
            "Requirement already satisfied: google-auth-oauthlib<0.5,>=0.4.1 in /usr/local/lib/python3.7/dist-packages (from tensorboard<2.9,>=2.8->tensorflow) (0.4.6)\n",
            "Requirement already satisfied: requests<3,>=2.21.0 in /usr/local/lib/python3.7/dist-packages (from tensorboard<2.9,>=2.8->tensorflow) (2.23.0)\n",
            "Requirement already satisfied: markdown>=2.6.8 in /usr/local/lib/python3.7/dist-packages (from tensorboard<2.9,>=2.8->tensorflow) (3.4.1)\n",
            "Requirement already satisfied: werkzeug>=0.11.15 in /usr/local/lib/python3.7/dist-packages (from tensorboard<2.9,>=2.8->tensorflow) (1.0.1)\n",
            "Requirement already satisfied: google-auth<3,>=1.6.3 in /usr/local/lib/python3.7/dist-packages (from tensorboard<2.9,>=2.8->tensorflow) (1.35.0)\n",
            "Requirement already satisfied: tensorboard-plugin-wit>=1.6.0 in /usr/local/lib/python3.7/dist-packages (from tensorboard<2.9,>=2.8->tensorflow) (1.8.1)\n",
            "Requirement already satisfied: rsa<5,>=3.1.4 in /usr/local/lib/python3.7/dist-packages (from google-auth<3,>=1.6.3->tensorboard<2.9,>=2.8->tensorflow) (4.9)\n",
            "Requirement already satisfied: pyasn1-modules>=0.2.1 in /usr/local/lib/python3.7/dist-packages (from google-auth<3,>=1.6.3->tensorboard<2.9,>=2.8->tensorflow) (0.2.8)\n",
            "Requirement already satisfied: cachetools<5.0,>=2.0.0 in /usr/local/lib/python3.7/dist-packages (from google-auth<3,>=1.6.3->tensorboard<2.9,>=2.8->tensorflow) (4.2.4)\n",
            "Requirement already satisfied: requests-oauthlib>=0.7.0 in /usr/local/lib/python3.7/dist-packages (from google-auth-oauthlib<0.5,>=0.4.1->tensorboard<2.9,>=2.8->tensorflow) (1.3.1)\n",
            "Requirement already satisfied: importlib-metadata>=4.4 in /usr/local/lib/python3.7/dist-packages (from markdown>=2.6.8->tensorboard<2.9,>=2.8->tensorflow) (4.12.0)\n",
            "Requirement already satisfied: zipp>=0.5 in /usr/local/lib/python3.7/dist-packages (from importlib-metadata>=4.4->markdown>=2.6.8->tensorboard<2.9,>=2.8->tensorflow) (3.8.1)\n",
            "Requirement already satisfied: pyasn1<0.5.0,>=0.4.6 in /usr/local/lib/python3.7/dist-packages (from pyasn1-modules>=0.2.1->google-auth<3,>=1.6.3->tensorboard<2.9,>=2.8->tensorflow) (0.4.8)\n",
            "Requirement already satisfied: chardet<4,>=3.0.2 in /usr/local/lib/python3.7/dist-packages (from requests<3,>=2.21.0->tensorboard<2.9,>=2.8->tensorflow) (3.0.4)\n",
            "Requirement already satisfied: idna<3,>=2.5 in /usr/local/lib/python3.7/dist-packages (from requests<3,>=2.21.0->tensorboard<2.9,>=2.8->tensorflow) (2.10)\n",
            "Requirement already satisfied: certifi>=2017.4.17 in /usr/local/lib/python3.7/dist-packages (from requests<3,>=2.21.0->tensorboard<2.9,>=2.8->tensorflow) (2022.6.15)\n",
            "Requirement already satisfied: urllib3!=1.25.0,!=1.25.1,<1.26,>=1.21.1 in /usr/local/lib/python3.7/dist-packages (from requests<3,>=2.21.0->tensorboard<2.9,>=2.8->tensorflow) (1.24.3)\n",
            "Requirement already satisfied: oauthlib>=3.0.0 in /usr/local/lib/python3.7/dist-packages (from requests-oauthlib>=0.7.0->google-auth-oauthlib<0.5,>=0.4.1->tensorboard<2.9,>=2.8->tensorflow) (3.2.0)\n",
            "Requirement already satisfied: pyyaml>=5.1 in /usr/local/lib/python3.7/dist-packages (from transformers) (6.0)\n",
            "Requirement already satisfied: regex!=2019.12.17 in /usr/local/lib/python3.7/dist-packages (from transformers) (2022.6.2)\n",
            "Collecting tokenizers!=0.11.3,<0.13,>=0.11.1\n",
            "  Downloading tokenizers-0.12.1-cp37-cp37m-manylinux_2_12_x86_64.manylinux2010_x86_64.whl (6.6 MB)\n",
            "\u001b[K     |████████████████████████████████| 6.6 MB 35.0 MB/s \n",
            "\u001b[?25hRequirement already satisfied: tqdm>=4.27 in /usr/local/lib/python3.7/dist-packages (from transformers) (4.64.1)\n",
            "Requirement already satisfied: filelock in /usr/local/lib/python3.7/dist-packages (from transformers) (3.8.0)\n",
            "Collecting huggingface-hub<1.0,>=0.1.0\n",
            "  Downloading huggingface_hub-0.9.1-py3-none-any.whl (120 kB)\n",
            "\u001b[K     |████████████████████████████████| 120 kB 50.1 MB/s \n",
            "\u001b[?25hRequirement already satisfied: packaging>=20.0 in /usr/local/lib/python3.7/dist-packages (from transformers) (21.3)\n",
            "Requirement already satisfied: pyparsing!=3.0.5,>=2.0.2 in /usr/local/lib/python3.7/dist-packages (from packaging>=20.0->transformers) (3.0.9)\n",
            "Building wheels for collected packages: pyfaidx\n",
            "  Building wheel for pyfaidx (setup.py) ... \u001b[?25l\u001b[?25hdone\n",
            "  Created wheel for pyfaidx: filename=pyfaidx-0.7.1-py3-none-any.whl size=27747 sha256=f4fe727c7d28c0696b1ede25f05df3604cd3751d659fa53e5b7ba1d8b834e18d\n",
            "  Stored in directory: /root/.cache/pip/wheels/1a/d6/99/7334c4d11bfb574e6d6ea706256053b268a12f2127af1cfd40\n",
            "Successfully built pyfaidx\n",
            "Installing collected packages: tokenizers, pysam, pyfaidx, huggingface-hub, transformers, spliceai\n",
            "Successfully installed huggingface-hub-0.9.1 pyfaidx-0.7.1 pysam-0.19.1 spliceai-1.3.1 tokenizers-0.12.1 transformers-4.21.3\n"
          ]
        }
      ]
    },
    {
      "cell_type": "code",
      "source": [
        "!git clone https://github.com/AIRI-Institute/GENA_LM.git"
      ],
      "metadata": {
        "colab": {
          "base_uri": "https://localhost:8080/"
        },
        "id": "jhUq7-oc90MK",
        "outputId": "8cb22f80-6efa-4d11-afff-ec14a2668dcc"
      },
      "execution_count": null,
      "outputs": [
        {
          "output_type": "stream",
          "name": "stdout",
          "text": [
            "Cloning into 'GENA_LM'...\n",
            "remote: Enumerating objects: 40, done.\u001b[K\n",
            "remote: Counting objects: 100% (40/40), done.\u001b[K\n",
            "remote: Compressing objects: 100% (30/30), done.\u001b[K\n",
            "remote: Total 40 (delta 5), reused 35 (delta 3), pack-reused 0\u001b[K\n",
            "Unpacking objects: 100% (40/40), done.\n"
          ]
        }
      ]
    },
    {
      "cell_type": "markdown",
      "source": [
        "----------------------------------------------------------------------"
      ],
      "metadata": {
        "id": "Nr3vGU6G9BVA"
      }
    },
    {
      "cell_type": "markdown",
      "source": [
        "# import py modules"
      ],
      "metadata": {
        "id": "LamfEPN9LKb9"
      }
    },
    {
      "cell_type": "code",
      "source": [
        "import sys\n",
        "import requests\n",
        "from pathlib import Path\n",
        "\n",
        "import os\n",
        "import numpy as np\n",
        "import pandas as pd\n",
        "import pysam\n",
        "import torch\n",
        "import transformers\n",
        "from spliceai.utils import Annotator, get_delta_scores\n",
        "from torch.utils.data import Dataset\n",
        "from transformers import AutoConfig, AutoTokenizer, TrainingArguments, Trainer\n",
        "from transformers.optimization import AdamW"
      ],
      "metadata": {
        "id": "g7WtFwHI-4pl"
      },
      "execution_count": null,
      "outputs": []
    },
    {
      "cell_type": "markdown",
      "source": [
        "--------------------------------------------------------------------------------"
      ],
      "metadata": {
        "id": "pJ1H6T43-5T7"
      }
    },
    {
      "cell_type": "markdown",
      "source": [
        "**WARNING:** You need to mount data folder to your google disk account.\n",
        "To do this go to this URL: https://drive.google.com/drive/u/1/folders/1zMbJ4vzb0ey_kgXXdE8ssECjKKcBushg\n",
        "\n",
        "On the top of the page, near \"AIRI_workshop\" push arrow down and select 'Add shortcut to Drive' then select 'My Drive' and 'ADD SHORTCUT'"
      ],
      "metadata": {
        "id": "5IXj5ziZ7k9O"
      }
    },
    {
      "cell_type": "code",
      "source": [
        "from google.colab import drive\n",
        "\n",
        "drive.mount(\"/content/gdrive\")\n",
        "root = Path(\"/content/gdrive/MyDrive/AIRI_workshop/\")"
      ],
      "metadata": {
        "colab": {
          "base_uri": "https://localhost:8080/"
        },
        "id": "1OZT02hpet-p",
        "outputId": "c4212bcc-6930-435c-8998-90e5f2c754a1"
      },
      "execution_count": null,
      "outputs": [
        {
          "output_type": "stream",
          "name": "stdout",
          "text": [
            "Drive already mounted at /content/gdrive; to attempt to forcibly remount, call drive.mount(\"/content/gdrive\", force_remount=True).\n"
          ]
        }
      ]
    },
    {
      "cell_type": "markdown",
      "source": [
        "Adding code for helper classes"
      ],
      "metadata": {
        "id": "Y8RSVGRmCZEl"
      }
    },
    {
      "cell_type": "code",
      "source": [
        "sys.path.append(str(root))\n",
        "sys.path.append(\"GENA_LM\")"
      ],
      "metadata": {
        "id": "Ste5RFZOCRwK"
      },
      "execution_count": null,
      "outputs": []
    },
    {
      "cell_type": "code",
      "source": [
        "from lm_instruments.splice_dataset import SpliceAIDataset\n",
        "from lm_instruments.bert_tools import BertForTokenClassification"
      ],
      "metadata": {
        "id": "_7Q58ZgvCTLb"
      },
      "execution_count": null,
      "outputs": []
    },
    {
      "cell_type": "markdown",
      "source": [
        "--------------------------------------------------------------------------------"
      ],
      "metadata": {
        "id": "aoictA4h__k_"
      }
    },
    {
      "cell_type": "markdown",
      "source": [
        "# Stage 1"
      ],
      "metadata": {
        "id": "1FzfsAHJAC3Z"
      }
    },
    {
      "cell_type": "code",
      "source": [
        "# there are multiple variants described in the vcf format\n",
        "# (https://www.ebi.ac.uk/training/online/courses/human-genetic-variation-introduction/variant-identification-and-analysis/understanding-vcf-format/#:~:text=VCF%20is%20the%20standard%20file,for%20variation%20archives%20like%20EVA.)\n",
        "\n",
        "# vcf file with pathient-specific genomic variants:\n",
        "vcf_file = root.joinpath(\"case1.vcf\") \n",
        "!head $vcf_file"
      ],
      "metadata": {
        "id": "vZxeb96bvxqM",
        "colab": {
          "base_uri": "https://localhost:8080/"
        },
        "outputId": "015e094f-dc74-411c-957b-cda68b8fbc02"
      },
      "execution_count": null,
      "outputs": [
        {
          "output_type": "stream",
          "name": "stdout",
          "text": [
            "##fileformat=VCFv4.2\n",
            "##FILTER=<ID=PASS,Description=\"All filters passed\">\n",
            "##reference=GRCh38/hg38\n",
            "#CHROM\tPOS\tID\tREF\tALT\tQUAL\tFILTER\tINFO\n",
            "chr8\t29895208\t.\tG\tA\t.\t.\t.\n",
            "chr17\t32878829\t.\tA\tT\t.\t.\t.\n",
            "chr13\t98857494\t.\tT\tA\t.\t.\t.\n",
            "chr9\t23347465\t.\tT\tC\t.\t.\t.\n",
            "chr1\t25161126\t.\tG\tA\t.\t.\t.\n",
            "chr16\t67837639\t.\tT\tC\t.\t.\t.\n"
          ]
        }
      ]
    },
    {
      "cell_type": "code",
      "source": [
        "\n",
        "fasta = root.joinpath(\"hg38.fa\")\n",
        "\n",
        " \n",
        "annotations = root.joinpath(\"grch38.txt\")\n",
        "ann = Annotator(fasta, annotations)"
      ],
      "metadata": {
        "colab": {
          "base_uri": "https://localhost:8080/"
        },
        "id": "WNUZOy21gIfU",
        "outputId": "4c4de15c-ddaf-4dfd-c924-660d69566bb1"
      },
      "execution_count": null,
      "outputs": [
        {
          "output_type": "stream",
          "name": "stderr",
          "text": [
            "WARNING:tensorflow:No training configuration found in the save file, so the model was *not* compiled. Compile it manually.\n",
            "WARNING:tensorflow:No training configuration found in the save file, so the model was *not* compiled. Compile it manually.\n",
            "WARNING:tensorflow:No training configuration found in the save file, so the model was *not* compiled. Compile it manually.\n",
            "WARNING:tensorflow:No training configuration found in the save file, so the model was *not* compiled. Compile it manually.\n",
            "WARNING:tensorflow:No training configuration found in the save file, so the model was *not* compiled. Compile it manually.\n"
          ]
        }
      ]
    },
    {
      "cell_type": "code",
      "source": [
        "\n",
        "vcf = pysam.VariantFile(vcf_file)\n",
        "records = [record for record in vcf]\n",
        "str(records[0])"
      ],
      "metadata": {
        "colab": {
          "base_uri": "https://localhost:8080/",
          "height": 35
        },
        "id": "aWj9IJl8gj_O",
        "outputId": "2b43cb7e-4294-4b6b-a9e4-d1ee5eefa8ab"
      },
      "execution_count": null,
      "outputs": [
        {
          "output_type": "execute_result",
          "data": {
            "text/plain": [
              "'chr8\\t29895208\\t.\\tG\\tA\\t.\\t.\\t.\\n'"
            ],
            "application/vnd.google.colaboratory.intrinsic+json": {
              "type": "string"
            }
          },
          "metadata": {},
          "execution_count": 13
        }
      ]
    },
    {
      "cell_type": "markdown",
      "source": [
        "# Compute scores\n",
        "\n",
        "Mask scores representing annotated acceptor/donor gain and unannotated acceptor/donor loss."
      ],
      "metadata": {
        "id": "N3PNMwyaN5TP"
      }
    },
    {
      "cell_type": "code",
      "source": [
        "# empty output means that no gene overlaps variant\n",
        "scores = get_delta_scores(records[0], ann, 50, 0)"
      ],
      "metadata": {
        "id": "WyP6Hlnug1hh"
      },
      "execution_count": null,
      "outputs": []
    },
    {
      "cell_type": "code",
      "source": [
        "scores"
      ],
      "metadata": {
        "colab": {
          "base_uri": "https://localhost:8080/"
        },
        "id": "rd6JD8v9jmf4",
        "outputId": "1b14c8b5-9752-4100-be2d-581c799282cc"
      },
      "execution_count": null,
      "outputs": [
        {
          "output_type": "execute_result",
          "data": {
            "text/plain": [
              "[]"
            ]
          },
          "metadata": {},
          "execution_count": 15
        }
      ]
    },
    {
      "cell_type": "markdown",
      "source": [
        "Each element of scores describes one gene overlapping variant, and contains following fields:\n",
        "\n",
        "- ALLELE\tAlternate allele\n",
        "- SYMBOL\tGene symbol\n",
        "- DS_AG\tDelta score (acceptor gain)\n",
        "- DS_AL\tDelta score (acceptor loss)\n",
        "- DS_DG\tDelta score (donor gain)\n",
        "- DS_DL\tDelta score (donor loss)\n",
        "- DP_AG\tDelta position (acceptor gain)\n",
        "- DP_AL\tDelta position (acceptor loss)\n",
        "- DP_DG\tDelta position (donor gain)\n",
        "- DP_DL\tDelta position (donor loss)\n",
        "\n",
        "Delta score of a variant, defined as the maximum of (DS_AG, DS_AL, DS_DG, DS_DL), ranges from 0 to 1 and can be interpreted as the probability of the variant being splice-altering. \n",
        "\n",
        "In the original paper, a detailed characterization is provided for 0.2 (high recall), 0.5 (recommended), and 0.8 (high precision) cutoffs. Delta position conveys information about the location where splicing changes relative to the variant position (positive values are downstream of the variant, negative values are upstream)."
      ],
      "metadata": {
        "id": "zwvo6PbROhLh"
      }
    },
    {
      "cell_type": "markdown",
      "source": [
        "--------------------------------------------------------------------------------"
      ],
      "metadata": {
        "id": "3HRgMPVoO-UO"
      }
    },
    {
      "cell_type": "markdown",
      "source": [
        "--------------------------------------------------------------------------------"
      ],
      "metadata": {
        "id": "MkR90fndAHMF"
      }
    },
    {
      "cell_type": "markdown",
      "source": [
        "# Language model finetuning on SpliceAI dataset"
      ],
      "metadata": {
        "id": "msWWsjaQD3GO"
      }
    },
    {
      "cell_type": "code",
      "source": [
        "gpu_num = torch.cuda.device_count()\n",
        "print(f\"Количество доступных видеокарт: {gpu_num};\")\n",
        "\n",
        "if gpu_num > 0:\n",
        "  torch.cuda.set_device(0)"
      ],
      "metadata": {
        "colab": {
          "base_uri": "https://localhost:8080/"
        },
        "id": "jywhWj_DAPjq",
        "outputId": "ce46d15e-0817-40a3-e2dd-9e118d8e97f0"
      },
      "execution_count": null,
      "outputs": [
        {
          "output_type": "stream",
          "name": "stdout",
          "text": [
            "Количество доступных видеокарт: 1;\n"
          ]
        }
      ]
    },
    {
      "cell_type": "markdown",
      "source": [
        "Download data"
      ],
      "metadata": {
        "id": "h2ws6z-1Fe40"
      }
    },
    {
      "cell_type": "code",
      "source": [
        "# determine dataset format parameters\n",
        "batch_size = 8\n",
        "input_seq_len = 64\n",
        "targets_len = 5000\n",
        "targets_ofsset = 5000\n",
        "\n",
        "# data paths\n",
        "train_data_path = root.joinpath('SpliceAIData', 'train_subsample.csv.gz')\n",
        "valid_data_path = root.joinpath('SpliceAIData', 'valid.csv.gz')\n",
        "\n",
        "# init special bert pretrain bpe tokenizer\n",
        "tokenizer = AutoTokenizer.from_pretrained('AIRI-Institute/gena-lm-bert-base')\n",
        "\n",
        "# load train dataset\n",
        "print()\n",
        "print(f'preparing training data from: {train_data_path}')\n",
        "train_data_path = train_data_path.expanduser().absolute()\n",
        "train_dataset = SpliceAIDataset(train_data_path, \n",
        "                                tokenizer, \n",
        "                                max_seq_len=input_seq_len,\n",
        "                                targets_offset=targets_ofsset, \n",
        "                                targets_len=targets_len)\n",
        "\n",
        "print(f'len(train_dataset): {len(train_dataset)}')\n",
        "\n",
        "if valid_data_path:\n",
        "    print(f'preparing validation data from: {valid_data_path}')\n",
        "    valid_data_path = valid_data_path.expanduser().absolute()\n",
        "    valid_dataset = SpliceAIDataset(valid_data_path, \n",
        "                                    tokenizer, \n",
        "                                    max_seq_len=input_seq_len,\n",
        "                                    targets_offset=targets_ofsset, \n",
        "                                    targets_len=targets_len)\n",
        "\n",
        "    print(f'len(valid_dataset): {len(valid_dataset)}')\n",
        "else:\n",
        "    valid_dataloader = None\n",
        "    print('No validation data is used.')"
      ],
      "metadata": {
        "colab": {
          "base_uri": "https://localhost:8080/",
          "height": 200,
          "referenced_widgets": [
            "2868f520d21e4772850e91c365ff0bf1",
            "a99ff4ccceb141c8b9cc27c70c2e9bf3",
            "4dd79635480e4a8baa42d718e101d98b",
            "64a75ab0dc6340f48fa9da26a431ddb4",
            "3527c868a6054f0cb1b96af95fe8f231",
            "9dbcc564f4d645228342685406dda08f",
            "f77606f1e6a0437fb803427de84f0d2b",
            "418951c7962843ee81ed4725ed5dac51",
            "7ff7287e98164f6b973e7c075341909b",
            "db4946d70327454692d066da694632a2",
            "8cae9f164bb04c18aa74ca56b622f253",
            "1529839b3d20467abce2118b9de01c9b",
            "77f50594fc88478fb67dc85b845183c6",
            "550af81df9334041b72e89f095e6ba19",
            "c22f4c1972704d7f8ab381649513b471",
            "110029ab8e6e4c7e8a82e72fed6acc8d",
            "a111425ff8854b439d219fd2fe6f6387",
            "35655f5e864c4ce591e90679e52b4615",
            "6ce0d18083fd4743968620b8d6712b43",
            "55f0e9c4edc848309d8ee980bd98a5f1",
            "f0991230b01e4d00ac67f8b9c0323fd5",
            "1facb5900b0d424a86ee805765e58f59",
            "f010b2013768475c8b0cb22136f1c152",
            "bd9f405da3174213aa6992240efb0aa1",
            "cd907be304dc4b2fa14f3c208b310d14",
            "7a376937ccf944b8906adf2c9d41fd18",
            "5c16e279e92046a8a0042a840d047de5",
            "1747015db51c44d28ff5cd7e62115c0a",
            "a20a6b471e3f47fb9009d65d68397e27",
            "0f3ae455dad24fc788cd45d361131122",
            "c0af69eb990a48af9aeb88254fb07b0f",
            "334cd863b8df42209502b90cd33edfad",
            "2bfd3a7a031e4e339fbf722922093fdd"
          ]
        },
        "id": "hB3K0rVzEw92",
        "outputId": "f2cf11f8-a5aa-4aa0-f77a-26ee98e555bf"
      },
      "execution_count": null,
      "outputs": [
        {
          "output_type": "display_data",
          "data": {
            "text/plain": [
              "Downloading tokenizer_config.json:   0%|          | 0.00/46.0 [00:00<?, ?B/s]"
            ],
            "application/vnd.jupyter.widget-view+json": {
              "version_major": 2,
              "version_minor": 0,
              "model_id": "2868f520d21e4772850e91c365ff0bf1"
            }
          },
          "metadata": {}
        },
        {
          "output_type": "display_data",
          "data": {
            "text/plain": [
              "Downloading tokenizer.json:   0%|          | 0.00/1.47M [00:00<?, ?B/s]"
            ],
            "application/vnd.jupyter.widget-view+json": {
              "version_major": 2,
              "version_minor": 0,
              "model_id": "1529839b3d20467abce2118b9de01c9b"
            }
          },
          "metadata": {}
        },
        {
          "output_type": "display_data",
          "data": {
            "text/plain": [
              "Downloading special_tokens_map.json:   0%|          | 0.00/112 [00:00<?, ?B/s]"
            ],
            "application/vnd.jupyter.widget-view+json": {
              "version_major": 2,
              "version_minor": 0,
              "model_id": "f010b2013768475c8b0cb22136f1c152"
            }
          },
          "metadata": {}
        },
        {
          "output_type": "stream",
          "name": "stdout",
          "text": [
            "\n",
            "preparing training data from: /content/gdrive/MyDrive/AIRI_workshop/SpliceAIData/train_subsample.csv.gz\n",
            "len(train_dataset): 20000\n",
            "preparing validation data from: /content/gdrive/MyDrive/AIRI_workshop/SpliceAIData/valid.csv.gz\n",
            "len(valid_dataset): 16270\n"
          ]
        }
      ]
    },
    {
      "cell_type": "code",
      "source": [
        "# load language model config\n",
        "model_cfg = AutoConfig.from_pretrained(\"AIRI-Institute/gena-lm-bert-base\")\n",
        "\n",
        "# labels: 0, 1, 2; multi-class multi-label classification\n",
        "model_cfg.num_labels = 3\n",
        "model_cfg.problem_type = 'multi_label_classification'\n",
        "model = BertForTokenClassification(config=model_cfg)\n",
        "print(f'Using model class: {model_cfg}\\n')\n",
        "\n",
        "# define optimizer\n",
        "optimizer = AdamW(model.parameters(), lr=1e-04, weight_decay=0.0)"
      ],
      "metadata": {
        "colab": {
          "base_uri": "https://localhost:8080/",
          "height": 781,
          "referenced_widgets": [
            "67c02d138d1d4fa69ea7368891d7dea8",
            "902474bd53e5417b9494c6bafb6f324d",
            "1e33d5afb8f548019e93815fd20d5ed4",
            "baa412c4acc6407cac7333c12680df66",
            "1881a4fb3aa846939338d081f0609015",
            "943e8b72199c4e968c67740eef9751cb",
            "141048402eda4826bf4c9bdcbb59514e",
            "2bd3811cea274a5a9a2a6f423e6d88de",
            "badd369ec0454381b42d922651a8567f",
            "b0ef63e7768340249ba9eee6ef228075",
            "52000cf7089e48589345e39e565065a8"
          ]
        },
        "id": "FIWkYqUxD02r",
        "outputId": "7992f0ce-e923-4412-d6cb-c2141bcb3a98"
      },
      "execution_count": null,
      "outputs": [
        {
          "output_type": "display_data",
          "data": {
            "text/plain": [
              "Downloading config.json:   0%|          | 0.00/645 [00:00<?, ?B/s]"
            ],
            "application/vnd.jupyter.widget-view+json": {
              "version_major": 2,
              "version_minor": 0,
              "model_id": "67c02d138d1d4fa69ea7368891d7dea8"
            }
          },
          "metadata": {}
        },
        {
          "output_type": "stream",
          "name": "stdout",
          "text": [
            "Using model class: BertConfig {\n",
            "  \"_name_or_path\": \"AIRI-Institute/gena-lm-bert-base\",\n",
            "  \"architectures\": [\n",
            "    \"BertForPretraining\"\n",
            "  ],\n",
            "  \"attention_probs_dropout_prob\": 0.1,\n",
            "  \"classifier_dropout\": null,\n",
            "  \"gradient_checkpointing\": false,\n",
            "  \"hidden_act\": \"gelu\",\n",
            "  \"hidden_dropout_prob\": 0.1,\n",
            "  \"hidden_size\": 768,\n",
            "  \"id2label\": {\n",
            "    \"0\": \"LABEL_0\",\n",
            "    \"1\": \"LABEL_1\",\n",
            "    \"2\": \"LABEL_2\"\n",
            "  },\n",
            "  \"initializer_range\": 0.02,\n",
            "  \"intermediate_size\": 3072,\n",
            "  \"label2id\": {\n",
            "    \"LABEL_0\": 0,\n",
            "    \"LABEL_1\": 1,\n",
            "    \"LABEL_2\": 2\n",
            "  },\n",
            "  \"layer_norm_eps\": 1e-12,\n",
            "  \"max_position_embeddings\": 512,\n",
            "  \"model_type\": \"bert\",\n",
            "  \"num_attention_heads\": 12,\n",
            "  \"num_hidden_layers\": 12,\n",
            "  \"pad_token_id\": 3,\n",
            "  \"position_embedding_type\": \"absolute\",\n",
            "  \"pre_layer_norm\": true,\n",
            "  \"problem_type\": \"multi_label_classification\",\n",
            "  \"transformers_version\": \"4.21.3\",\n",
            "  \"type_vocab_size\": 2,\n",
            "  \"use_cache\": true,\n",
            "  \"vocab_size\": 32000\n",
            "}\n",
            "\n",
            "\n"
          ]
        },
        {
          "output_type": "stream",
          "name": "stderr",
          "text": [
            "/usr/local/lib/python3.7/dist-packages/transformers/optimization.py:310: FutureWarning: This implementation of AdamW is deprecated and will be removed in a future version. Use the PyTorch implementation torch.optim.AdamW instead, or set `no_deprecation_warning=True` to disable this warning\n",
            "  FutureWarning,\n"
          ]
        }
      ]
    },
    {
      "cell_type": "code",
      "source": [
        "# label counts in test set: [8378616.,    9842.,   10258.])\n",
        "# upweight class 1 and 2\n",
        "label_weights = torch.tensor([1.0, 100.0, 100.0])\n",
        "\n",
        "# ['input_ids', 'token_type_ids', 'attention_mask', 'labels', 'labels_ohe', 'labels_mask']\n",
        "def batch_transform_fn(batch):  # List[Dict]\n",
        "    bs = len(batch)\n",
        "    seq_len = batch[0]['labels'].shape[0]\n",
        "    nb = {'input_ids': [],\n",
        "          'token_type_ids': [],\n",
        "          'attention_mask': [],\n",
        "          'labels': [],\n",
        "          'labels_mask': [],\n",
        "          'label_weights': []}\n",
        "    \n",
        "    for ex in batch:\n",
        "      nb['input_ids'].append(ex['input_ids'])\n",
        "      nb['token_type_ids'].append(ex['token_type_ids'])\n",
        "      nb['attention_mask'].append(ex['attention_mask'])\n",
        "      nb['labels'].append(ex['labels_ohe'])\n",
        "      nb['labels_mask'].append(ex['labels_mask'])\n",
        "      nb['label_weights'].append(label_weights.repeat(seq_len, 1))\n",
        "    \n",
        "    for key, val in nb.items():\n",
        "      nb[key] = torch.from_numpy(np.stack(val, axis=0))\n",
        "\n",
        "    return nb"
      ],
      "metadata": {
        "id": "vBzsL_uqEKvW"
      },
      "execution_count": null,
      "outputs": []
    },
    {
      "cell_type": "code",
      "source": [
        "# create model path and save configuration\n",
        "model_path = root.joinpath('finetune_checkpoints')\n",
        "if not model_path.exists():\n",
        "    Path(model_path).mkdir(parents=True)\n",
        "\n",
        "# init train args\n",
        "training_args = TrainingArguments(output_dir=str(model_path), \n",
        "                                  logging_steps=100,\n",
        "                                  label_names=['labels_mask', 'labels_ohe'],\n",
        "                                  per_device_train_batch_size=batch_size,\n",
        "                                  per_device_eval_batch_size=batch_size)\n",
        "\n",
        "# init trainer\n",
        "trainer = Trainer(model=model, \n",
        "                  args=training_args, \n",
        "                  data_collator=batch_transform_fn,\n",
        "                  train_dataset=train_dataset)"
      ],
      "metadata": {
        "id": "4lA-XinsEKyT"
      },
      "execution_count": null,
      "outputs": []
    },
    {
      "cell_type": "code",
      "source": [
        "# fine tune model\n",
        "trainer.train()"
      ],
      "metadata": {
        "id": "7A-MlRdmEK1O",
        "colab": {
          "base_uri": "https://localhost:8080/",
          "height": 1000
        },
        "outputId": "bca70c13-0521-40bb-afae-20c6b7bf2672"
      },
      "execution_count": null,
      "outputs": [
        {
          "output_type": "stream",
          "name": "stderr",
          "text": [
            "***** Running training *****\n",
            "  Num examples = 20000\n",
            "  Num Epochs = 3\n",
            "  Instantaneous batch size per device = 8\n",
            "  Total train batch size (w. parallel, distributed & accumulation) = 8\n",
            "  Gradient Accumulation steps = 1\n",
            "  Total optimization steps = 7500\n",
            "/usr/local/lib/python3.7/dist-packages/transformers/modeling_utils.py:714: FutureWarning: The `device` argument is deprecated and will be removed in v5 of Transformers.\n",
            "  \"The `device` argument is deprecated and will be removed in v5 of Transformers.\", FutureWarning\n"
          ]
        },
        {
          "output_type": "display_data",
          "data": {
            "text/plain": [
              "<IPython.core.display.HTML object>"
            ],
            "text/html": [
              "\n",
              "    <div>\n",
              "      \n",
              "      <progress value='7500' max='7500' style='width:300px; height:20px; vertical-align: middle;'></progress>\n",
              "      [7500/7500 37:04, Epoch 3/3]\n",
              "    </div>\n",
              "    <table border=\"1\" class=\"dataframe\">\n",
              "  <thead>\n",
              " <tr style=\"text-align: left;\">\n",
              "      <th>Step</th>\n",
              "      <th>Training Loss</th>\n",
              "    </tr>\n",
              "  </thead>\n",
              "  <tbody>\n",
              "    <tr>\n",
              "      <td>100</td>\n",
              "      <td>1.637500</td>\n",
              "    </tr>\n",
              "    <tr>\n",
              "      <td>200</td>\n",
              "      <td>1.429500</td>\n",
              "    </tr>\n",
              "    <tr>\n",
              "      <td>300</td>\n",
              "      <td>1.311500</td>\n",
              "    </tr>\n",
              "    <tr>\n",
              "      <td>400</td>\n",
              "      <td>1.214500</td>\n",
              "    </tr>\n",
              "    <tr>\n",
              "      <td>500</td>\n",
              "      <td>1.074400</td>\n",
              "    </tr>\n",
              "    <tr>\n",
              "      <td>600</td>\n",
              "      <td>1.106900</td>\n",
              "    </tr>\n",
              "    <tr>\n",
              "      <td>700</td>\n",
              "      <td>1.008000</td>\n",
              "    </tr>\n",
              "    <tr>\n",
              "      <td>800</td>\n",
              "      <td>1.134500</td>\n",
              "    </tr>\n",
              "    <tr>\n",
              "      <td>900</td>\n",
              "      <td>1.177300</td>\n",
              "    </tr>\n",
              "    <tr>\n",
              "      <td>1000</td>\n",
              "      <td>0.996100</td>\n",
              "    </tr>\n",
              "    <tr>\n",
              "      <td>1100</td>\n",
              "      <td>1.161500</td>\n",
              "    </tr>\n",
              "    <tr>\n",
              "      <td>1200</td>\n",
              "      <td>0.971600</td>\n",
              "    </tr>\n",
              "    <tr>\n",
              "      <td>1300</td>\n",
              "      <td>0.901000</td>\n",
              "    </tr>\n",
              "    <tr>\n",
              "      <td>1400</td>\n",
              "      <td>1.230500</td>\n",
              "    </tr>\n",
              "    <tr>\n",
              "      <td>1500</td>\n",
              "      <td>0.937600</td>\n",
              "    </tr>\n",
              "    <tr>\n",
              "      <td>1600</td>\n",
              "      <td>1.103400</td>\n",
              "    </tr>\n",
              "    <tr>\n",
              "      <td>1700</td>\n",
              "      <td>1.006000</td>\n",
              "    </tr>\n",
              "    <tr>\n",
              "      <td>1800</td>\n",
              "      <td>1.046000</td>\n",
              "    </tr>\n",
              "    <tr>\n",
              "      <td>1900</td>\n",
              "      <td>0.996500</td>\n",
              "    </tr>\n",
              "    <tr>\n",
              "      <td>2000</td>\n",
              "      <td>0.993100</td>\n",
              "    </tr>\n",
              "    <tr>\n",
              "      <td>2100</td>\n",
              "      <td>0.918500</td>\n",
              "    </tr>\n",
              "    <tr>\n",
              "      <td>2200</td>\n",
              "      <td>0.993500</td>\n",
              "    </tr>\n",
              "    <tr>\n",
              "      <td>2300</td>\n",
              "      <td>0.877700</td>\n",
              "    </tr>\n",
              "    <tr>\n",
              "      <td>2400</td>\n",
              "      <td>1.114000</td>\n",
              "    </tr>\n",
              "    <tr>\n",
              "      <td>2500</td>\n",
              "      <td>0.959900</td>\n",
              "    </tr>\n",
              "    <tr>\n",
              "      <td>2600</td>\n",
              "      <td>0.776400</td>\n",
              "    </tr>\n",
              "    <tr>\n",
              "      <td>2700</td>\n",
              "      <td>0.709000</td>\n",
              "    </tr>\n",
              "    <tr>\n",
              "      <td>2800</td>\n",
              "      <td>0.901300</td>\n",
              "    </tr>\n",
              "    <tr>\n",
              "      <td>2900</td>\n",
              "      <td>0.803900</td>\n",
              "    </tr>\n",
              "    <tr>\n",
              "      <td>3000</td>\n",
              "      <td>0.796800</td>\n",
              "    </tr>\n",
              "    <tr>\n",
              "      <td>3100</td>\n",
              "      <td>0.983500</td>\n",
              "    </tr>\n",
              "    <tr>\n",
              "      <td>3200</td>\n",
              "      <td>0.875500</td>\n",
              "    </tr>\n",
              "    <tr>\n",
              "      <td>3300</td>\n",
              "      <td>0.868400</td>\n",
              "    </tr>\n",
              "    <tr>\n",
              "      <td>3400</td>\n",
              "      <td>0.710900</td>\n",
              "    </tr>\n",
              "    <tr>\n",
              "      <td>3500</td>\n",
              "      <td>0.671300</td>\n",
              "    </tr>\n",
              "    <tr>\n",
              "      <td>3600</td>\n",
              "      <td>0.807900</td>\n",
              "    </tr>\n",
              "    <tr>\n",
              "      <td>3700</td>\n",
              "      <td>0.879200</td>\n",
              "    </tr>\n",
              "    <tr>\n",
              "      <td>3800</td>\n",
              "      <td>0.713600</td>\n",
              "    </tr>\n",
              "    <tr>\n",
              "      <td>3900</td>\n",
              "      <td>1.012800</td>\n",
              "    </tr>\n",
              "    <tr>\n",
              "      <td>4000</td>\n",
              "      <td>0.759600</td>\n",
              "    </tr>\n",
              "    <tr>\n",
              "      <td>4100</td>\n",
              "      <td>0.777500</td>\n",
              "    </tr>\n",
              "    <tr>\n",
              "      <td>4200</td>\n",
              "      <td>0.987300</td>\n",
              "    </tr>\n",
              "    <tr>\n",
              "      <td>4300</td>\n",
              "      <td>0.664600</td>\n",
              "    </tr>\n",
              "    <tr>\n",
              "      <td>4400</td>\n",
              "      <td>0.713600</td>\n",
              "    </tr>\n",
              "    <tr>\n",
              "      <td>4500</td>\n",
              "      <td>0.815100</td>\n",
              "    </tr>\n",
              "    <tr>\n",
              "      <td>4600</td>\n",
              "      <td>0.858900</td>\n",
              "    </tr>\n",
              "    <tr>\n",
              "      <td>4700</td>\n",
              "      <td>0.743300</td>\n",
              "    </tr>\n",
              "    <tr>\n",
              "      <td>4800</td>\n",
              "      <td>0.853600</td>\n",
              "    </tr>\n",
              "    <tr>\n",
              "      <td>4900</td>\n",
              "      <td>0.712100</td>\n",
              "    </tr>\n",
              "    <tr>\n",
              "      <td>5000</td>\n",
              "      <td>0.737900</td>\n",
              "    </tr>\n",
              "    <tr>\n",
              "      <td>5100</td>\n",
              "      <td>0.643300</td>\n",
              "    </tr>\n",
              "    <tr>\n",
              "      <td>5200</td>\n",
              "      <td>0.530300</td>\n",
              "    </tr>\n",
              "    <tr>\n",
              "      <td>5300</td>\n",
              "      <td>0.628000</td>\n",
              "    </tr>\n",
              "    <tr>\n",
              "      <td>5400</td>\n",
              "      <td>0.663100</td>\n",
              "    </tr>\n",
              "    <tr>\n",
              "      <td>5500</td>\n",
              "      <td>0.467400</td>\n",
              "    </tr>\n",
              "    <tr>\n",
              "      <td>5600</td>\n",
              "      <td>0.596900</td>\n",
              "    </tr>\n",
              "    <tr>\n",
              "      <td>5700</td>\n",
              "      <td>0.473200</td>\n",
              "    </tr>\n",
              "    <tr>\n",
              "      <td>5800</td>\n",
              "      <td>0.549000</td>\n",
              "    </tr>\n",
              "    <tr>\n",
              "      <td>5900</td>\n",
              "      <td>0.536400</td>\n",
              "    </tr>\n",
              "    <tr>\n",
              "      <td>6000</td>\n",
              "      <td>0.445000</td>\n",
              "    </tr>\n",
              "    <tr>\n",
              "      <td>6100</td>\n",
              "      <td>0.668100</td>\n",
              "    </tr>\n",
              "    <tr>\n",
              "      <td>6200</td>\n",
              "      <td>0.538200</td>\n",
              "    </tr>\n",
              "    <tr>\n",
              "      <td>6300</td>\n",
              "      <td>0.554300</td>\n",
              "    </tr>\n",
              "    <tr>\n",
              "      <td>6400</td>\n",
              "      <td>0.516800</td>\n",
              "    </tr>\n",
              "    <tr>\n",
              "      <td>6500</td>\n",
              "      <td>0.553800</td>\n",
              "    </tr>\n",
              "    <tr>\n",
              "      <td>6600</td>\n",
              "      <td>0.432800</td>\n",
              "    </tr>\n",
              "    <tr>\n",
              "      <td>6700</td>\n",
              "      <td>0.534900</td>\n",
              "    </tr>\n",
              "    <tr>\n",
              "      <td>6800</td>\n",
              "      <td>0.491200</td>\n",
              "    </tr>\n",
              "    <tr>\n",
              "      <td>6900</td>\n",
              "      <td>0.520700</td>\n",
              "    </tr>\n",
              "    <tr>\n",
              "      <td>7000</td>\n",
              "      <td>0.471600</td>\n",
              "    </tr>\n",
              "    <tr>\n",
              "      <td>7100</td>\n",
              "      <td>0.501500</td>\n",
              "    </tr>\n",
              "    <tr>\n",
              "      <td>7200</td>\n",
              "      <td>0.634900</td>\n",
              "    </tr>\n",
              "    <tr>\n",
              "      <td>7300</td>\n",
              "      <td>0.464700</td>\n",
              "    </tr>\n",
              "    <tr>\n",
              "      <td>7400</td>\n",
              "      <td>0.538000</td>\n",
              "    </tr>\n",
              "    <tr>\n",
              "      <td>7500</td>\n",
              "      <td>0.491800</td>\n",
              "    </tr>\n",
              "  </tbody>\n",
              "</table><p>"
            ]
          },
          "metadata": {}
        },
        {
          "output_type": "stream",
          "name": "stderr",
          "text": [
            "Saving model checkpoint to /content/gdrive/MyDrive/AIRI_workshop/finetune_checkpoints/checkpoint-500\n",
            "Configuration saved in /content/gdrive/MyDrive/AIRI_workshop/finetune_checkpoints/checkpoint-500/config.json\n",
            "Model weights saved in /content/gdrive/MyDrive/AIRI_workshop/finetune_checkpoints/checkpoint-500/pytorch_model.bin\n",
            "/usr/local/lib/python3.7/dist-packages/transformers/modeling_utils.py:714: FutureWarning: The `device` argument is deprecated and will be removed in v5 of Transformers.\n",
            "  \"The `device` argument is deprecated and will be removed in v5 of Transformers.\", FutureWarning\n",
            "Saving model checkpoint to /content/gdrive/MyDrive/AIRI_workshop/finetune_checkpoints/checkpoint-1000\n",
            "Configuration saved in /content/gdrive/MyDrive/AIRI_workshop/finetune_checkpoints/checkpoint-1000/config.json\n",
            "Model weights saved in /content/gdrive/MyDrive/AIRI_workshop/finetune_checkpoints/checkpoint-1000/pytorch_model.bin\n",
            "/usr/local/lib/python3.7/dist-packages/transformers/modeling_utils.py:714: FutureWarning: The `device` argument is deprecated and will be removed in v5 of Transformers.\n",
            "  \"The `device` argument is deprecated and will be removed in v5 of Transformers.\", FutureWarning\n",
            "Saving model checkpoint to /content/gdrive/MyDrive/AIRI_workshop/finetune_checkpoints/checkpoint-1500\n",
            "Configuration saved in /content/gdrive/MyDrive/AIRI_workshop/finetune_checkpoints/checkpoint-1500/config.json\n",
            "Model weights saved in /content/gdrive/MyDrive/AIRI_workshop/finetune_checkpoints/checkpoint-1500/pytorch_model.bin\n",
            "/usr/local/lib/python3.7/dist-packages/transformers/modeling_utils.py:714: FutureWarning: The `device` argument is deprecated and will be removed in v5 of Transformers.\n",
            "  \"The `device` argument is deprecated and will be removed in v5 of Transformers.\", FutureWarning\n",
            "Saving model checkpoint to /content/gdrive/MyDrive/AIRI_workshop/finetune_checkpoints/checkpoint-2000\n",
            "Configuration saved in /content/gdrive/MyDrive/AIRI_workshop/finetune_checkpoints/checkpoint-2000/config.json\n",
            "Model weights saved in /content/gdrive/MyDrive/AIRI_workshop/finetune_checkpoints/checkpoint-2000/pytorch_model.bin\n",
            "/usr/local/lib/python3.7/dist-packages/transformers/modeling_utils.py:714: FutureWarning: The `device` argument is deprecated and will be removed in v5 of Transformers.\n",
            "  \"The `device` argument is deprecated and will be removed in v5 of Transformers.\", FutureWarning\n",
            "Saving model checkpoint to /content/gdrive/MyDrive/AIRI_workshop/finetune_checkpoints/checkpoint-2500\n",
            "Configuration saved in /content/gdrive/MyDrive/AIRI_workshop/finetune_checkpoints/checkpoint-2500/config.json\n",
            "Model weights saved in /content/gdrive/MyDrive/AIRI_workshop/finetune_checkpoints/checkpoint-2500/pytorch_model.bin\n",
            "/usr/local/lib/python3.7/dist-packages/transformers/modeling_utils.py:714: FutureWarning: The `device` argument is deprecated and will be removed in v5 of Transformers.\n",
            "  \"The `device` argument is deprecated and will be removed in v5 of Transformers.\", FutureWarning\n",
            "Saving model checkpoint to /content/gdrive/MyDrive/AIRI_workshop/finetune_checkpoints/checkpoint-3000\n",
            "Configuration saved in /content/gdrive/MyDrive/AIRI_workshop/finetune_checkpoints/checkpoint-3000/config.json\n",
            "Model weights saved in /content/gdrive/MyDrive/AIRI_workshop/finetune_checkpoints/checkpoint-3000/pytorch_model.bin\n",
            "/usr/local/lib/python3.7/dist-packages/transformers/modeling_utils.py:714: FutureWarning: The `device` argument is deprecated and will be removed in v5 of Transformers.\n",
            "  \"The `device` argument is deprecated and will be removed in v5 of Transformers.\", FutureWarning\n",
            "Saving model checkpoint to /content/gdrive/MyDrive/AIRI_workshop/finetune_checkpoints/checkpoint-3500\n",
            "Configuration saved in /content/gdrive/MyDrive/AIRI_workshop/finetune_checkpoints/checkpoint-3500/config.json\n",
            "Model weights saved in /content/gdrive/MyDrive/AIRI_workshop/finetune_checkpoints/checkpoint-3500/pytorch_model.bin\n",
            "/usr/local/lib/python3.7/dist-packages/transformers/modeling_utils.py:714: FutureWarning: The `device` argument is deprecated and will be removed in v5 of Transformers.\n",
            "  \"The `device` argument is deprecated and will be removed in v5 of Transformers.\", FutureWarning\n",
            "Saving model checkpoint to /content/gdrive/MyDrive/AIRI_workshop/finetune_checkpoints/checkpoint-4000\n",
            "Configuration saved in /content/gdrive/MyDrive/AIRI_workshop/finetune_checkpoints/checkpoint-4000/config.json\n",
            "Model weights saved in /content/gdrive/MyDrive/AIRI_workshop/finetune_checkpoints/checkpoint-4000/pytorch_model.bin\n",
            "/usr/local/lib/python3.7/dist-packages/transformers/modeling_utils.py:714: FutureWarning: The `device` argument is deprecated and will be removed in v5 of Transformers.\n",
            "  \"The `device` argument is deprecated and will be removed in v5 of Transformers.\", FutureWarning\n",
            "Saving model checkpoint to /content/gdrive/MyDrive/AIRI_workshop/finetune_checkpoints/checkpoint-4500\n",
            "Configuration saved in /content/gdrive/MyDrive/AIRI_workshop/finetune_checkpoints/checkpoint-4500/config.json\n",
            "Model weights saved in /content/gdrive/MyDrive/AIRI_workshop/finetune_checkpoints/checkpoint-4500/pytorch_model.bin\n",
            "/usr/local/lib/python3.7/dist-packages/transformers/modeling_utils.py:714: FutureWarning: The `device` argument is deprecated and will be removed in v5 of Transformers.\n",
            "  \"The `device` argument is deprecated and will be removed in v5 of Transformers.\", FutureWarning\n",
            "Saving model checkpoint to /content/gdrive/MyDrive/AIRI_workshop/finetune_checkpoints/checkpoint-5000\n",
            "Configuration saved in /content/gdrive/MyDrive/AIRI_workshop/finetune_checkpoints/checkpoint-5000/config.json\n",
            "Model weights saved in /content/gdrive/MyDrive/AIRI_workshop/finetune_checkpoints/checkpoint-5000/pytorch_model.bin\n",
            "/usr/local/lib/python3.7/dist-packages/transformers/modeling_utils.py:714: FutureWarning: The `device` argument is deprecated and will be removed in v5 of Transformers.\n",
            "  \"The `device` argument is deprecated and will be removed in v5 of Transformers.\", FutureWarning\n",
            "Saving model checkpoint to /content/gdrive/MyDrive/AIRI_workshop/finetune_checkpoints/checkpoint-5500\n",
            "Configuration saved in /content/gdrive/MyDrive/AIRI_workshop/finetune_checkpoints/checkpoint-5500/config.json\n",
            "Model weights saved in /content/gdrive/MyDrive/AIRI_workshop/finetune_checkpoints/checkpoint-5500/pytorch_model.bin\n",
            "/usr/local/lib/python3.7/dist-packages/transformers/modeling_utils.py:714: FutureWarning: The `device` argument is deprecated and will be removed in v5 of Transformers.\n",
            "  \"The `device` argument is deprecated and will be removed in v5 of Transformers.\", FutureWarning\n",
            "Saving model checkpoint to /content/gdrive/MyDrive/AIRI_workshop/finetune_checkpoints/checkpoint-6000\n",
            "Configuration saved in /content/gdrive/MyDrive/AIRI_workshop/finetune_checkpoints/checkpoint-6000/config.json\n",
            "Model weights saved in /content/gdrive/MyDrive/AIRI_workshop/finetune_checkpoints/checkpoint-6000/pytorch_model.bin\n",
            "/usr/local/lib/python3.7/dist-packages/transformers/modeling_utils.py:714: FutureWarning: The `device` argument is deprecated and will be removed in v5 of Transformers.\n",
            "  \"The `device` argument is deprecated and will be removed in v5 of Transformers.\", FutureWarning\n",
            "Saving model checkpoint to /content/gdrive/MyDrive/AIRI_workshop/finetune_checkpoints/checkpoint-6500\n",
            "Configuration saved in /content/gdrive/MyDrive/AIRI_workshop/finetune_checkpoints/checkpoint-6500/config.json\n",
            "Model weights saved in /content/gdrive/MyDrive/AIRI_workshop/finetune_checkpoints/checkpoint-6500/pytorch_model.bin\n",
            "/usr/local/lib/python3.7/dist-packages/transformers/modeling_utils.py:714: FutureWarning: The `device` argument is deprecated and will be removed in v5 of Transformers.\n",
            "  \"The `device` argument is deprecated and will be removed in v5 of Transformers.\", FutureWarning\n",
            "Saving model checkpoint to /content/gdrive/MyDrive/AIRI_workshop/finetune_checkpoints/checkpoint-7000\n",
            "Configuration saved in /content/gdrive/MyDrive/AIRI_workshop/finetune_checkpoints/checkpoint-7000/config.json\n",
            "Model weights saved in /content/gdrive/MyDrive/AIRI_workshop/finetune_checkpoints/checkpoint-7000/pytorch_model.bin\n",
            "/usr/local/lib/python3.7/dist-packages/transformers/modeling_utils.py:714: FutureWarning: The `device` argument is deprecated and will be removed in v5 of Transformers.\n",
            "  \"The `device` argument is deprecated and will be removed in v5 of Transformers.\", FutureWarning\n",
            "Saving model checkpoint to /content/gdrive/MyDrive/AIRI_workshop/finetune_checkpoints/checkpoint-7500\n",
            "Configuration saved in /content/gdrive/MyDrive/AIRI_workshop/finetune_checkpoints/checkpoint-7500/config.json\n",
            "Model weights saved in /content/gdrive/MyDrive/AIRI_workshop/finetune_checkpoints/checkpoint-7500/pytorch_model.bin\n",
            "\n",
            "\n",
            "Training completed. Do not forget to share your model on huggingface.co/models =)\n",
            "\n",
            "\n"
          ]
        },
        {
          "output_type": "execute_result",
          "data": {
            "text/plain": [
              "TrainOutput(global_step=7500, training_loss=0.8117460418701172, metrics={'train_runtime': 2227.1678, 'train_samples_per_second': 26.94, 'train_steps_per_second': 3.368, 'total_flos': 1959743393280000.0, 'train_loss': 0.8117460418701172, 'epoch': 3.0})"
            ]
          },
          "metadata": {},
          "execution_count": 22
        }
      ]
    },
    {
      "cell_type": "markdown",
      "source": [
        "--------------------------------------------------------------------------------"
      ],
      "metadata": {
        "id": "QJMBsqjAAHca"
      }
    },
    {
      "cell_type": "markdown",
      "source": [
        "# Load model from checkpoint."
      ],
      "metadata": {
        "id": "xiLMDc3HvT8c"
      }
    },
    {
      "cell_type": "code",
      "source": [
        "from src.gena_lm.modeling_bert import BertForSequenceClassification, BertForTokenClassification"
      ],
      "metadata": {
        "id": "hY6GVK0_Dq8X"
      },
      "execution_count": null,
      "outputs": []
    },
    {
      "cell_type": "code",
      "execution_count": null,
      "metadata": {
        "colab": {
          "base_uri": "https://localhost:8080/"
        },
        "id": "JDnbF5ybrC67",
        "outputId": "4c3c2558-0eb4-4d14-d9fb-ddc9394274d7"
      },
      "outputs": [
        {
          "output_type": "stream",
          "name": "stderr",
          "text": [
            "loading file https://huggingface.co/AIRI-Institute/gena-lm-bert-base/resolve/main/tokenizer.json from cache at /root/.cache/huggingface/transformers/5b03868971233a96f6c8280513b5f6ebcbbf9644759d84a66485887cc338e717.383f740f9b4c3303948232477752a066b213c95018bc9c9b4515d01c3eab51b6\n",
            "loading file https://huggingface.co/AIRI-Institute/gena-lm-bert-base/resolve/main/added_tokens.json from cache at None\n",
            "loading file https://huggingface.co/AIRI-Institute/gena-lm-bert-base/resolve/main/special_tokens_map.json from cache at /root/.cache/huggingface/transformers/92960e67f85b47a5de80760bd862a2fcc6c07e8ca120630e019a0f8abc51a4d5.dd8bd9bfd3664b530ea4e645105f557769387b3da9f79bdb55ed556bdd80611d\n",
            "loading file https://huggingface.co/AIRI-Institute/gena-lm-bert-base/resolve/main/tokenizer_config.json from cache at /root/.cache/huggingface/transformers/2e1f9b8995198020664a0cdba4eebd0d019f5bb159df203e320954c00a783eab.8d45aad733300f5ef8fd4de96735c5eb6cabcac6b0a6b230948cd8835554a1f5\n",
            "loading configuration file https://huggingface.co/AIRI-Institute/gena-lm-bert-base/resolve/main/config.json from cache at /root/.cache/huggingface/transformers/1192098873ab88895a66f9a00a03b5ab8f8fd34985aa96833ffe33798c63bf76.a6fee3ed7d0de4805249b4b552fad3c80e7e450f4acdea2cb8dbca010f9cb2b4\n",
            "Model config BertConfig {\n",
            "  \"_name_or_path\": \"AIRI-Institute/gena-lm-bert-base\",\n",
            "  \"architectures\": [\n",
            "    \"BertForPretraining\"\n",
            "  ],\n",
            "  \"attention_probs_dropout_prob\": 0.1,\n",
            "  \"classifier_dropout\": null,\n",
            "  \"gradient_checkpointing\": false,\n",
            "  \"hidden_act\": \"gelu\",\n",
            "  \"hidden_dropout_prob\": 0.1,\n",
            "  \"hidden_size\": 768,\n",
            "  \"initializer_range\": 0.02,\n",
            "  \"intermediate_size\": 3072,\n",
            "  \"layer_norm_eps\": 1e-12,\n",
            "  \"max_position_embeddings\": 512,\n",
            "  \"model_type\": \"bert\",\n",
            "  \"num_attention_heads\": 12,\n",
            "  \"num_hidden_layers\": 12,\n",
            "  \"pad_token_id\": 3,\n",
            "  \"position_embedding_type\": \"absolute\",\n",
            "  \"pre_layer_norm\": true,\n",
            "  \"transformers_version\": \"4.21.3\",\n",
            "  \"type_vocab_size\": 2,\n",
            "  \"use_cache\": true,\n",
            "  \"vocab_size\": 32000\n",
            "}\n",
            "\n"
          ]
        },
        {
          "output_type": "stream",
          "name": "stdout",
          "text": [
            "Loaded model\n"
          ]
        }
      ],
      "source": [
        "# load pretrained bpe tokenizer\n",
        "tokenizer = AutoTokenizer.from_pretrained('AIRI-Institute/gena-lm-bert-base')\n",
        "\n",
        "# load model\n",
        "model_cfg = AutoConfig.from_pretrained('AIRI-Institute/gena-lm-bert-base')\n",
        "model_cfg.num_labels = 3\n",
        "model_cfg.problem_type = 'multi_label_classification'\n",
        "model = BertForTokenClassification(config=model_cfg)\n",
        "\n",
        "# load finetuned model weights\n",
        "finetuned_ckpt_path = root.joinpath(\"gena_lm_spliceai.pth\")\n",
        "ckpt = torch.load(finetuned_ckpt_path, map_location='cpu')\n",
        "model.load_state_dict(ckpt, strict=False)\n",
        "model.eval()\n",
        "print('Loaded model')"
      ]
    },
    {
      "cell_type": "markdown",
      "source": [
        "Now let's take a look at the list of variants and create a dataset for testing."
      ],
      "metadata": {
        "id": "0i-Tbb4yuiXh"
      }
    },
    {
      "cell_type": "code",
      "source": [
        "# set up paths to hg38 genome, VCF file\n",
        "hg38_path = root.joinpath(\"hg38.fa\")\n",
        "vcf_path = root.joinpath(\"case1.vcf\")\n",
        "\n",
        "# read VCF\n",
        "vcf = pd.read_csv(vcf_path, comment='#', header=None, delim_whitespace=True)\n",
        "vcf = vcf[[0, 1, 3, 4]]\n",
        "vcf.columns = [\"CHROM\", \"POS\", \"REF\", \"ALT\"]\n",
        "\n",
        "# make positions 0-base\n",
        "vcf[\"POS\"] = vcf[\"POS\"] - 1 "
      ],
      "metadata": {
        "id": "KCLekeW92hbq"
      },
      "execution_count": null,
      "outputs": []
    },
    {
      "cell_type": "code",
      "source": [
        "vcf.head()"
      ],
      "metadata": {
        "colab": {
          "base_uri": "https://localhost:8080/",
          "height": 206
        },
        "id": "5qq2LmgI-TZ4",
        "outputId": "321110d0-5454-4702-9ca8-e9c2bb1a441c"
      },
      "execution_count": null,
      "outputs": [
        {
          "output_type": "execute_result",
          "data": {
            "text/plain": [
              "   CHROM       POS REF ALT\n",
              "0   chr8  29895207   G   A\n",
              "1  chr17  32878828   A   T\n",
              "2  chr13  98857493   T   A\n",
              "3   chr9  23347464   T   C\n",
              "4   chr1  25161125   G   A"
            ],
            "text/html": [
              "\n",
              "  <div id=\"df-140c36ca-29b9-49f8-8389-53c7cf12e154\">\n",
              "    <div class=\"colab-df-container\">\n",
              "      <div>\n",
              "<style scoped>\n",
              "    .dataframe tbody tr th:only-of-type {\n",
              "        vertical-align: middle;\n",
              "    }\n",
              "\n",
              "    .dataframe tbody tr th {\n",
              "        vertical-align: top;\n",
              "    }\n",
              "\n",
              "    .dataframe thead th {\n",
              "        text-align: right;\n",
              "    }\n",
              "</style>\n",
              "<table border=\"1\" class=\"dataframe\">\n",
              "  <thead>\n",
              "    <tr style=\"text-align: right;\">\n",
              "      <th></th>\n",
              "      <th>CHROM</th>\n",
              "      <th>POS</th>\n",
              "      <th>REF</th>\n",
              "      <th>ALT</th>\n",
              "    </tr>\n",
              "  </thead>\n",
              "  <tbody>\n",
              "    <tr>\n",
              "      <th>0</th>\n",
              "      <td>chr8</td>\n",
              "      <td>29895207</td>\n",
              "      <td>G</td>\n",
              "      <td>A</td>\n",
              "    </tr>\n",
              "    <tr>\n",
              "      <th>1</th>\n",
              "      <td>chr17</td>\n",
              "      <td>32878828</td>\n",
              "      <td>A</td>\n",
              "      <td>T</td>\n",
              "    </tr>\n",
              "    <tr>\n",
              "      <th>2</th>\n",
              "      <td>chr13</td>\n",
              "      <td>98857493</td>\n",
              "      <td>T</td>\n",
              "      <td>A</td>\n",
              "    </tr>\n",
              "    <tr>\n",
              "      <th>3</th>\n",
              "      <td>chr9</td>\n",
              "      <td>23347464</td>\n",
              "      <td>T</td>\n",
              "      <td>C</td>\n",
              "    </tr>\n",
              "    <tr>\n",
              "      <th>4</th>\n",
              "      <td>chr1</td>\n",
              "      <td>25161125</td>\n",
              "      <td>G</td>\n",
              "      <td>A</td>\n",
              "    </tr>\n",
              "  </tbody>\n",
              "</table>\n",
              "</div>\n",
              "      <button class=\"colab-df-convert\" onclick=\"convertToInteractive('df-140c36ca-29b9-49f8-8389-53c7cf12e154')\"\n",
              "              title=\"Convert this dataframe to an interactive table.\"\n",
              "              style=\"display:none;\">\n",
              "        \n",
              "  <svg xmlns=\"http://www.w3.org/2000/svg\" height=\"24px\"viewBox=\"0 0 24 24\"\n",
              "       width=\"24px\">\n",
              "    <path d=\"M0 0h24v24H0V0z\" fill=\"none\"/>\n",
              "    <path d=\"M18.56 5.44l.94 2.06.94-2.06 2.06-.94-2.06-.94-.94-2.06-.94 2.06-2.06.94zm-11 1L8.5 8.5l.94-2.06 2.06-.94-2.06-.94L8.5 2.5l-.94 2.06-2.06.94zm10 10l.94 2.06.94-2.06 2.06-.94-2.06-.94-.94-2.06-.94 2.06-2.06.94z\"/><path d=\"M17.41 7.96l-1.37-1.37c-.4-.4-.92-.59-1.43-.59-.52 0-1.04.2-1.43.59L10.3 9.45l-7.72 7.72c-.78.78-.78 2.05 0 2.83L4 21.41c.39.39.9.59 1.41.59.51 0 1.02-.2 1.41-.59l7.78-7.78 2.81-2.81c.8-.78.8-2.07 0-2.86zM5.41 20L4 18.59l7.72-7.72 1.47 1.35L5.41 20z\"/>\n",
              "  </svg>\n",
              "      </button>\n",
              "      \n",
              "  <style>\n",
              "    .colab-df-container {\n",
              "      display:flex;\n",
              "      flex-wrap:wrap;\n",
              "      gap: 12px;\n",
              "    }\n",
              "\n",
              "    .colab-df-convert {\n",
              "      background-color: #E8F0FE;\n",
              "      border: none;\n",
              "      border-radius: 50%;\n",
              "      cursor: pointer;\n",
              "      display: none;\n",
              "      fill: #1967D2;\n",
              "      height: 32px;\n",
              "      padding: 0 0 0 0;\n",
              "      width: 32px;\n",
              "    }\n",
              "\n",
              "    .colab-df-convert:hover {\n",
              "      background-color: #E2EBFA;\n",
              "      box-shadow: 0px 1px 2px rgba(60, 64, 67, 0.3), 0px 1px 3px 1px rgba(60, 64, 67, 0.15);\n",
              "      fill: #174EA6;\n",
              "    }\n",
              "\n",
              "    [theme=dark] .colab-df-convert {\n",
              "      background-color: #3B4455;\n",
              "      fill: #D2E3FC;\n",
              "    }\n",
              "\n",
              "    [theme=dark] .colab-df-convert:hover {\n",
              "      background-color: #434B5C;\n",
              "      box-shadow: 0px 1px 3px 1px rgba(0, 0, 0, 0.15);\n",
              "      filter: drop-shadow(0px 1px 2px rgba(0, 0, 0, 0.3));\n",
              "      fill: #FFFFFF;\n",
              "    }\n",
              "  </style>\n",
              "\n",
              "      <script>\n",
              "        const buttonEl =\n",
              "          document.querySelector('#df-140c36ca-29b9-49f8-8389-53c7cf12e154 button.colab-df-convert');\n",
              "        buttonEl.style.display =\n",
              "          google.colab.kernel.accessAllowed ? 'block' : 'none';\n",
              "\n",
              "        async function convertToInteractive(key) {\n",
              "          const element = document.querySelector('#df-140c36ca-29b9-49f8-8389-53c7cf12e154');\n",
              "          const dataTable =\n",
              "            await google.colab.kernel.invokeFunction('convertToInteractive',\n",
              "                                                     [key], {});\n",
              "          if (!dataTable) return;\n",
              "\n",
              "          const docLinkHtml = 'Like what you see? Visit the ' +\n",
              "            '<a target=\"_blank\" href=https://colab.research.google.com/notebooks/data_table.ipynb>data table notebook</a>'\n",
              "            + ' to learn more about interactive tables.';\n",
              "          element.innerHTML = '';\n",
              "          dataTable['output_type'] = 'display_data';\n",
              "          await google.colab.output.renderOutput(dataTable, element);\n",
              "          const docLink = document.createElement('div');\n",
              "          docLink.innerHTML = docLinkHtml;\n",
              "          element.appendChild(docLink);\n",
              "        }\n",
              "      </script>\n",
              "    </div>\n",
              "  </div>\n",
              "  "
            ]
          },
          "metadata": {},
          "execution_count": 26
        }
      ]
    },
    {
      "cell_type": "code",
      "source": [
        "# set length of sequence to be fetched around given position\n",
        "seq_len = 3000"
      ],
      "metadata": {
        "id": "nT3FGQym9Ns9"
      },
      "execution_count": null,
      "outputs": []
    },
    {
      "cell_type": "code",
      "source": [
        "# load hg38 genome from file\n",
        "hg38 = pysam.FastaFile(hg38_path)\n",
        "\n",
        "def fetch_seq(df, ref=True, seq_len=1000):\n",
        "\n",
        "    context = seq_len // 2\n",
        "    seq_start = df[\"POS\"] - context\n",
        "    seq_end = seq_start + seq_len\n",
        "    refseq = hg38.fetch(df[\"CHROM\"], start=seq_start, end=seq_end).upper()\n",
        "    if ref:\n",
        "        return pd.Series({\"SEQ\": refseq})\n",
        "    else:\n",
        "        return pd.Series({\"SEQ\": refseq[:context] + df[\"ALT\"] + refseq[context + 1:]})"
      ],
      "metadata": {
        "id": "4-2MnfltEhbH"
      },
      "execution_count": null,
      "outputs": []
    },
    {
      "cell_type": "code",
      "source": [
        "# generate dataframes with fetched sequences \n",
        "ref_seqs = vcf.apply(fetch_seq, axis=1, ref=True, seq_len=seq_len)\n",
        "alt_seqs = vcf.apply(fetch_seq, axis=1, ref=False, seq_len=seq_len)"
      ],
      "metadata": {
        "id": "RiRYfNcVF9gq"
      },
      "execution_count": null,
      "outputs": []
    },
    {
      "cell_type": "code",
      "source": [
        "print(f\"Piece of reference sequence centered at the position of the first VCF entry:\\t{ref_seqs.iloc[0, 0][seq_len // 2 - 10 : seq_len //2 + 10]}\")\n",
        "print(f\"Piece of Altered sequence centered at the position of the first VCF entry:\\t{alt_seqs.iloc[0, 0][seq_len // 2 - 10 : seq_len //2 + 10]}\")"
      ],
      "metadata": {
        "colab": {
          "base_uri": "https://localhost:8080/"
        },
        "id": "26b8QDhy746n",
        "outputId": "41caf4d8-18d6-4af7-dbcd-1a45141247c2"
      },
      "execution_count": null,
      "outputs": [
        {
          "output_type": "stream",
          "name": "stdout",
          "text": [
            "Piece of reference sequence centered at the position of the first VCF entry:\tTCGGGAGGCTGAGGCATGAG\n",
            "Piece of Altered sequence centered at the position of the first VCF entry:\tTCGGGAGGCTAAGGCATGAG\n"
          ]
        }
      ]
    },
    {
      "cell_type": "code",
      "source": [
        "# create a dataset of samples to feed into the model\n",
        "class SpliceAIDatasetDummyTargets(SpliceAIDataset):\n",
        "\n",
        "    def __init__(\n",
        "        self,\n",
        "        data,\n",
        "        tokenizer,\n",
        "        max_seq_len=512,\n",
        "        seq_len=3000,\n",
        "        targets_len=2,\n",
        "    ):\n",
        "        self.data = data\n",
        "        self.tokenizer = tokenizer\n",
        "        self.max_seq_len = max_seq_len\n",
        "        self.targets_offset = (seq_len - targets_len) // 2\n",
        "        self.targets_len = targets_len\n",
        "\n",
        "        ref_seqs['targets'] = ref_seqs.apply(lambda x: pd.Series({'targets': np.zeros(self.targets_len)}), axis=1)\n",
        "        alt_seqs['targets'] = alt_seqs.apply(lambda x: pd.Series({'targets': np.zeros(self.targets_len)}), axis=1)\n",
        "\n",
        "        self.data.columns = ['seq', 'targets']\n",
        "\n",
        "# instantiate datasets of reference and altered sequences\n",
        "ref_dataset = SpliceAIDatasetDummyTargets(ref_seqs, tokenizer, seq_len=seq_len)\n",
        "alt_dataset = SpliceAIDatasetDummyTargets(alt_seqs, tokenizer, seq_len=seq_len)"
      ],
      "metadata": {
        "id": "11vv631-ByYw"
      },
      "execution_count": null,
      "outputs": []
    },
    {
      "cell_type": "code",
      "source": [
        "# perform two forward passes on the same sample: \n",
        "# with reference sequence and with variant present\n",
        "\n",
        "sample_idx = 0\n",
        "ref_sample = ref_dataset[sample_idx]\n",
        "alt_sample = alt_dataset[sample_idx]\n",
        "with torch.no_grad():\n",
        "    ref_output = model.forward(\n",
        "        input_ids=torch.tensor(ref_sample['input_ids']).unsqueeze(0), \n",
        "        attention_mask=torch.tensor(ref_sample['attention_mask']).unsqueeze(0),\n",
        "        token_type_ids=torch.tensor(ref_sample['token_type_ids']).unsqueeze(0),\n",
        "    )\n",
        "\n",
        "    alt_output = model.forward(\n",
        "        input_ids=torch.tensor(alt_sample['input_ids']).unsqueeze(0), \n",
        "        attention_mask=torch.tensor(alt_sample['attention_mask']).unsqueeze(0),\n",
        "        token_type_ids=torch.tensor(alt_sample['token_type_ids']).unsqueeze(0),\n",
        "    )"
      ],
      "metadata": {
        "id": "4_SUcP0jq5eO",
        "colab": {
          "base_uri": "https://localhost:8080/"
        },
        "outputId": "d645bf54-2750-41e8-f668-987b94744f0b"
      },
      "execution_count": null,
      "outputs": [
        {
          "output_type": "stream",
          "name": "stderr",
          "text": [
            "/usr/local/lib/python3.7/dist-packages/transformers/modeling_utils.py:714: FutureWarning: The `device` argument is deprecated and will be removed in v5 of Transformers.\n",
            "  \"The `device` argument is deprecated and will be removed in v5 of Transformers.\", FutureWarning\n"
          ]
        }
      ]
    },
    {
      "cell_type": "markdown",
      "source": [
        "For each token we get logit-scores which we turn (using the `sigmoid` function) into probabilities of:\n",
        "* 0 -- token not containing neither of donor or acceptor sites\n",
        "* 1 -- token containing an acceptor site\n",
        "* 2 -- token containing a donor site\n",
        "\n",
        "Since these are per-token probabilities, for each token we'll repeat these values length-of-token times to obtain per-nucleotide probabilities. "
      ],
      "metadata": {
        "id": "03jmmuqY1KLs"
      }
    },
    {
      "cell_type": "code",
      "source": [
        "# convert outputs to class probabilities\n",
        "ref_probs = ref_output.logits.squeeze().sigmoid()\n",
        "alt_probs = alt_output.logits.squeeze().sigmoid()"
      ],
      "metadata": {
        "id": "8LAvgVeZmvx4"
      },
      "execution_count": null,
      "outputs": []
    },
    {
      "cell_type": "code",
      "source": [
        "# count token lengths \n",
        "ref_token_repeats = []\n",
        "for token in tokenizer.convert_ids_to_tokens(ref_sample['input_ids']):\n",
        "    if token not in tokenizer.all_special_tokens:\n",
        "        ref_token_repeats.append(len(token))\n",
        "    else:\n",
        "        ref_token_repeats.append(0)\n",
        "\n",
        "alt_token_repeats = []\n",
        "for token in tokenizer.convert_ids_to_tokens(alt_sample['input_ids']):\n",
        "    if token not in tokenizer.all_special_tokens:\n",
        "        alt_token_repeats.append(len(token))\n",
        "    else:\n",
        "        alt_token_repeats.append(0)\n",
        "\n",
        "# repeat values length-of-token times to obtain per-nucleotide probabilities\n",
        "ref_probs_nt = torch.repeat_interleave(ref_probs, \n",
        "                                       torch.tensor(ref_token_repeats), \n",
        "                                       dim=0)\n",
        "\n",
        "alt_probs_nt = torch.repeat_interleave(alt_probs, \n",
        "                                       torch.tensor(alt_token_repeats), \n",
        "                                       dim=0)"
      ],
      "metadata": {
        "id": "kMX_g9dGxE2i"
      },
      "execution_count": null,
      "outputs": []
    },
    {
      "cell_type": "code",
      "source": [
        "import matplotlib.pyplot as plt\n",
        "\n",
        "fig, ax = plt.subplots(1, 2, figsize=(20, 5))\n",
        "ax[0].set_title('Reference sequence predictions')\n",
        "ax[0].plot(ref_probs_nt[:, 0], label='class 0 probabilities')\n",
        "ax[0].plot(ref_probs_nt[:, 1], label='class 1 probabilities')\n",
        "ax[0].plot(ref_probs_nt[:, 2], label='class 2 probabilities')\n",
        "ax[0].legend()\n",
        "ax[0].set_xlabel(\"Position in sequence\")\n",
        "ax[0].set_ylabel(\"Class probabilities\")\n",
        "\n",
        "ax[1].set_title('Altered sequence predictions')\n",
        "ax[1].plot(alt_probs_nt[:, 0], label='class 0 probabilities')\n",
        "ax[1].plot(alt_probs_nt[:, 1], label='class 1 probabilities')\n",
        "ax[1].plot(alt_probs_nt[:, 2], label='class 2 probabilities')\n",
        "ax[1].legend()\n",
        "ax[1].set_xlabel(\"Position in sequence\")\n",
        "ax[1].set_ylabel(\"Class probabilities\")\n",
        "\n",
        "plt.show()"
      ],
      "metadata": {
        "id": "O37CopXOC0rY",
        "colab": {
          "base_uri": "https://localhost:8080/",
          "height": 348
        },
        "outputId": "3b58d36a-2f21-4b45-f5c3-58706d68276a"
      },
      "execution_count": null,
      "outputs": [
        {
          "output_type": "display_data",
          "data": {
            "text/plain": [
              "<Figure size 1440x360 with 2 Axes>"
            ],
            "image/png": "[encoded data removed]"
          },
          "metadata": {
            "needs_background": "light"
          }
        }
      ]
    },
    {
      "cell_type": "markdown",
      "source": [
        "Here we can see that the model basically predicts that there are no splicing sites in both reference and altered sequence.\n"
      ],
      "metadata": {
        "id": "WX1QGm5j52Jd"
      }
    },
    {
      "cell_type": "code",
      "source": [
        "# calculate difference in probabilities\n",
        "prob_diff = alt_probs_nt - ref_probs_nt\n",
        "\n",
        "plt.figure(figsize=(10, 5))\n",
        "plt.plot(prob_diff[:, 0], label='class 0 probability difference')\n",
        "plt.plot(prob_diff[:, 1], label='class 1 probability difference')\n",
        "plt.plot(prob_diff[:, 2], label='class 2 probability difference')\n",
        "\n",
        "plt.legend()\n",
        "plt.show()"
      ],
      "metadata": {
        "id": "DL_QkExoBH-0",
        "colab": {
          "base_uri": "https://localhost:8080/",
          "height": 322
        },
        "outputId": "cc889023-d422-4b6d-ff00-db5b797c603b"
      },
      "execution_count": null,
      "outputs": [
        {
          "output_type": "display_data",
          "data": {
            "text/plain": [
              "<Figure size 720x360 with 1 Axes>"
            ],
            "image/png": "[encoded data removed]"
          },
          "metadata": {
            "needs_background": "light"
          }
        }
      ]
    },
    {
      "cell_type": "markdown",
      "source": [
        "One of the variants in the VCF file actually does change the splicing pattern."
      ],
      "metadata": {
        "id": "2s8s-8197n27"
      }
    },
    {
      "cell_type": "code",
      "source": [
        "seq_len_change = 3000\n",
        "\n",
        "mb = []\n",
        "\n",
        "for s_ind in np.arange(0,11,1):\n",
        "  class SpliceAIDatasetDummyTargets(SpliceAIDataset):\n",
        "    \"\"\"\n",
        "    Dataset class for evaluation. This class is exactly like `SpliceAIDataset`, \n",
        "    but loads data from a `pd.DataFrame` instead of file \n",
        "    and provides dummy targets (just for code compatibility), \n",
        "    since there are no targets available for the VCF variants data.\n",
        "    \"\"\"\n",
        "    def __init__(\n",
        "        self,\n",
        "        data,\n",
        "        tokenizer,\n",
        "        max_seq_len=512,\n",
        "        seq_len = 3000,\n",
        "        targets_len=2,\n",
        "    ):\n",
        "        self.data = data\n",
        "        self.tokenizer = tokenizer\n",
        "        self.max_seq_len = max_seq_len\n",
        "        self.targets_offset = (seq_len - targets_len) // 2\n",
        "        self.targets_len = targets_len\n",
        "\n",
        "        ref_seqs['targets'] = ref_seqs.apply(lambda x: pd.Series({'targets': np.zeros(self.targets_len)}), axis=1)\n",
        "        alt_seqs['targets'] = alt_seqs.apply(lambda x: pd.Series({'targets': np.zeros(self.targets_len)}), axis=1)\n",
        "\n",
        "        self.data.columns = ['seq', 'targets']\n",
        "\n",
        "# instantiate datasets of reference and altered sequences\n",
        "  ref_dataset = SpliceAIDatasetDummyTargets(ref_seqs, tokenizer, seq_len=seq_len)\n",
        "  alt_dataset = SpliceAIDatasetDummyTargets(alt_seqs, tokenizer, seq_len=seq_len)\n",
        "\n",
        "  sample_idx = 0\n",
        "  ref_sample = ref_dataset[sample_idx]\n",
        "  alt_sample = alt_dataset[sample_idx]\n",
        "  with torch.no_grad():\n",
        "      ref_output = model.forward(\n",
        "          input_ids=torch.tensor(ref_sample['input_ids']).unsqueeze(0), \n",
        "          attention_mask=torch.tensor(ref_sample['attention_mask']).unsqueeze(0),\n",
        "          token_type_ids=torch.tensor(ref_sample['token_type_ids']).unsqueeze(0),\n",
        "      )\n",
        "\n",
        "      alt_output = model.forward(\n",
        "          input_ids=torch.tensor(alt_sample['input_ids']).unsqueeze(0), \n",
        "          attention_mask=torch.tensor(alt_sample['attention_mask']).unsqueeze(0),\n",
        "          token_type_ids=torch.tensor(alt_sample['token_type_ids']).unsqueeze(0),\n",
        "      )\n",
        "\n",
        "  ref_probs = ref_output.logits.squeeze().sigmoid()\n",
        "  alt_probs = alt_output.logits.squeeze().sigmoid()\n",
        "\n",
        "  ref_token_repeats = []\n",
        "  for token in tokenizer.convert_ids_to_tokens(ref_sample['input_ids']):\n",
        "      if token not in tokenizer.all_special_tokens:\n",
        "          ref_token_repeats.append(len(token))\n",
        "      else:\n",
        "          ref_token_repeats.append(0)\n",
        "\n",
        "  alt_token_repeats = []\n",
        "  for token in tokenizer.convert_ids_to_tokens(alt_sample['input_ids']):\n",
        "      if token not in tokenizer.all_special_tokens:\n",
        "          alt_token_repeats.append(len(token))\n",
        "      else:\n",
        "          alt_token_repeats.append(0)\n",
        "\n",
        "# repeat values length-of-token times to obtain per-nucleotide probabilities\n",
        "  ref_probs_nt = torch.repeat_interleave(ref_probs, \n",
        "                                        torch.tensor(ref_token_repeats), \n",
        "                                        dim=0)\n",
        "\n",
        "  alt_probs_nt = torch.repeat_interleave(alt_probs, \n",
        "                                        torch.tensor(alt_token_repeats), \n",
        "                                        dim=0)\n",
        "\n",
        "  prob_diff = alt_probs_nt - ref_probs_nt\n",
        "\n",
        "  for i in range(len(prob_diff)):\n",
        "    #if prob_diff[i,0] < 0.5 and (prob_diff[i,1] > 0.5 or prob_diff[i,2] > 0.5):\n",
        "      mb.append([i,ref_probs_nt,alt_probs_nt])"
      ],
      "metadata": {
        "id": "OU-eYlOJ7xuc",
        "colab": {
          "base_uri": "https://localhost:8080/"
        },
        "outputId": "9c7740f7-1f49-4c5a-fca9-7d61e2c7f378"
      },
      "execution_count": null,
      "outputs": [
        {
          "output_type": "stream",
          "name": "stderr",
          "text": [
            "/usr/local/lib/python3.7/dist-packages/transformers/modeling_utils.py:714: FutureWarning: The `device` argument is deprecated and will be removed in v5 of Transformers.\n",
            "  \"The `device` argument is deprecated and will be removed in v5 of Transformers.\", FutureWarning\n"
          ]
        }
      ]
    }
  ]
}