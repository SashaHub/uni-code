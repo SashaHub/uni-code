{
  "nbformat": 4,
  "nbformat_minor": 0,
  "metadata": {
    "colab": {
      "name": "Копия блокнота \"Курсовая.ipynb\"",
      "provenance": [],
      "collapsed_sections": [],
      "authorship_tag": "ABX9TyPmg8KZ1OAxJ7zVzO1+carL"
    },
    "kernelspec": {
      "name": "python3",
      "display_name": "Python 3"
    },
    "language_info": {
      "name": "python"
    }
  },
  "cells": [
    {
      "cell_type": "markdown",
      "metadata": {
        "id": "ag7lg3nX3CVb"
      },
      "source": [
        "# Анализ настроений для прогнозирования курса акций."
      ]
    },
    {
      "cell_type": "code",
      "metadata": {
        "id": "UQW48lsELBcN"
      },
      "source": [
        "!pip install flair\n",
        "!pip install yfinance\n",
        "import pandas as pd"
      ],
      "execution_count": null,
      "outputs": []
    },
    {
      "cell_type": "markdown",
      "metadata": {
        "id": "TfRfP4bO1eaa"
      },
      "source": [
        "## Пользовательские функции и токены авторизации"
      ]
    },
    {
      "cell_type": "markdown",
      "metadata": {
        "id": "F7RS7L_H3q39"
      },
      "source": [
        "Функция для очистки полученных данных"
      ]
    },
    {
      "cell_type": "code",
      "metadata": {
        "id": "7DzbGo-Q1_nE"
      },
      "source": [
        "import re\n",
        "whitespace = re.compile(r\"\\s+\")\n",
        "web_address = re.compile(r\"(?i)http(s):\\/\\/[a-z0-9.~_\\-\\/]+\")\n",
        "user = re.compile(r\"(?i)@[a-z0-9_]+\")\n",
        "retweets = re.compile(r\"RT :\") #нужно для второй части, Cursor загружает без ретвитов"
      ],
      "execution_count": null,
      "outputs": []
    },
    {
      "cell_type": "code",
      "metadata": {
        "id": "7WwGZgz02IfE"
      },
      "source": [
        "def clean_data(data):\n",
        "  data = web_address.sub(' ', data)\n",
        "  data = user.sub(' ', data)\n",
        "  data = whitespace.sub(' ', data)\n",
        "  data = retweets.sub('', data)\n",
        "  return data"
      ],
      "execution_count": null,
      "outputs": []
    },
    {
      "cell_type": "markdown",
      "metadata": {
        "id": "7xG9NjkG31Yf"
      },
      "source": [
        "Токены авторизации"
      ]
    },
    {
      "cell_type": "code",
      "metadata": {
        "id": "-Lsww7kQ4N27"
      },
      "source": [
        "file = open('tokens.txt','r')\n",
        "tokens = file.read().split()\n",
        "file.close()"
      ],
      "execution_count": null,
      "outputs": []
    },
    {
      "cell_type": "markdown",
      "metadata": {
        "id": "KtE4GYeI_Au9"
      },
      "source": [
        "## Загрузка предобученной модели"
      ]
    },
    {
      "cell_type": "code",
      "metadata": {
        "id": "MjzH-3wt_Jxe"
      },
      "source": [
        "from flair.models import TextClassifier\n",
        "from flair.data import Sentence\n",
        "sentiment_model = TextClassifier.load('en-sentiment')"
      ],
      "execution_count": null,
      "outputs": []
    },
    {
      "cell_type": "markdown",
      "metadata": {
        "id": "lbQ8-fQJ73rz"
      },
      "source": [
        "## Подключение с tweepy и тест классификатора"
      ]
    },
    {
      "cell_type": "code",
      "metadata": {
        "id": "pK-_rDPmOsOI"
      },
      "source": [
        "import tweepy\n",
        "auth = tweepy.AppAuthHandler(tokens[0], tokens[1])\n",
        "api = tweepy.API(auth)"
      ],
      "execution_count": null,
      "outputs": []
    },
    {
      "cell_type": "code",
      "metadata": {
        "id": "Wq1jTI5CyA97"
      },
      "source": [
        "def get_tweets(company_name,tweets_number):\n",
        "  df = pd.DataFrame()\n",
        "  try:\n",
        "    for tweet in tweepy.Cursor(api.search,\n",
        "                               q= company_name,\n",
        "                               lang = 'en',\n",
        "                               tweet_mode=\"extended\",\n",
        "                               wait_on_rate_limit = True).items(tweets_number):\n",
        "      if not tweet.retweeted and 'RT @' not in tweet.full_text:\n",
        "        data = {\n",
        "        'id': tweet.id_str,\n",
        "        'created_at': tweet.created_at,\n",
        "        'text': tweet.full_text,\n",
        "        'user_name': tweet.user.screen_name,\n",
        "        'followers_count': tweet.user.followers_count\n",
        "        }\n",
        "        df = df.append(data, ignore_index=True)\n",
        "    return df\n",
        "  except tweepy.TweepError as e:\n",
        "    print('Проблема с API')\n",
        "    print(e.reason)\n",
        "  except Exception:\n",
        "    print(Exception)"
      ],
      "execution_count": null,
      "outputs": []
    },
    {
      "cell_type": "code",
      "metadata": {
        "colab": {
          "base_uri": "https://localhost:8080/",
          "height": 200
        },
        "id": "h9AxloWzPm1R",
        "outputId": "cb39f019-4731-4363-9d96-30efe1f15384"
      },
      "source": [
        "data = get_tweets('Tesla',100)\n",
        "data.head()"
      ],
      "execution_count": null,
      "outputs": [
        {
          "output_type": "execute_result",
          "data": {
            "text/html": [
              "<div>\n",
              "<style scoped>\n",
              "    .dataframe tbody tr th:only-of-type {\n",
              "        vertical-align: middle;\n",
              "    }\n",
              "\n",
              "    .dataframe tbody tr th {\n",
              "        vertical-align: top;\n",
              "    }\n",
              "\n",
              "    .dataframe thead th {\n",
              "        text-align: right;\n",
              "    }\n",
              "</style>\n",
              "<table border=\"1\" class=\"dataframe\">\n",
              "  <thead>\n",
              "    <tr style=\"text-align: right;\">\n",
              "      <th></th>\n",
              "      <th>created_at</th>\n",
              "      <th>followers_count</th>\n",
              "      <th>id</th>\n",
              "      <th>text</th>\n",
              "      <th>user_name</th>\n",
              "    </tr>\n",
              "  </thead>\n",
              "  <tbody>\n",
              "    <tr>\n",
              "      <th>0</th>\n",
              "      <td>2021-05-27 12:45:11</td>\n",
              "      <td>2889.0</td>\n",
              "      <td>1397896665735045121</td>\n",
              "      <td>Tesla phases out radar sensors, shifts to came...</td>\n",
              "      <td>DrivingReal</td>\n",
              "    </tr>\n",
              "    <tr>\n",
              "      <th>1</th>\n",
              "      <td>2021-05-27 12:45:10</td>\n",
              "      <td>151.0</td>\n",
              "      <td>1397896663692419075</td>\n",
              "      <td>@Tesla @elonmusk We kind of just rolled with t...</td>\n",
              "      <td>AlyceHutton</td>\n",
              "    </tr>\n",
              "    <tr>\n",
              "      <th>2</th>\n",
              "      <td>2021-05-27 12:45:10</td>\n",
              "      <td>319.0</td>\n",
              "      <td>1397896663637938177</td>\n",
              "      <td>Number of Bitcoin wallets holding 100–1K BTC s...</td>\n",
              "      <td>CryptoCondition</td>\n",
              "    </tr>\n",
              "    <tr>\n",
              "      <th>3</th>\n",
              "      <td>2021-05-27 12:45:07</td>\n",
              "      <td>26980.0</td>\n",
              "      <td>1397896650106961923</td>\n",
              "      <td>@WR4NYGov @elonmusk Maybe, I bet Tesla will tr...</td>\n",
              "      <td>WholeMarsBlog</td>\n",
              "    </tr>\n",
              "    <tr>\n",
              "      <th>4</th>\n",
              "      <td>2021-05-27 12:45:06</td>\n",
              "      <td>117059.0</td>\n",
              "      <td>1397896643794591749</td>\n",
              "      <td>Number of Bitcoin wallets holding 100–1K BTC s...</td>\n",
              "      <td>newsinvesting</td>\n",
              "    </tr>\n",
              "  </tbody>\n",
              "</table>\n",
              "</div>"
            ],
            "text/plain": [
              "           created_at  ...        user_name\n",
              "0 2021-05-27 12:45:11  ...      DrivingReal\n",
              "1 2021-05-27 12:45:10  ...      AlyceHutton\n",
              "2 2021-05-27 12:45:10  ...  CryptoCondition\n",
              "3 2021-05-27 12:45:07  ...    WholeMarsBlog\n",
              "4 2021-05-27 12:45:06  ...    newsinvesting\n",
              "\n",
              "[5 rows x 5 columns]"
            ]
          },
          "metadata": {
            "tags": []
          },
          "execution_count": 110
        }
      ]
    },
    {
      "cell_type": "code",
      "metadata": {
        "colab": {
          "base_uri": "https://localhost:8080/"
        },
        "id": "tS_B0JWBTWNc",
        "outputId": "1c6bd75c-62ce-4780-918d-e03ed20bff3d"
      },
      "source": [
        "data.isna().sum()"
      ],
      "execution_count": null,
      "outputs": [
        {
          "output_type": "execute_result",
          "data": {
            "text/plain": [
              "created_at         0\n",
              "followers_count    0\n",
              "id                 0\n",
              "text               0\n",
              "user_name          0\n",
              "dtype: int64"
            ]
          },
          "metadata": {
            "tags": []
          },
          "execution_count": 111
        }
      ]
    },
    {
      "cell_type": "code",
      "metadata": {
        "id": "fJkoblTEQ34q"
      },
      "source": [
        "data.fillna('',inplace=True)"
      ],
      "execution_count": null,
      "outputs": []
    },
    {
      "cell_type": "code",
      "metadata": {
        "id": "I9QAjruVsalH"
      },
      "source": [
        "data = data.assign(opinion_weight = (data.followers_count - data.followers_count.min()) / data.followers_count.max())"
      ],
      "execution_count": null,
      "outputs": []
    },
    {
      "cell_type": "code",
      "metadata": {
        "id": "_7c1DapusbXN",
        "colab": {
          "base_uri": "https://localhost:8080/",
          "height": 352
        },
        "outputId": "911a88e9-e7bb-476b-88b6-160d1115dc0b"
      },
      "source": [
        "data.head()"
      ],
      "execution_count": null,
      "outputs": [
        {
          "output_type": "execute_result",
          "data": {
            "text/html": [
              "<div>\n",
              "<style scoped>\n",
              "    .dataframe tbody tr th:only-of-type {\n",
              "        vertical-align: middle;\n",
              "    }\n",
              "\n",
              "    .dataframe tbody tr th {\n",
              "        vertical-align: top;\n",
              "    }\n",
              "\n",
              "    .dataframe thead th {\n",
              "        text-align: right;\n",
              "    }\n",
              "</style>\n",
              "<table border=\"1\" class=\"dataframe\">\n",
              "  <thead>\n",
              "    <tr style=\"text-align: right;\">\n",
              "      <th></th>\n",
              "      <th>created_at</th>\n",
              "      <th>followers_count</th>\n",
              "      <th>id</th>\n",
              "      <th>text</th>\n",
              "      <th>user_name</th>\n",
              "      <th>opinion_weight</th>\n",
              "    </tr>\n",
              "  </thead>\n",
              "  <tbody>\n",
              "    <tr>\n",
              "      <th>0</th>\n",
              "      <td>2021-05-27 12:45:11</td>\n",
              "      <td>2889.0</td>\n",
              "      <td>1397896665735045121</td>\n",
              "      <td>Tesla phases out radar sensors, shifts to came...</td>\n",
              "      <td>DrivingReal</td>\n",
              "      <td>0.024680</td>\n",
              "    </tr>\n",
              "    <tr>\n",
              "      <th>1</th>\n",
              "      <td>2021-05-27 12:45:10</td>\n",
              "      <td>151.0</td>\n",
              "      <td>1397896663692419075</td>\n",
              "      <td>@Tesla @elonmusk We kind of just rolled with t...</td>\n",
              "      <td>AlyceHutton</td>\n",
              "      <td>0.001290</td>\n",
              "    </tr>\n",
              "    <tr>\n",
              "      <th>2</th>\n",
              "      <td>2021-05-27 12:45:10</td>\n",
              "      <td>319.0</td>\n",
              "      <td>1397896663637938177</td>\n",
              "      <td>Number of Bitcoin wallets holding 100–1K BTC s...</td>\n",
              "      <td>CryptoCondition</td>\n",
              "      <td>0.002725</td>\n",
              "    </tr>\n",
              "    <tr>\n",
              "      <th>3</th>\n",
              "      <td>2021-05-27 12:45:07</td>\n",
              "      <td>26980.0</td>\n",
              "      <td>1397896650106961923</td>\n",
              "      <td>@WR4NYGov @elonmusk Maybe, I bet Tesla will tr...</td>\n",
              "      <td>WholeMarsBlog</td>\n",
              "      <td>0.230482</td>\n",
              "    </tr>\n",
              "    <tr>\n",
              "      <th>4</th>\n",
              "      <td>2021-05-27 12:45:06</td>\n",
              "      <td>117059.0</td>\n",
              "      <td>1397896643794591749</td>\n",
              "      <td>Number of Bitcoin wallets holding 100–1K BTC s...</td>\n",
              "      <td>newsinvesting</td>\n",
              "      <td>1.000000</td>\n",
              "    </tr>\n",
              "    <tr>\n",
              "      <th>5</th>\n",
              "      <td>2021-05-27 12:44:54</td>\n",
              "      <td>563.0</td>\n",
              "      <td>1397896596101091333</td>\n",
              "      <td>The move is part of #Beijing efforts to requir...</td>\n",
              "      <td>srinicaps</td>\n",
              "      <td>0.004810</td>\n",
              "    </tr>\n",
              "    <tr>\n",
              "      <th>6</th>\n",
              "      <td>2021-05-27 12:44:53</td>\n",
              "      <td>2155.0</td>\n",
              "      <td>1397896591659393027</td>\n",
              "      <td>@torikkat THE WINNER IS @lilbeemo AND THEY WIN...</td>\n",
              "      <td>lilbeemo</td>\n",
              "      <td>0.018410</td>\n",
              "    </tr>\n",
              "    <tr>\n",
              "      <th>7</th>\n",
              "      <td>2021-05-27 12:44:53</td>\n",
              "      <td>816.0</td>\n",
              "      <td>1397896590854139904</td>\n",
              "      <td>@the_boring_dad @WholeMarsBlog The most insidi...</td>\n",
              "      <td>jpw1116</td>\n",
              "      <td>0.006971</td>\n",
              "    </tr>\n",
              "    <tr>\n",
              "      <th>8</th>\n",
              "      <td>2021-05-27 12:44:51</td>\n",
              "      <td>151.0</td>\n",
              "      <td>1397896581135880200</td>\n",
              "      <td>@Tesla @elonmusk We're talking to experts in t...</td>\n",
              "      <td>AlyceHutton</td>\n",
              "      <td>0.001290</td>\n",
              "    </tr>\n",
              "    <tr>\n",
              "      <th>9</th>\n",
              "      <td>2021-05-27 12:44:50</td>\n",
              "      <td>195.0</td>\n",
              "      <td>1397896576547315712</td>\n",
              "      <td>Any sufficiently advanced fraud is indistingui...</td>\n",
              "      <td>CompositeManTRX</td>\n",
              "      <td>0.001666</td>\n",
              "    </tr>\n",
              "  </tbody>\n",
              "</table>\n",
              "</div>"
            ],
            "text/plain": [
              "           created_at  followers_count  ...        user_name opinion_weight\n",
              "0 2021-05-27 12:45:11           2889.0  ...      DrivingReal       0.024680\n",
              "1 2021-05-27 12:45:10            151.0  ...      AlyceHutton       0.001290\n",
              "2 2021-05-27 12:45:10            319.0  ...  CryptoCondition       0.002725\n",
              "3 2021-05-27 12:45:07          26980.0  ...    WholeMarsBlog       0.230482\n",
              "4 2021-05-27 12:45:06         117059.0  ...    newsinvesting       1.000000\n",
              "5 2021-05-27 12:44:54            563.0  ...        srinicaps       0.004810\n",
              "6 2021-05-27 12:44:53           2155.0  ...         lilbeemo       0.018410\n",
              "7 2021-05-27 12:44:53            816.0  ...          jpw1116       0.006971\n",
              "8 2021-05-27 12:44:51            151.0  ...      AlyceHutton       0.001290\n",
              "9 2021-05-27 12:44:50            195.0  ...  CompositeManTRX       0.001666\n",
              "\n",
              "[10 rows x 6 columns]"
            ]
          },
          "metadata": {
            "tags": []
          },
          "execution_count": 114
        }
      ]
    },
    {
      "cell_type": "code",
      "metadata": {
        "id": "RVNngaHHrlL2"
      },
      "source": [
        "data['text'] = data['text'].apply(clean_data)"
      ],
      "execution_count": null,
      "outputs": []
    },
    {
      "cell_type": "code",
      "metadata": {
        "colab": {
          "base_uri": "https://localhost:8080/",
          "height": 352
        },
        "id": "W_YK6rNir0Vp",
        "outputId": "c586e4c3-8fbb-4a14-c80f-94e71bb35cf7"
      },
      "source": [
        "data.head()"
      ],
      "execution_count": null,
      "outputs": [
        {
          "output_type": "execute_result",
          "data": {
            "text/html": [
              "<div>\n",
              "<style scoped>\n",
              "    .dataframe tbody tr th:only-of-type {\n",
              "        vertical-align: middle;\n",
              "    }\n",
              "\n",
              "    .dataframe tbody tr th {\n",
              "        vertical-align: top;\n",
              "    }\n",
              "\n",
              "    .dataframe thead th {\n",
              "        text-align: right;\n",
              "    }\n",
              "</style>\n",
              "<table border=\"1\" class=\"dataframe\">\n",
              "  <thead>\n",
              "    <tr style=\"text-align: right;\">\n",
              "      <th></th>\n",
              "      <th>created_at</th>\n",
              "      <th>followers_count</th>\n",
              "      <th>id</th>\n",
              "      <th>text</th>\n",
              "      <th>user_name</th>\n",
              "      <th>opinion_weight</th>\n",
              "    </tr>\n",
              "  </thead>\n",
              "  <tbody>\n",
              "    <tr>\n",
              "      <th>0</th>\n",
              "      <td>2021-05-27 12:45:11</td>\n",
              "      <td>2889.0</td>\n",
              "      <td>1397896665735045121</td>\n",
              "      <td>Tesla phases out radar sensors, shifts to came...</td>\n",
              "      <td>DrivingReal</td>\n",
              "      <td>0.024680</td>\n",
              "    </tr>\n",
              "    <tr>\n",
              "      <th>1</th>\n",
              "      <td>2021-05-27 12:45:10</td>\n",
              "      <td>151.0</td>\n",
              "      <td>1397896663692419075</td>\n",
              "      <td>We kind of just rolled with the team and stuc...</td>\n",
              "      <td>AlyceHutton</td>\n",
              "      <td>0.001290</td>\n",
              "    </tr>\n",
              "    <tr>\n",
              "      <th>2</th>\n",
              "      <td>2021-05-27 12:45:10</td>\n",
              "      <td>319.0</td>\n",
              "      <td>1397896663637938177</td>\n",
              "      <td>Number of Bitcoin wallets holding 100–1K BTC s...</td>\n",
              "      <td>CryptoCondition</td>\n",
              "      <td>0.002725</td>\n",
              "    </tr>\n",
              "    <tr>\n",
              "      <th>3</th>\n",
              "      <td>2021-05-27 12:45:07</td>\n",
              "      <td>26980.0</td>\n",
              "      <td>1397896650106961923</td>\n",
              "      <td>Maybe, I bet Tesla will try and comply with t...</td>\n",
              "      <td>WholeMarsBlog</td>\n",
              "      <td>0.230482</td>\n",
              "    </tr>\n",
              "    <tr>\n",
              "      <th>4</th>\n",
              "      <td>2021-05-27 12:45:06</td>\n",
              "      <td>117059.0</td>\n",
              "      <td>1397896643794591749</td>\n",
              "      <td>Number of Bitcoin wallets holding 100–1K BTC s...</td>\n",
              "      <td>newsinvesting</td>\n",
              "      <td>1.000000</td>\n",
              "    </tr>\n",
              "    <tr>\n",
              "      <th>5</th>\n",
              "      <td>2021-05-27 12:44:54</td>\n",
              "      <td>563.0</td>\n",
              "      <td>1397896596101091333</td>\n",
              "      <td>The move is part of #Beijing efforts to requir...</td>\n",
              "      <td>srinicaps</td>\n",
              "      <td>0.004810</td>\n",
              "    </tr>\n",
              "    <tr>\n",
              "      <th>6</th>\n",
              "      <td>2021-05-27 12:44:53</td>\n",
              "      <td>2155.0</td>\n",
              "      <td>1397896591659393027</td>\n",
              "      <td>THE WINNER IS AND THEY WIN A TESLA</td>\n",
              "      <td>lilbeemo</td>\n",
              "      <td>0.018410</td>\n",
              "    </tr>\n",
              "    <tr>\n",
              "      <th>7</th>\n",
              "      <td>2021-05-27 12:44:53</td>\n",
              "      <td>816.0</td>\n",
              "      <td>1397896590854139904</td>\n",
              "      <td>The most insidious thing I've seen lately is ...</td>\n",
              "      <td>jpw1116</td>\n",
              "      <td>0.006971</td>\n",
              "    </tr>\n",
              "    <tr>\n",
              "      <th>8</th>\n",
              "      <td>2021-05-27 12:44:51</td>\n",
              "      <td>151.0</td>\n",
              "      <td>1397896581135880200</td>\n",
              "      <td>We're talking to experts in the crypto and bl...</td>\n",
              "      <td>AlyceHutton</td>\n",
              "      <td>0.001290</td>\n",
              "    </tr>\n",
              "    <tr>\n",
              "      <th>9</th>\n",
              "      <td>2021-05-27 12:44:50</td>\n",
              "      <td>195.0</td>\n",
              "      <td>1397896576547315712</td>\n",
              "      <td>Any sufficiently advanced fraud is indistingui...</td>\n",
              "      <td>CompositeManTRX</td>\n",
              "      <td>0.001666</td>\n",
              "    </tr>\n",
              "  </tbody>\n",
              "</table>\n",
              "</div>"
            ],
            "text/plain": [
              "           created_at  followers_count  ...        user_name opinion_weight\n",
              "0 2021-05-27 12:45:11           2889.0  ...      DrivingReal       0.024680\n",
              "1 2021-05-27 12:45:10            151.0  ...      AlyceHutton       0.001290\n",
              "2 2021-05-27 12:45:10            319.0  ...  CryptoCondition       0.002725\n",
              "3 2021-05-27 12:45:07          26980.0  ...    WholeMarsBlog       0.230482\n",
              "4 2021-05-27 12:45:06         117059.0  ...    newsinvesting       1.000000\n",
              "5 2021-05-27 12:44:54            563.0  ...        srinicaps       0.004810\n",
              "6 2021-05-27 12:44:53           2155.0  ...         lilbeemo       0.018410\n",
              "7 2021-05-27 12:44:53            816.0  ...          jpw1116       0.006971\n",
              "8 2021-05-27 12:44:51            151.0  ...      AlyceHutton       0.001290\n",
              "9 2021-05-27 12:44:50            195.0  ...  CompositeManTRX       0.001666\n",
              "\n",
              "[10 rows x 6 columns]"
            ]
          },
          "metadata": {
            "tags": []
          },
          "execution_count": 118
        }
      ]
    },
    {
      "cell_type": "code",
      "metadata": {
        "id": "5_pDGgspwPc-"
      },
      "source": [
        "probs = []\n",
        "sentiments = []\n",
        "for tweet in data['text']:\n",
        "    sentence = Sentence(tweet) #токенизация с помощью flair\n",
        "    sentiment_model.predict(sentence)\n",
        "    probs.append(sentence.labels[0].score)\n",
        "    sentiments.append(sentence.labels[0].value) \n",
        "data['probability'] = probs\n",
        "data['sentiment'] = sentiments"
      ],
      "execution_count": null,
      "outputs": []
    },
    {
      "cell_type": "code",
      "metadata": {
        "colab": {
          "base_uri": "https://localhost:8080/",
          "height": 352
        },
        "id": "SLxtq-5ryr2N",
        "outputId": "1018efba-3eab-4c4d-fb96-f317581f1d28"
      },
      "source": [
        "data.head(10)"
      ],
      "execution_count": null,
      "outputs": [
        {
          "output_type": "execute_result",
          "data": {
            "text/html": [
              "<div>\n",
              "<style scoped>\n",
              "    .dataframe tbody tr th:only-of-type {\n",
              "        vertical-align: middle;\n",
              "    }\n",
              "\n",
              "    .dataframe tbody tr th {\n",
              "        vertical-align: top;\n",
              "    }\n",
              "\n",
              "    .dataframe thead th {\n",
              "        text-align: right;\n",
              "    }\n",
              "</style>\n",
              "<table border=\"1\" class=\"dataframe\">\n",
              "  <thead>\n",
              "    <tr style=\"text-align: right;\">\n",
              "      <th></th>\n",
              "      <th>created_at</th>\n",
              "      <th>followers_count</th>\n",
              "      <th>id</th>\n",
              "      <th>text</th>\n",
              "      <th>user_name</th>\n",
              "      <th>opinion_weight</th>\n",
              "      <th>probability</th>\n",
              "      <th>sentiment</th>\n",
              "    </tr>\n",
              "  </thead>\n",
              "  <tbody>\n",
              "    <tr>\n",
              "      <th>0</th>\n",
              "      <td>2021-05-27 12:45:11</td>\n",
              "      <td>2889.0</td>\n",
              "      <td>1397896665735045121</td>\n",
              "      <td>Tesla phases out radar sensors, shifts to came...</td>\n",
              "      <td>DrivingReal</td>\n",
              "      <td>0.024680</td>\n",
              "      <td>0.980747</td>\n",
              "      <td>NEGATIVE</td>\n",
              "    </tr>\n",
              "    <tr>\n",
              "      <th>1</th>\n",
              "      <td>2021-05-27 12:45:10</td>\n",
              "      <td>151.0</td>\n",
              "      <td>1397896663692419075</td>\n",
              "      <td>We kind of just rolled with the team and stuc...</td>\n",
              "      <td>AlyceHutton</td>\n",
              "      <td>0.001290</td>\n",
              "      <td>0.994892</td>\n",
              "      <td>NEGATIVE</td>\n",
              "    </tr>\n",
              "    <tr>\n",
              "      <th>2</th>\n",
              "      <td>2021-05-27 12:45:10</td>\n",
              "      <td>319.0</td>\n",
              "      <td>1397896663637938177</td>\n",
              "      <td>Number of Bitcoin wallets holding 100–1K BTC s...</td>\n",
              "      <td>CryptoCondition</td>\n",
              "      <td>0.002725</td>\n",
              "      <td>0.957678</td>\n",
              "      <td>NEGATIVE</td>\n",
              "    </tr>\n",
              "    <tr>\n",
              "      <th>3</th>\n",
              "      <td>2021-05-27 12:45:07</td>\n",
              "      <td>26980.0</td>\n",
              "      <td>1397896650106961923</td>\n",
              "      <td>Maybe, I bet Tesla will try and comply with t...</td>\n",
              "      <td>WholeMarsBlog</td>\n",
              "      <td>0.230482</td>\n",
              "      <td>0.987370</td>\n",
              "      <td>NEGATIVE</td>\n",
              "    </tr>\n",
              "    <tr>\n",
              "      <th>4</th>\n",
              "      <td>2021-05-27 12:45:06</td>\n",
              "      <td>117059.0</td>\n",
              "      <td>1397896643794591749</td>\n",
              "      <td>Number of Bitcoin wallets holding 100–1K BTC s...</td>\n",
              "      <td>newsinvesting</td>\n",
              "      <td>1.000000</td>\n",
              "      <td>0.940482</td>\n",
              "      <td>NEGATIVE</td>\n",
              "    </tr>\n",
              "    <tr>\n",
              "      <th>5</th>\n",
              "      <td>2021-05-27 12:44:54</td>\n",
              "      <td>563.0</td>\n",
              "      <td>1397896596101091333</td>\n",
              "      <td>The move is part of #Beijing efforts to requir...</td>\n",
              "      <td>srinicaps</td>\n",
              "      <td>0.004810</td>\n",
              "      <td>0.982782</td>\n",
              "      <td>NEGATIVE</td>\n",
              "    </tr>\n",
              "    <tr>\n",
              "      <th>6</th>\n",
              "      <td>2021-05-27 12:44:53</td>\n",
              "      <td>2155.0</td>\n",
              "      <td>1397896591659393027</td>\n",
              "      <td>THE WINNER IS AND THEY WIN A TESLA</td>\n",
              "      <td>lilbeemo</td>\n",
              "      <td>0.018410</td>\n",
              "      <td>0.999885</td>\n",
              "      <td>POSITIVE</td>\n",
              "    </tr>\n",
              "    <tr>\n",
              "      <th>7</th>\n",
              "      <td>2021-05-27 12:44:53</td>\n",
              "      <td>816.0</td>\n",
              "      <td>1397896590854139904</td>\n",
              "      <td>The most insidious thing I've seen lately is ...</td>\n",
              "      <td>jpw1116</td>\n",
              "      <td>0.006971</td>\n",
              "      <td>0.999946</td>\n",
              "      <td>NEGATIVE</td>\n",
              "    </tr>\n",
              "    <tr>\n",
              "      <th>8</th>\n",
              "      <td>2021-05-27 12:44:51</td>\n",
              "      <td>151.0</td>\n",
              "      <td>1397896581135880200</td>\n",
              "      <td>We're talking to experts in the crypto and bl...</td>\n",
              "      <td>AlyceHutton</td>\n",
              "      <td>0.001290</td>\n",
              "      <td>0.787429</td>\n",
              "      <td>POSITIVE</td>\n",
              "    </tr>\n",
              "    <tr>\n",
              "      <th>9</th>\n",
              "      <td>2021-05-27 12:44:50</td>\n",
              "      <td>195.0</td>\n",
              "      <td>1397896576547315712</td>\n",
              "      <td>Any sufficiently advanced fraud is indistingui...</td>\n",
              "      <td>CompositeManTRX</td>\n",
              "      <td>0.001666</td>\n",
              "      <td>0.526536</td>\n",
              "      <td>NEGATIVE</td>\n",
              "    </tr>\n",
              "  </tbody>\n",
              "</table>\n",
              "</div>"
            ],
            "text/plain": [
              "           created_at  followers_count  ... probability sentiment\n",
              "0 2021-05-27 12:45:11           2889.0  ...    0.980747  NEGATIVE\n",
              "1 2021-05-27 12:45:10            151.0  ...    0.994892  NEGATIVE\n",
              "2 2021-05-27 12:45:10            319.0  ...    0.957678  NEGATIVE\n",
              "3 2021-05-27 12:45:07          26980.0  ...    0.987370  NEGATIVE\n",
              "4 2021-05-27 12:45:06         117059.0  ...    0.940482  NEGATIVE\n",
              "5 2021-05-27 12:44:54            563.0  ...    0.982782  NEGATIVE\n",
              "6 2021-05-27 12:44:53           2155.0  ...    0.999885  POSITIVE\n",
              "7 2021-05-27 12:44:53            816.0  ...    0.999946  NEGATIVE\n",
              "8 2021-05-27 12:44:51            151.0  ...    0.787429  POSITIVE\n",
              "9 2021-05-27 12:44:50            195.0  ...    0.526536  NEGATIVE\n",
              "\n",
              "[10 rows x 8 columns]"
            ]
          },
          "metadata": {
            "tags": []
          },
          "execution_count": 121
        }
      ]
    },
    {
      "cell_type": "markdown",
      "metadata": {
        "id": "x839flRN9UpP"
      },
      "source": [
        "## Подключение с помощью requests, создание выборки твитов"
      ]
    },
    {
      "cell_type": "code",
      "metadata": {
        "id": "nuKSsMCIZYbX"
      },
      "source": [
        "BEARER_TOKEN = tokens[2]"
      ],
      "execution_count": null,
      "outputs": []
    },
    {
      "cell_type": "code",
      "metadata": {
        "id": "ats85zRWZcHj"
      },
      "source": [
        "import requests\n",
        "endpoint = 'https://api.twitter.com/2/tweets/search/recent'\n",
        "headers = {'authorization': f'Bearer {BEARER_TOKEN}'}\n",
        "params = {\n",
        "    'query': '(Tesla OR Tsla) (lang:en)',\n",
        "    'max_results': '100',\n",
        "    'tweet.fields': 'created_at,lang,public_metrics'\n",
        "}"
      ],
      "execution_count": null,
      "outputs": []
    },
    {
      "cell_type": "code",
      "metadata": {
        "id": "Uk1-mtB2Zlho"
      },
      "source": [
        "def get_data(tweet):\n",
        "    data = {\n",
        "        'id': tweet['id'],\n",
        "        'created_at': tweet['created_at'],\n",
        "        'text': tweet['text'],\n",
        "        'retweets': tweet['public_metrics']['retweet_count']\n",
        "    }\n",
        "    return data"
      ],
      "execution_count": null,
      "outputs": []
    },
    {
      "cell_type": "code",
      "metadata": {
        "id": "6E8Lz-QGys0p"
      },
      "source": [
        "from datetime import datetime, timedelta\n",
        "import time\n",
        "dtformat = '%Y-%m-%dT%H:%M:%SZ'\n",
        "def time_gap(now, mins):\n",
        "    now = datetime.strptime(now, dtformat)\n",
        "    gap = now - timedelta(minutes=mins)\n",
        "    return gap.strftime(dtformat)"
      ],
      "execution_count": null,
      "outputs": []
    },
    {
      "cell_type": "code",
      "metadata": {
        "id": "zR2sa03zFuyq"
      },
      "source": [
        "now = datetime.now()\n",
        "last_days = now - timedelta(days=3)\n",
        "now = now.strftime(dtformat)"
      ],
      "execution_count": null,
      "outputs": []
    },
    {
      "cell_type": "code",
      "metadata": {
        "id": "di5X7NDBNbGj"
      },
      "source": [
        "retro_data = pd.DataFrame()\n",
        "while True:\n",
        "    if datetime.strptime(now, dtformat) < last_days:\n",
        "        break\n",
        "    back_in15mins = time_gap(now, 15)\n",
        "    params['start_time'] = back_in15mins\n",
        "    params['end_time'] = now\n",
        "    response = requests.get(endpoint,\n",
        "                            params=params,\n",
        "                            headers=headers)\n",
        "    now = back_in15mins \n",
        "    for tweet in response.json()['data']:\n",
        "        row = get_data(tweet)\n",
        "        retro_data = retro_data.append(row, ignore_index=True)"
      ],
      "execution_count": null,
      "outputs": []
    },
    {
      "cell_type": "markdown",
      "metadata": {
        "id": "4p9r0wY8-omU"
      },
      "source": [
        "## Очистка данных\n",
        "Вводим значения - opinion_weight и normalized_opinion_weight. Opinion_weight - число ретвитов на среднее число ретвитов в выборке. Normalized_opinion_weigh - нормализация opinion weight к диапазону [0..1] методом MinMax, прибавляем к количеству и максимальному количеству ретвитов единицу, чтобы не обнулять значение для твитов без ретвитов."
      ]
    },
    {
      "cell_type": "code",
      "metadata": {
        "id": "D6u0Q6UHHErS"
      },
      "source": [
        "retro_data = retro_data.assign(opinion_weight = retro_data.retweets/retro_data.retweets.mean())\n",
        "retro_data = retro_data.assign(norm_opinion_weight =\n",
        "                               (retro_data.retweets + 1 - retro_data.retweets.min()) / (retro_data.retweets.max() - retro_data.retweets.min() + 1))\n",
        "retro_data['text'] = retro_data['text'].apply(clean_data)"
      ],
      "execution_count": null,
      "outputs": []
    },
    {
      "cell_type": "code",
      "metadata": {
        "colab": {
          "base_uri": "https://localhost:8080/",
          "height": 200
        },
        "id": "IAbVvfIiAnG2",
        "outputId": "fa36de6f-a8cf-4190-e390-abcc34b92723"
      },
      "source": [
        "retro_data.head()"
      ],
      "execution_count": null,
      "outputs": [
        {
          "output_type": "execute_result",
          "data": {
            "text/html": [
              "<div>\n",
              "<style scoped>\n",
              "    .dataframe tbody tr th:only-of-type {\n",
              "        vertical-align: middle;\n",
              "    }\n",
              "\n",
              "    .dataframe tbody tr th {\n",
              "        vertical-align: top;\n",
              "    }\n",
              "\n",
              "    .dataframe thead th {\n",
              "        text-align: right;\n",
              "    }\n",
              "</style>\n",
              "<table border=\"1\" class=\"dataframe\">\n",
              "  <thead>\n",
              "    <tr style=\"text-align: right;\">\n",
              "      <th></th>\n",
              "      <th>created_at</th>\n",
              "      <th>id</th>\n",
              "      <th>retweets</th>\n",
              "      <th>text</th>\n",
              "      <th>opinion_weight</th>\n",
              "      <th>norm_opinion_weight</th>\n",
              "    </tr>\n",
              "  </thead>\n",
              "  <tbody>\n",
              "    <tr>\n",
              "      <th>0</th>\n",
              "      <td>2021-05-27T17:57:02.000Z</td>\n",
              "      <td>1397975146367959047</td>\n",
              "      <td>187.0</td>\n",
              "      <td>Since Tesla announced their #Bitcoin position...</td>\n",
              "      <td>0.153944</td>\n",
              "      <td>0.001894</td>\n",
              "    </tr>\n",
              "    <tr>\n",
              "      <th>1</th>\n",
              "      <td>2021-05-27T17:57:02.000Z</td>\n",
              "      <td>1397975145604698113</td>\n",
              "      <td>0.0</td>\n",
              "      <td>FAD = full self-driving</td>\n",
              "      <td>0.000000</td>\n",
              "      <td>0.000010</td>\n",
              "    </tr>\n",
              "    <tr>\n",
              "      <th>2</th>\n",
              "      <td>2021-05-27T17:57:02.000Z</td>\n",
              "      <td>1397975143750717445</td>\n",
              "      <td>5.0</td>\n",
              "      <td>Plaid Cymru Senedd Member writes to Elon Musk ...</td>\n",
              "      <td>0.004116</td>\n",
              "      <td>0.000060</td>\n",
              "    </tr>\n",
              "    <tr>\n",
              "      <th>3</th>\n",
              "      <td>2021-05-27T17:56:58.000Z</td>\n",
              "      <td>1397975128202416128</td>\n",
              "      <td>57.0</td>\n",
              "      <td>Let me get this straight: 1/ Model S Plaid de...</td>\n",
              "      <td>0.046924</td>\n",
              "      <td>0.000584</td>\n",
              "    </tr>\n",
              "    <tr>\n",
              "      <th>4</th>\n",
              "      <td>2021-05-27T17:56:56.000Z</td>\n",
              "      <td>1397975122523398149</td>\n",
              "      <td>0.0</td>\n",
              "      <td>💃🏾💃🏾💃🏾. Yeah the Tesla was not cutting it! Gl...</td>\n",
              "      <td>0.000000</td>\n",
              "      <td>0.000010</td>\n",
              "    </tr>\n",
              "  </tbody>\n",
              "</table>\n",
              "</div>"
            ],
            "text/plain": [
              "                 created_at  ... norm_opinion_weight\n",
              "0  2021-05-27T17:57:02.000Z  ...            0.001894\n",
              "1  2021-05-27T17:57:02.000Z  ...            0.000010\n",
              "2  2021-05-27T17:57:02.000Z  ...            0.000060\n",
              "3  2021-05-27T17:56:58.000Z  ...            0.000584\n",
              "4  2021-05-27T17:56:56.000Z  ...            0.000010\n",
              "\n",
              "[5 rows x 6 columns]"
            ]
          },
          "metadata": {
            "tags": []
          },
          "execution_count": 490
        }
      ]
    },
    {
      "cell_type": "markdown",
      "metadata": {
        "id": "lYNwI2nY-y5V"
      },
      "source": [
        "## Сравнение opinion_weight и normalized_opinion_weight"
      ]
    },
    {
      "cell_type": "code",
      "metadata": {
        "colab": {
          "base_uri": "https://localhost:8080/",
          "height": 353
        },
        "id": "QL26yYC-M4lS",
        "outputId": "49061b39-40e4-4e0d-ce09-2925b2ac963e"
      },
      "source": [
        "import seaborn as sns\n",
        "sns.distplot(retro_data['opinion_weight'],hist=True, \n",
        "             bins=int(180/5), color = 'blue')"
      ],
      "execution_count": null,
      "outputs": [
        {
          "output_type": "stream",
          "text": [
            "/usr/local/lib/python3.7/dist-packages/seaborn/distributions.py:2557: FutureWarning: `distplot` is a deprecated function and will be removed in a future version. Please adapt your code to use either `displot` (a figure-level function with similar flexibility) or `histplot` (an axes-level function for histograms).\n",
            "  warnings.warn(msg, FutureWarning)\n"
          ],
          "name": "stderr"
        },
        {
          "output_type": "execute_result",
          "data": {
            "text/plain": [
              "<matplotlib.axes._subplots.AxesSubplot at 0x7f657769c110>"
            ]
          },
          "metadata": {
            "tags": []
          },
          "execution_count": 491
        },
        {
          "output_type": "display_data",
          "data": {
            "image/png": "[encoded data removed]",
            "text/plain": [
              "<Figure size 432x288 with 1 Axes>"
            ]
          },
          "metadata": {
            "tags": [],
            "needs_background": "light"
          }
        }
      ]
    },
    {
      "cell_type": "code",
      "metadata": {
        "colab": {
          "base_uri": "https://localhost:8080/",
          "height": 353
        },
        "id": "NSQL8QcmRIiP",
        "outputId": "4d74ef7b-1d57-4109-9fa6-e0d52ca08989"
      },
      "source": [
        "sns.distplot(retro_data['norm_opinion_weight'],hist=True, \n",
        "             bins=int(180/5), color = 'red')"
      ],
      "execution_count": null,
      "outputs": [
        {
          "output_type": "stream",
          "text": [
            "/usr/local/lib/python3.7/dist-packages/seaborn/distributions.py:2557: FutureWarning: `distplot` is a deprecated function and will be removed in a future version. Please adapt your code to use either `displot` (a figure-level function with similar flexibility) or `histplot` (an axes-level function for histograms).\n",
            "  warnings.warn(msg, FutureWarning)\n"
          ],
          "name": "stderr"
        },
        {
          "output_type": "execute_result",
          "data": {
            "text/plain": [
              "<matplotlib.axes._subplots.AxesSubplot at 0x7f6577a28350>"
            ]
          },
          "metadata": {
            "tags": []
          },
          "execution_count": 492
        },
        {
          "output_type": "display_data",
          "data": {
            "image/png": "[encoded data removed]",
            "text/plain": [
              "<Figure size 432x288 with 1 Axes>"
            ]
          },
          "metadata": {
            "tags": [],
            "needs_background": "light"
          }
        }
      ]
    },
    {
      "cell_type": "code",
      "metadata": {
        "colab": {
          "base_uri": "https://localhost:8080/"
        },
        "id": "1vA0Qg8cRTAZ",
        "outputId": "1d4b7626-1369-4d49-8aec-30cef1c09954"
      },
      "source": [
        "retro_data['norm_opinion_weight'].describe()"
      ],
      "execution_count": null,
      "outputs": [
        {
          "output_type": "execute_result",
          "data": {
            "text/plain": [
              "count    9474.000000\n",
              "mean        0.012245\n",
              "std         0.052461\n",
              "min         0.000010\n",
              "25%         0.000010\n",
              "50%         0.000020\n",
              "75%         0.000886\n",
              "max         1.000000\n",
              "Name: norm_opinion_weight, dtype: float64"
            ]
          },
          "metadata": {
            "tags": []
          },
          "execution_count": 493
        }
      ]
    },
    {
      "cell_type": "markdown",
      "metadata": {
        "id": "Cno2juxGBfeZ"
      },
      "source": [
        "## Применение классификатора к выборке"
      ]
    },
    {
      "cell_type": "code",
      "metadata": {
        "id": "r-2MNbcaKosi"
      },
      "source": [
        "retro_probs = []\n",
        "retro_sentiments = []\n",
        "for tweet in retro_data['text']:\n",
        "    sentence = Sentence(tweet)#автоматическая токенизация с помощью flair\n",
        "    sentiment_model.predict(sentence) #отработка DistilBERT\n",
        "    retro_probs.append(sentence.labels[0].score)\n",
        "    retro_sentiments.append(sentence.labels[0].value) \n",
        "retro_data['probability'] = retro_probs\n",
        "retro_data['sentiment'] = retro_sentiments"
      ],
      "execution_count": null,
      "outputs": []
    },
    {
      "cell_type": "code",
      "metadata": {
        "colab": {
          "base_uri": "https://localhost:8080/",
          "height": 352
        },
        "id": "tpA-Wi9zK5OF",
        "outputId": "9a0014dc-1f13-4518-94f3-d598a4e140a8"
      },
      "source": [
        "retro_data.head(10)"
      ],
      "execution_count": null,
      "outputs": [
        {
          "output_type": "execute_result",
          "data": {
            "text/html": [
              "<div>\n",
              "<style scoped>\n",
              "    .dataframe tbody tr th:only-of-type {\n",
              "        vertical-align: middle;\n",
              "    }\n",
              "\n",
              "    .dataframe tbody tr th {\n",
              "        vertical-align: top;\n",
              "    }\n",
              "\n",
              "    .dataframe thead th {\n",
              "        text-align: right;\n",
              "    }\n",
              "</style>\n",
              "<table border=\"1\" class=\"dataframe\">\n",
              "  <thead>\n",
              "    <tr style=\"text-align: right;\">\n",
              "      <th></th>\n",
              "      <th>created_at</th>\n",
              "      <th>id</th>\n",
              "      <th>retweets</th>\n",
              "      <th>text</th>\n",
              "      <th>opinion_weight</th>\n",
              "      <th>norm_opinion_weight</th>\n",
              "      <th>probability</th>\n",
              "      <th>sentiment</th>\n",
              "    </tr>\n",
              "  </thead>\n",
              "  <tbody>\n",
              "    <tr>\n",
              "      <th>0</th>\n",
              "      <td>2021-05-27T17:57:02.000Z</td>\n",
              "      <td>1397975146367959047</td>\n",
              "      <td>187.0</td>\n",
              "      <td>Since Tesla announced their #Bitcoin position...</td>\n",
              "      <td>0.153944</td>\n",
              "      <td>0.001894</td>\n",
              "      <td>0.867171</td>\n",
              "      <td>NEGATIVE</td>\n",
              "    </tr>\n",
              "    <tr>\n",
              "      <th>1</th>\n",
              "      <td>2021-05-27T17:57:02.000Z</td>\n",
              "      <td>1397975145604698113</td>\n",
              "      <td>0.0</td>\n",
              "      <td>FAD = full self-driving</td>\n",
              "      <td>0.000000</td>\n",
              "      <td>0.000010</td>\n",
              "      <td>0.953569</td>\n",
              "      <td>NEGATIVE</td>\n",
              "    </tr>\n",
              "    <tr>\n",
              "      <th>2</th>\n",
              "      <td>2021-05-27T17:57:02.000Z</td>\n",
              "      <td>1397975143750717445</td>\n",
              "      <td>5.0</td>\n",
              "      <td>Plaid Cymru Senedd Member writes to Elon Musk ...</td>\n",
              "      <td>0.004116</td>\n",
              "      <td>0.000060</td>\n",
              "      <td>0.836317</td>\n",
              "      <td>NEGATIVE</td>\n",
              "    </tr>\n",
              "    <tr>\n",
              "      <th>3</th>\n",
              "      <td>2021-05-27T17:56:58.000Z</td>\n",
              "      <td>1397975128202416128</td>\n",
              "      <td>57.0</td>\n",
              "      <td>Let me get this straight: 1/ Model S Plaid de...</td>\n",
              "      <td>0.046924</td>\n",
              "      <td>0.000584</td>\n",
              "      <td>0.990245</td>\n",
              "      <td>NEGATIVE</td>\n",
              "    </tr>\n",
              "    <tr>\n",
              "      <th>4</th>\n",
              "      <td>2021-05-27T17:56:56.000Z</td>\n",
              "      <td>1397975122523398149</td>\n",
              "      <td>0.0</td>\n",
              "      <td>💃🏾💃🏾💃🏾. Yeah the Tesla was not cutting it! Gl...</td>\n",
              "      <td>0.000000</td>\n",
              "      <td>0.000010</td>\n",
              "      <td>0.765093</td>\n",
              "      <td>POSITIVE</td>\n",
              "    </tr>\n",
              "    <tr>\n",
              "      <th>5</th>\n",
              "      <td>2021-05-27T17:56:56.000Z</td>\n",
              "      <td>1397975122435248130</td>\n",
              "      <td>0.0</td>\n",
              "      <td>🥳 Celebrate Webull’s 3rd Anniversary! Complete...</td>\n",
              "      <td>0.000000</td>\n",
              "      <td>0.000010</td>\n",
              "      <td>0.999709</td>\n",
              "      <td>POSITIVE</td>\n",
              "    </tr>\n",
              "    <tr>\n",
              "      <th>6</th>\n",
              "      <td>2021-05-27T17:56:53.000Z</td>\n",
              "      <td>1397975109181358082</td>\n",
              "      <td>0.0</td>\n",
              "      <td>Still illegal for Tesla to open up a store ri...</td>\n",
              "      <td>0.000000</td>\n",
              "      <td>0.000010</td>\n",
              "      <td>0.991829</td>\n",
              "      <td>NEGATIVE</td>\n",
              "    </tr>\n",
              "    <tr>\n",
              "      <th>7</th>\n",
              "      <td>2021-05-27T17:56:52.000Z</td>\n",
              "      <td>1397975104139763714</td>\n",
              "      <td>0.0</td>\n",
              "      <td>Reasons I want to buy Tesla: 1. You don’t have...</td>\n",
              "      <td>0.000000</td>\n",
              "      <td>0.000010</td>\n",
              "      <td>0.606770</td>\n",
              "      <td>POSITIVE</td>\n",
              "    </tr>\n",
              "    <tr>\n",
              "      <th>8</th>\n",
              "      <td>2021-05-27T17:56:52.000Z</td>\n",
              "      <td>1397975103321804806</td>\n",
              "      <td>70.0</td>\n",
              "      <td>New #Tesla deliveries waiting in Superior, Co...</td>\n",
              "      <td>0.057626</td>\n",
              "      <td>0.000715</td>\n",
              "      <td>0.982219</td>\n",
              "      <td>POSITIVE</td>\n",
              "    </tr>\n",
              "    <tr>\n",
              "      <th>9</th>\n",
              "      <td>2021-05-27T17:56:51.000Z</td>\n",
              "      <td>1397975099358154759</td>\n",
              "      <td>0.0</td>\n",
              "      <td>We're talking to experts in the crypto and bl...</td>\n",
              "      <td>0.000000</td>\n",
              "      <td>0.000010</td>\n",
              "      <td>0.787429</td>\n",
              "      <td>POSITIVE</td>\n",
              "    </tr>\n",
              "  </tbody>\n",
              "</table>\n",
              "</div>"
            ],
            "text/plain": [
              "                 created_at                   id  ...  probability sentiment\n",
              "0  2021-05-27T17:57:02.000Z  1397975146367959047  ...     0.867171  NEGATIVE\n",
              "1  2021-05-27T17:57:02.000Z  1397975145604698113  ...     0.953569  NEGATIVE\n",
              "2  2021-05-27T17:57:02.000Z  1397975143750717445  ...     0.836317  NEGATIVE\n",
              "3  2021-05-27T17:56:58.000Z  1397975128202416128  ...     0.990245  NEGATIVE\n",
              "4  2021-05-27T17:56:56.000Z  1397975122523398149  ...     0.765093  POSITIVE\n",
              "5  2021-05-27T17:56:56.000Z  1397975122435248130  ...     0.999709  POSITIVE\n",
              "6  2021-05-27T17:56:53.000Z  1397975109181358082  ...     0.991829  NEGATIVE\n",
              "7  2021-05-27T17:56:52.000Z  1397975104139763714  ...     0.606770  POSITIVE\n",
              "8  2021-05-27T17:56:52.000Z  1397975103321804806  ...     0.982219  POSITIVE\n",
              "9  2021-05-27T17:56:51.000Z  1397975099358154759  ...     0.787429  POSITIVE\n",
              "\n",
              "[10 rows x 8 columns]"
            ]
          },
          "metadata": {
            "tags": []
          },
          "execution_count": 495
        }
      ]
    },
    {
      "cell_type": "markdown",
      "metadata": {
        "id": "KG-hz2SqBsG_"
      },
      "source": [
        "Посмотрим количество негативных и позитивных твитов"
      ]
    },
    {
      "cell_type": "code",
      "metadata": {
        "colab": {
          "base_uri": "https://localhost:8080/",
          "height": 297
        },
        "id": "Ruamfg9BSL4h",
        "outputId": "c4c5ae8d-d426-4e40-9abf-e03548b115bf"
      },
      "source": [
        "sns.countplot(x = 'sentiment',data=retro_data)"
      ],
      "execution_count": null,
      "outputs": [
        {
          "output_type": "execute_result",
          "data": {
            "text/plain": [
              "<matplotlib.axes._subplots.AxesSubplot at 0x7f6576cbf3d0>"
            ]
          },
          "metadata": {
            "tags": []
          },
          "execution_count": 496
        },
        {
          "output_type": "display_data",
          "data": {
            "image/png": "[encoded data removed]",
            "text/plain": [
              "<Figure size 432x288 with 1 Axes>"
            ]
          },
          "metadata": {
            "tags": [],
            "needs_background": "light"
          }
        }
      ]
    },
    {
      "cell_type": "markdown",
      "metadata": {
        "id": "TjFmDHMmB_g2"
      },
      "source": [
        "## Загрузка данные о цене акций Tesla за период, соответствующий выборке"
      ]
    },
    {
      "cell_type": "code",
      "metadata": {
        "id": "698_dqP5T1Yf"
      },
      "source": [
        "import yfinance as yf\n",
        "tsla = yf.Ticker(\"TSLA\")\n",
        "start = datetime.strptime(retro_data['created_at'].min(), '%Y-%m-%dT%H:%M:%S.%fZ')\n",
        "end = datetime.strptime(retro_data['created_at'].max(), '%Y-%m-%dT%H:%M:%S.%fZ')\n",
        "tsla_stock = tsla.history(\n",
        "    start=start.strftime('%Y-%m-%d'),\n",
        "    end=end.strftime('%Y-%m-%d'),\n",
        "    interval='15m'\n",
        ").reset_index()"
      ],
      "execution_count": null,
      "outputs": []
    },
    {
      "cell_type": "code",
      "metadata": {
        "colab": {
          "base_uri": "https://localhost:8080/",
          "height": 200
        },
        "id": "-rZdXUf8UmKU",
        "outputId": "a9f6cc40-e8e4-42fe-f95c-baf0df0b00c1"
      },
      "source": [
        "tsla_stock = pd.DataFrame(tsla_stock)\n",
        "tsla_stock.head()"
      ],
      "execution_count": null,
      "outputs": [
        {
          "output_type": "execute_result",
          "data": {
            "text/html": [
              "<div>\n",
              "<style scoped>\n",
              "    .dataframe tbody tr th:only-of-type {\n",
              "        vertical-align: middle;\n",
              "    }\n",
              "\n",
              "    .dataframe tbody tr th {\n",
              "        vertical-align: top;\n",
              "    }\n",
              "\n",
              "    .dataframe thead th {\n",
              "        text-align: right;\n",
              "    }\n",
              "</style>\n",
              "<table border=\"1\" class=\"dataframe\">\n",
              "  <thead>\n",
              "    <tr style=\"text-align: right;\">\n",
              "      <th></th>\n",
              "      <th>Datetime</th>\n",
              "      <th>Open</th>\n",
              "      <th>High</th>\n",
              "      <th>Low</th>\n",
              "      <th>Close</th>\n",
              "      <th>Volume</th>\n",
              "      <th>Dividends</th>\n",
              "      <th>Stock Splits</th>\n",
              "    </tr>\n",
              "  </thead>\n",
              "  <tbody>\n",
              "    <tr>\n",
              "      <th>0</th>\n",
              "      <td>2021-05-25 09:30:00-04:00</td>\n",
              "      <td>607.309998</td>\n",
              "      <td>613.989990</td>\n",
              "      <td>603.500000</td>\n",
              "      <td>604.109924</td>\n",
              "      <td>5700246</td>\n",
              "      <td>0</td>\n",
              "      <td>0</td>\n",
              "    </tr>\n",
              "    <tr>\n",
              "      <th>1</th>\n",
              "      <td>2021-05-25 10:00:00-04:00</td>\n",
              "      <td>603.890015</td>\n",
              "      <td>606.750000</td>\n",
              "      <td>601.750000</td>\n",
              "      <td>605.489990</td>\n",
              "      <td>3424590</td>\n",
              "      <td>0</td>\n",
              "      <td>0</td>\n",
              "    </tr>\n",
              "    <tr>\n",
              "      <th>2</th>\n",
              "      <td>2021-05-25 10:30:00-04:00</td>\n",
              "      <td>605.500000</td>\n",
              "      <td>606.099976</td>\n",
              "      <td>599.200989</td>\n",
              "      <td>603.020020</td>\n",
              "      <td>2767061</td>\n",
              "      <td>0</td>\n",
              "      <td>0</td>\n",
              "    </tr>\n",
              "    <tr>\n",
              "      <th>3</th>\n",
              "      <td>2021-05-25 11:00:00-04:00</td>\n",
              "      <td>603.030029</td>\n",
              "      <td>603.499390</td>\n",
              "      <td>597.020020</td>\n",
              "      <td>597.783020</td>\n",
              "      <td>2462487</td>\n",
              "      <td>0</td>\n",
              "      <td>0</td>\n",
              "    </tr>\n",
              "    <tr>\n",
              "      <th>4</th>\n",
              "      <td>2021-05-25 11:30:00-04:00</td>\n",
              "      <td>597.831482</td>\n",
              "      <td>600.500000</td>\n",
              "      <td>595.710022</td>\n",
              "      <td>600.049988</td>\n",
              "      <td>2191042</td>\n",
              "      <td>0</td>\n",
              "      <td>0</td>\n",
              "    </tr>\n",
              "  </tbody>\n",
              "</table>\n",
              "</div>"
            ],
            "text/plain": [
              "                   Datetime        Open  ...  Dividends  Stock Splits\n",
              "0 2021-05-25 09:30:00-04:00  607.309998  ...          0             0\n",
              "1 2021-05-25 10:00:00-04:00  603.890015  ...          0             0\n",
              "2 2021-05-25 10:30:00-04:00  605.500000  ...          0             0\n",
              "3 2021-05-25 11:00:00-04:00  603.030029  ...          0             0\n",
              "4 2021-05-25 11:30:00-04:00  597.831482  ...          0             0\n",
              "\n",
              "[5 rows x 8 columns]"
            ]
          },
          "metadata": {
            "tags": []
          },
          "execution_count": 410
        }
      ]
    },
    {
      "cell_type": "code",
      "metadata": {
        "id": "MqY9r95-WNuT"
      },
      "source": [
        "tsla_stock.Datetime = tsla_stock.Datetime.dt.tz_convert(tz=None) #приведение к времени по гринвичу"
      ],
      "execution_count": null,
      "outputs": []
    },
    {
      "cell_type": "markdown",
      "metadata": {
        "id": "ZHezi6zvDYLt"
      },
      "source": [
        "## Разбиение результатов классификации по периодам, нахождение среднего и средневзвешенного результата. Объединение данных о цене и классификации."
      ]
    },
    {
      "cell_type": "code",
      "metadata": {
        "id": "pSvtSiHIdxkK"
      },
      "source": [
        "stock = pd.DataFrame()\n",
        "stock['stock_datetime'] = tsla_stock['Datetime']\n",
        "stock['close'] = tsla_stock['Close']\n",
        "pred = pd.DataFrame()\n",
        "pred['datetime'] = pd.to_datetime(retro_data['created_at']).dt.tz_convert(tz=None)\n",
        "pred['n_weight'] = retro_data['norm_opinion_weight']\n",
        "pred['prob'] = retro_data['probability']\n",
        "pred['sent'] = retro_data['sentiment']\n",
        "pred.loc[pred.sent == 'POSITIVE', 'sent'] = 1\n",
        "pred.loc[pred.sent == 'NEGATIVE', 'sent'] = -1"
      ],
      "execution_count": null,
      "outputs": []
    },
    {
      "cell_type": "markdown",
      "metadata": {
        "id": "MEMeA36DEFzb"
      },
      "source": [
        "Нормализуем цену акций от 0 до 1"
      ]
    },
    {
      "cell_type": "code",
      "metadata": {
        "colab": {
          "base_uri": "https://localhost:8080/",
          "height": 200
        },
        "id": "y2BmyVZesVqi",
        "outputId": "e6b5d7ff-7549-45ed-d3fe-7a729aa08875"
      },
      "source": [
        "stock = stock.assign(normalized_price = (stock['close'] - stock['close'].min())/(stock['close'].max() - stock['close'].min()))\n",
        "stock.head()"
      ],
      "execution_count": null,
      "outputs": [
        {
          "output_type": "execute_result",
          "data": {
            "text/html": [
              "<div>\n",
              "<style scoped>\n",
              "    .dataframe tbody tr th:only-of-type {\n",
              "        vertical-align: middle;\n",
              "    }\n",
              "\n",
              "    .dataframe tbody tr th {\n",
              "        vertical-align: top;\n",
              "    }\n",
              "\n",
              "    .dataframe thead th {\n",
              "        text-align: right;\n",
              "    }\n",
              "</style>\n",
              "<table border=\"1\" class=\"dataframe\">\n",
              "  <thead>\n",
              "    <tr style=\"text-align: right;\">\n",
              "      <th></th>\n",
              "      <th>stock_datetime</th>\n",
              "      <th>close</th>\n",
              "      <th>normalized_price</th>\n",
              "    </tr>\n",
              "  </thead>\n",
              "  <tbody>\n",
              "    <tr>\n",
              "      <th>0</th>\n",
              "      <td>2021-05-25 13:30:00</td>\n",
              "      <td>604.109924</td>\n",
              "      <td>0.238060</td>\n",
              "    </tr>\n",
              "    <tr>\n",
              "      <th>1</th>\n",
              "      <td>2021-05-25 14:00:00</td>\n",
              "      <td>605.489990</td>\n",
              "      <td>0.289987</td>\n",
              "    </tr>\n",
              "    <tr>\n",
              "      <th>2</th>\n",
              "      <td>2021-05-25 14:30:00</td>\n",
              "      <td>603.020020</td>\n",
              "      <td>0.197050</td>\n",
              "    </tr>\n",
              "    <tr>\n",
              "      <th>3</th>\n",
              "      <td>2021-05-25 15:00:00</td>\n",
              "      <td>597.783020</td>\n",
              "      <td>0.000000</td>\n",
              "    </tr>\n",
              "    <tr>\n",
              "      <th>4</th>\n",
              "      <td>2021-05-25 15:30:00</td>\n",
              "      <td>600.049988</td>\n",
              "      <td>0.085298</td>\n",
              "    </tr>\n",
              "  </tbody>\n",
              "</table>\n",
              "</div>"
            ],
            "text/plain": [
              "       stock_datetime       close  normalized_price\n",
              "0 2021-05-25 13:30:00  604.109924          0.238060\n",
              "1 2021-05-25 14:00:00  605.489990          0.289987\n",
              "2 2021-05-25 14:30:00  603.020020          0.197050\n",
              "3 2021-05-25 15:00:00  597.783020          0.000000\n",
              "4 2021-05-25 15:30:00  600.049988          0.085298"
            ]
          },
          "metadata": {
            "tags": []
          },
          "execution_count": 413
        }
      ]
    },
    {
      "cell_type": "code",
      "metadata": {
        "id": "jnyR-py7KZeJ"
      },
      "source": [
        "ds = stock.groupby(axis=0,by='stock_datetime').sum()"
      ],
      "execution_count": null,
      "outputs": []
    },
    {
      "cell_type": "code",
      "metadata": {
        "id": "SQbYhrkDzcuH"
      },
      "source": [
        "time_start = stock.stock_datetime.min()\n",
        "time_end = stock.stock_datetime.max()"
      ],
      "execution_count": null,
      "outputs": []
    },
    {
      "cell_type": "markdown",
      "metadata": {
        "id": "vk7E76ibEias"
      },
      "source": [
        "Выберем значения времени из выборки, соответствующие времени торгов. Найдем значения среднего и средневзвешенного предсказания модели по периодам."
      ]
    },
    {
      "cell_type": "code",
      "metadata": {
        "colab": {
          "base_uri": "https://localhost:8080/",
          "height": 411
        },
        "id": "o6gJiKii0JdL",
        "outputId": "30abfd2e-5e5d-44ea-cb7e-dfa819447ceb"
      },
      "source": [
        "pred.where((pred['datetime'] >= time_start)&(pred['datetime'] <= time_end), inplace=True)\n",
        "pred.dropna(inplace=True)\n",
        "pred.datetime = pred.datetime.dt.ceil('30T')#выбор периода\n",
        "pred['probsent'] = pd.to_numeric(pred['prob'] * pred['sent'] + 1) \n",
        "pred['w_probsent'] = pd.to_numeric(pred['prob'] * pred['sent'] * pred['n_weight'] + 1)\n",
        "pred"
      ],
      "execution_count": null,
      "outputs": [
        {
          "output_type": "execute_result",
          "data": {
            "text/html": [
              "<div>\n",
              "<style scoped>\n",
              "    .dataframe tbody tr th:only-of-type {\n",
              "        vertical-align: middle;\n",
              "    }\n",
              "\n",
              "    .dataframe tbody tr th {\n",
              "        vertical-align: top;\n",
              "    }\n",
              "\n",
              "    .dataframe thead th {\n",
              "        text-align: right;\n",
              "    }\n",
              "</style>\n",
              "<table border=\"1\" class=\"dataframe\">\n",
              "  <thead>\n",
              "    <tr style=\"text-align: right;\">\n",
              "      <th></th>\n",
              "      <th>datetime</th>\n",
              "      <th>n_weight</th>\n",
              "      <th>prob</th>\n",
              "      <th>sent</th>\n",
              "      <th>probsent</th>\n",
              "      <th>w_probsent</th>\n",
              "    </tr>\n",
              "  </thead>\n",
              "  <tbody>\n",
              "    <tr>\n",
              "      <th>4485</th>\n",
              "      <td>2021-05-26 19:00:00</td>\n",
              "      <td>0.000040</td>\n",
              "      <td>0.999489</td>\n",
              "      <td>1</td>\n",
              "      <td>1.999489</td>\n",
              "      <td>1.000040</td>\n",
              "    </tr>\n",
              "    <tr>\n",
              "      <th>4486</th>\n",
              "      <td>2021-05-26 19:00:00</td>\n",
              "      <td>0.000050</td>\n",
              "      <td>0.990892</td>\n",
              "      <td>1</td>\n",
              "      <td>1.990892</td>\n",
              "      <td>1.000050</td>\n",
              "    </tr>\n",
              "    <tr>\n",
              "      <th>4487</th>\n",
              "      <td>2021-05-26 19:00:00</td>\n",
              "      <td>0.101928</td>\n",
              "      <td>0.998436</td>\n",
              "      <td>-1</td>\n",
              "      <td>0.001564</td>\n",
              "      <td>0.898232</td>\n",
              "    </tr>\n",
              "    <tr>\n",
              "      <th>4488</th>\n",
              "      <td>2021-05-26 19:00:00</td>\n",
              "      <td>0.004784</td>\n",
              "      <td>0.978617</td>\n",
              "      <td>-1</td>\n",
              "      <td>0.021383</td>\n",
              "      <td>0.995318</td>\n",
              "    </tr>\n",
              "    <tr>\n",
              "      <th>4489</th>\n",
              "      <td>2021-05-26 19:00:00</td>\n",
              "      <td>0.000010</td>\n",
              "      <td>0.999822</td>\n",
              "      <td>-1</td>\n",
              "      <td>0.000178</td>\n",
              "      <td>0.999990</td>\n",
              "    </tr>\n",
              "    <tr>\n",
              "      <th>...</th>\n",
              "      <td>...</td>\n",
              "      <td>...</td>\n",
              "      <td>...</td>\n",
              "      <td>...</td>\n",
              "      <td>...</td>\n",
              "      <td>...</td>\n",
              "    </tr>\n",
              "    <tr>\n",
              "      <th>9469</th>\n",
              "      <td>2021-05-25 18:30:00</td>\n",
              "      <td>0.000010</td>\n",
              "      <td>0.932410</td>\n",
              "      <td>1</td>\n",
              "      <td>1.932410</td>\n",
              "      <td>1.000009</td>\n",
              "    </tr>\n",
              "    <tr>\n",
              "      <th>9470</th>\n",
              "      <td>2021-05-25 18:30:00</td>\n",
              "      <td>0.001118</td>\n",
              "      <td>0.568511</td>\n",
              "      <td>-1</td>\n",
              "      <td>0.431489</td>\n",
              "      <td>0.999364</td>\n",
              "    </tr>\n",
              "    <tr>\n",
              "      <th>9471</th>\n",
              "      <td>2021-05-25 18:30:00</td>\n",
              "      <td>0.000060</td>\n",
              "      <td>0.998722</td>\n",
              "      <td>-1</td>\n",
              "      <td>0.001278</td>\n",
              "      <td>0.999940</td>\n",
              "    </tr>\n",
              "    <tr>\n",
              "      <th>9472</th>\n",
              "      <td>2021-05-25 18:30:00</td>\n",
              "      <td>0.018542</td>\n",
              "      <td>0.999522</td>\n",
              "      <td>1</td>\n",
              "      <td>1.999522</td>\n",
              "      <td>1.018534</td>\n",
              "    </tr>\n",
              "    <tr>\n",
              "      <th>9473</th>\n",
              "      <td>2021-05-25 18:30:00</td>\n",
              "      <td>0.000030</td>\n",
              "      <td>0.999281</td>\n",
              "      <td>-1</td>\n",
              "      <td>0.000719</td>\n",
              "      <td>0.999970</td>\n",
              "    </tr>\n",
              "  </tbody>\n",
              "</table>\n",
              "<p>4989 rows × 6 columns</p>\n",
              "</div>"
            ],
            "text/plain": [
              "                datetime  n_weight      prob sent  probsent  w_probsent\n",
              "4485 2021-05-26 19:00:00  0.000040  0.999489    1  1.999489    1.000040\n",
              "4486 2021-05-26 19:00:00  0.000050  0.990892    1  1.990892    1.000050\n",
              "4487 2021-05-26 19:00:00  0.101928  0.998436   -1  0.001564    0.898232\n",
              "4488 2021-05-26 19:00:00  0.004784  0.978617   -1  0.021383    0.995318\n",
              "4489 2021-05-26 19:00:00  0.000010  0.999822   -1  0.000178    0.999990\n",
              "...                  ...       ...       ...  ...       ...         ...\n",
              "9469 2021-05-25 18:30:00  0.000010  0.932410    1  1.932410    1.000009\n",
              "9470 2021-05-25 18:30:00  0.001118  0.568511   -1  0.431489    0.999364\n",
              "9471 2021-05-25 18:30:00  0.000060  0.998722   -1  0.001278    0.999940\n",
              "9472 2021-05-25 18:30:00  0.018542  0.999522    1  1.999522    1.018534\n",
              "9473 2021-05-25 18:30:00  0.000030  0.999281   -1  0.000719    0.999970\n",
              "\n",
              "[4989 rows x 6 columns]"
            ]
          },
          "metadata": {
            "tags": []
          },
          "execution_count": 425
        }
      ]
    },
    {
      "cell_type": "code",
      "metadata": {
        "id": "mhO7eVl4-YpI"
      },
      "source": [
        "dp = pred.groupby(axis=0,by='datetime').mean()"
      ],
      "execution_count": null,
      "outputs": []
    },
    {
      "cell_type": "markdown",
      "metadata": {
        "id": "DHrHD9wEEah9"
      },
      "source": [
        "Объединим значения в одну таблицу"
      ]
    },
    {
      "cell_type": "code",
      "metadata": {
        "colab": {
          "base_uri": "https://localhost:8080/",
          "height": 443
        },
        "id": "RvabY5wFMHyN",
        "outputId": "ec1947cd-f176-4ed4-d0b6-ea23f85ee3e2"
      },
      "source": [
        "ex = pd.merge(ds, dp, left_index=True, right_index=True)\n",
        "ex.index.rename('datetime',inplace=True)\n",
        "#ex = ex.filter(like='2021-05-26',axis=0) если нужна фильтрация по определенному дню\n",
        "ex"
      ],
      "execution_count": null,
      "outputs": [
        {
          "output_type": "execute_result",
          "data": {
            "text/html": [
              "<div>\n",
              "<style scoped>\n",
              "    .dataframe tbody tr th:only-of-type {\n",
              "        vertical-align: middle;\n",
              "    }\n",
              "\n",
              "    .dataframe tbody tr th {\n",
              "        vertical-align: top;\n",
              "    }\n",
              "\n",
              "    .dataframe thead th {\n",
              "        text-align: right;\n",
              "    }\n",
              "</style>\n",
              "<table border=\"1\" class=\"dataframe\">\n",
              "  <thead>\n",
              "    <tr style=\"text-align: right;\">\n",
              "      <th></th>\n",
              "      <th>close</th>\n",
              "      <th>normalized_price</th>\n",
              "      <th>n_weight</th>\n",
              "      <th>prob</th>\n",
              "      <th>probsent</th>\n",
              "      <th>w_probsent</th>\n",
              "    </tr>\n",
              "    <tr>\n",
              "      <th>datetime</th>\n",
              "      <th></th>\n",
              "      <th></th>\n",
              "      <th></th>\n",
              "      <th></th>\n",
              "      <th></th>\n",
              "      <th></th>\n",
              "    </tr>\n",
              "  </thead>\n",
              "  <tbody>\n",
              "    <tr>\n",
              "      <th>2021-05-26 13:30:00</th>\n",
              "      <td>604.457520</td>\n",
              "      <td>0.251139</td>\n",
              "      <td>0.017873</td>\n",
              "      <td>0.938141</td>\n",
              "      <td>0.605530</td>\n",
              "      <td>0.983390</td>\n",
              "    </tr>\n",
              "    <tr>\n",
              "      <th>2021-05-26 14:00:00</th>\n",
              "      <td>609.455017</td>\n",
              "      <td>0.439177</td>\n",
              "      <td>0.008648</td>\n",
              "      <td>0.907734</td>\n",
              "      <td>0.908351</td>\n",
              "      <td>0.991937</td>\n",
              "    </tr>\n",
              "    <tr>\n",
              "      <th>2021-05-26 14:30:00</th>\n",
              "      <td>617.890015</td>\n",
              "      <td>0.756557</td>\n",
              "      <td>0.010610</td>\n",
              "      <td>0.932610</td>\n",
              "      <td>0.741679</td>\n",
              "      <td>0.989778</td>\n",
              "    </tr>\n",
              "    <tr>\n",
              "      <th>2021-05-26 15:00:00</th>\n",
              "      <td>617.260010</td>\n",
              "      <td>0.732852</td>\n",
              "      <td>0.013477</td>\n",
              "      <td>0.933792</td>\n",
              "      <td>0.934119</td>\n",
              "      <td>0.987299</td>\n",
              "    </tr>\n",
              "    <tr>\n",
              "      <th>2021-05-26 15:30:00</th>\n",
              "      <td>623.090027</td>\n",
              "      <td>0.952216</td>\n",
              "      <td>0.008569</td>\n",
              "      <td>0.949018</td>\n",
              "      <td>1.066207</td>\n",
              "      <td>0.993958</td>\n",
              "    </tr>\n",
              "    <tr>\n",
              "      <th>2021-05-26 16:00:00</th>\n",
              "      <td>621.109985</td>\n",
              "      <td>0.877714</td>\n",
              "      <td>0.010103</td>\n",
              "      <td>0.953764</td>\n",
              "      <td>0.812847</td>\n",
              "      <td>0.990186</td>\n",
              "    </tr>\n",
              "    <tr>\n",
              "      <th>2021-05-26 16:30:00</th>\n",
              "      <td>618.429993</td>\n",
              "      <td>0.776875</td>\n",
              "      <td>0.014200</td>\n",
              "      <td>0.961535</td>\n",
              "      <td>0.862236</td>\n",
              "      <td>0.985990</td>\n",
              "    </tr>\n",
              "    <tr>\n",
              "      <th>2021-05-26 17:00:00</th>\n",
              "      <td>621.780029</td>\n",
              "      <td>0.902925</td>\n",
              "      <td>0.010562</td>\n",
              "      <td>0.931535</td>\n",
              "      <td>0.852265</td>\n",
              "      <td>0.989728</td>\n",
              "    </tr>\n",
              "    <tr>\n",
              "      <th>2021-05-26 17:30:00</th>\n",
              "      <td>621.369995</td>\n",
              "      <td>0.887497</td>\n",
              "      <td>0.007193</td>\n",
              "      <td>0.956983</td>\n",
              "      <td>0.789180</td>\n",
              "      <td>0.993614</td>\n",
              "    </tr>\n",
              "    <tr>\n",
              "      <th>2021-05-26 18:00:00</th>\n",
              "      <td>623.825012</td>\n",
              "      <td>0.979871</td>\n",
              "      <td>0.008425</td>\n",
              "      <td>0.910108</td>\n",
              "      <td>0.729016</td>\n",
              "      <td>0.991675</td>\n",
              "    </tr>\n",
              "    <tr>\n",
              "      <th>2021-05-26 18:30:00</th>\n",
              "      <td>624.359985</td>\n",
              "      <td>1.000000</td>\n",
              "      <td>0.010362</td>\n",
              "      <td>0.937259</td>\n",
              "      <td>0.942633</td>\n",
              "      <td>0.989693</td>\n",
              "    </tr>\n",
              "    <tr>\n",
              "      <th>2021-05-26 19:00:00</th>\n",
              "      <td>622.630005</td>\n",
              "      <td>0.934907</td>\n",
              "      <td>0.007516</td>\n",
              "      <td>0.957949</td>\n",
              "      <td>0.688482</td>\n",
              "      <td>0.992958</td>\n",
              "    </tr>\n",
              "  </tbody>\n",
              "</table>\n",
              "</div>"
            ],
            "text/plain": [
              "                          close  normalized_price  ...  probsent  w_probsent\n",
              "datetime                                           ...                      \n",
              "2021-05-26 13:30:00  604.457520          0.251139  ...  0.605530    0.983390\n",
              "2021-05-26 14:00:00  609.455017          0.439177  ...  0.908351    0.991937\n",
              "2021-05-26 14:30:00  617.890015          0.756557  ...  0.741679    0.989778\n",
              "2021-05-26 15:00:00  617.260010          0.732852  ...  0.934119    0.987299\n",
              "2021-05-26 15:30:00  623.090027          0.952216  ...  1.066207    0.993958\n",
              "2021-05-26 16:00:00  621.109985          0.877714  ...  0.812847    0.990186\n",
              "2021-05-26 16:30:00  618.429993          0.776875  ...  0.862236    0.985990\n",
              "2021-05-26 17:00:00  621.780029          0.902925  ...  0.852265    0.989728\n",
              "2021-05-26 17:30:00  621.369995          0.887497  ...  0.789180    0.993614\n",
              "2021-05-26 18:00:00  623.825012          0.979871  ...  0.729016    0.991675\n",
              "2021-05-26 18:30:00  624.359985          1.000000  ...  0.942633    0.989693\n",
              "2021-05-26 19:00:00  622.630005          0.934907  ...  0.688482    0.992958\n",
              "\n",
              "[12 rows x 6 columns]"
            ]
          },
          "metadata": {
            "tags": []
          },
          "execution_count": 427
        }
      ]
    },
    {
      "cell_type": "markdown",
      "metadata": {
        "id": "BOXyjArGE5Rx"
      },
      "source": [
        "## Результаты\n",
        "Некоторые результаты работы модели. По идее при эмоциональных продажах график цены должен повторять направление графика настроения с задержкой на какое-то время."
      ]
    },
    {
      "cell_type": "markdown",
      "metadata": {
        "id": "3BaGyiz5EwKP"
      },
      "source": [
        "На 26.05"
      ]
    },
    {
      "cell_type": "code",
      "metadata": {
        "colab": {
          "base_uri": "https://localhost:8080/",
          "height": 297
        },
        "id": "zIN0xQQk6qF0",
        "outputId": "abce23f6-9511-4fb4-cc7d-82a33c85dca7"
      },
      "source": [
        "sns.lineplot(data = ex, x ='datetime',y ='probsent' ,  marker=\"o\")"
      ],
      "execution_count": null,
      "outputs": [
        {
          "output_type": "execute_result",
          "data": {
            "text/plain": [
              "<matplotlib.axes._subplots.AxesSubplot at 0x7f2e70ee9dd0>"
            ]
          },
          "metadata": {
            "tags": []
          },
          "execution_count": 428
        },
        {
          "output_type": "display_data",
          "data": {
            "image/png": "[encoded data removed]",
            "text/plain": [
              "<Figure size 432x288 with 1 Axes>"
            ]
          },
          "metadata": {
            "tags": [],
            "needs_background": "light"
          }
        }
      ]
    },
    {
      "cell_type": "code",
      "metadata": {
        "colab": {
          "base_uri": "https://localhost:8080/",
          "height": 297
        },
        "id": "95StKtZNBl1l",
        "outputId": "45ba1c12-8a23-4ad8-f1ba-4156f615d4d4"
      },
      "source": [
        "sns.lineplot(data = ex, x ='datetime',y ='w_probsent', marker=\"o\" )"
      ],
      "execution_count": null,
      "outputs": [
        {
          "output_type": "execute_result",
          "data": {
            "text/plain": [
              "<matplotlib.axes._subplots.AxesSubplot at 0x7f2e707deb10>"
            ]
          },
          "metadata": {
            "tags": []
          },
          "execution_count": 429
        },
        {
          "output_type": "display_data",
          "data": {
            "image/png": "[encoded data removed]",
            "text/plain": [
              "<Figure size 432x288 with 1 Axes>"
            ]
          },
          "metadata": {
            "tags": [],
            "needs_background": "light"
          }
        }
      ]
    },
    {
      "cell_type": "code",
      "metadata": {
        "colab": {
          "base_uri": "https://localhost:8080/",
          "height": 297
        },
        "id": "P6dxZAb6BsnX",
        "outputId": "bf98ff9e-4401-420e-94bb-126e51cb0446"
      },
      "source": [
        "sns.lineplot(data = ex,x = 'datetime', y = 'normalized_price', marker=\"o\", color='r')"
      ],
      "execution_count": null,
      "outputs": [
        {
          "output_type": "execute_result",
          "data": {
            "text/plain": [
              "<matplotlib.axes._subplots.AxesSubplot at 0x7f2e6faddb10>"
            ]
          },
          "metadata": {
            "tags": []
          },
          "execution_count": 430
        },
        {
          "output_type": "display_data",
          "data": {
            "image/png": "[encoded data removed]",
            "text/plain": [
              "<Figure size 432x288 with 1 Axes>"
            ]
          },
          "metadata": {
            "tags": [],
            "needs_background": "light"
          }
        }
      ]
    },
    {
      "cell_type": "code",
      "metadata": {
        "colab": {
          "base_uri": "https://localhost:8080/",
          "height": 298
        },
        "id": "ZhS95-JZQf-Y",
        "outputId": "5f5d1cd0-f786-4548-d163-d3c6232fdb54"
      },
      "source": [
        "import matplotlib.pyplot as plt\n",
        "fig, ax = plt.subplots()\n",
        "sns.lineplot(x='datetime', y='probsent', data=ex, ax=ax, marker=\"o\")\n",
        "ax2 = ax.twinx()\n",
        "sns.lineplot(x='datetime', y='close', data=ex, ax=ax2, color='r', marker=\"o\")"
      ],
      "execution_count": null,
      "outputs": [
        {
          "output_type": "execute_result",
          "data": {
            "text/plain": [
              "<matplotlib.axes._subplots.AxesSubplot at 0x7f2f0492f9d0>"
            ]
          },
          "metadata": {
            "tags": []
          },
          "execution_count": 431
        },
        {
          "output_type": "display_data",
          "data": {
            "image/png": "[encoded data removed]",
            "text/plain": [
              "<Figure size 432x288 with 2 Axes>"
            ]
          },
          "metadata": {
            "tags": [],
            "needs_background": "light"
          }
        }
      ]
    },
    {
      "cell_type": "markdown",
      "metadata": {
        "id": "09Gw4_6FF5NS"
      },
      "source": [
        "С задержкой в 1 период график повторяет направление с точностью 0.66"
      ]
    },
    {
      "cell_type": "code",
      "metadata": {
        "colab": {
          "base_uri": "https://localhost:8080/",
          "height": 298
        },
        "id": "XezTYfPCRbWx",
        "outputId": "08f0519c-5e57-4054-de11-e7288aac4b43"
      },
      "source": [
        "fig, ax = plt.subplots()\n",
        "sns.lineplot(x='datetime', y='w_probsent', data=ex, ax=ax, marker=\"o\")\n",
        "ax2 = ax.twinx()\n",
        "sns.lineplot(x='datetime', y='close', data=ex, ax=ax2, color='r', marker=\"o\")"
      ],
      "execution_count": null,
      "outputs": [
        {
          "output_type": "execute_result",
          "data": {
            "text/plain": [
              "<matplotlib.axes._subplots.AxesSubplot at 0x7f2e6e8c5190>"
            ]
          },
          "metadata": {
            "tags": []
          },
          "execution_count": 432
        },
        {
          "output_type": "display_data",
          "data": {
            "image/png": "[encoded data removed]",
            "text/plain": [
              "<Figure size 432x288 with 2 Axes>"
            ]
          },
          "metadata": {
            "tags": [],
            "needs_background": "light"
          }
        }
      ]
    },
    {
      "cell_type": "markdown",
      "metadata": {
        "id": "tleDjLQqE0Z2"
      },
      "source": [
        "На 28.05"
      ]
    },
    {
      "cell_type": "code",
      "metadata": {
        "colab": {
          "base_uri": "https://localhost:8080/",
          "height": 300
        },
        "id": "omlnmvmQ2cct",
        "outputId": "6dfddff2-13b9-4a6a-b4aa-25aa299728fe"
      },
      "source": [
        "fig, ax = plt.subplots()\n",
        "sns.lineplot(x='datetime', y='probsent', data=ex, ax=ax, marker=\"o\")\n",
        "ax2 = ax.twinx()\n",
        "sns.lineplot(x='datetime', y='close', data=ex, ax=ax2, color='r', marker=\"o\")"
      ],
      "execution_count": null,
      "outputs": [
        {
          "output_type": "execute_result",
          "data": {
            "text/plain": [
              "<matplotlib.axes._subplots.AxesSubplot at 0x7f2e6bf54fd0>"
            ]
          },
          "metadata": {
            "tags": []
          },
          "execution_count": 456
        },
        {
          "output_type": "display_data",
          "data": {
            "image/png": "[encoded data removed]",
            "text/plain": [
              "<Figure size 432x288 with 2 Axes>"
            ]
          },
          "metadata": {
            "tags": [],
            "needs_background": "light"
          }
        }
      ]
    },
    {
      "cell_type": "markdown",
      "metadata": {
        "id": "OIuh3nFNF-_D"
      },
      "source": [
        "С задержкой в 1 период график повторяет направление с точностью 0.73"
      ]
    },
    {
      "cell_type": "markdown",
      "metadata": {
        "id": "04Kj8999BxfN"
      },
      "source": [
        "# Опционально - сохранение помеченной выборки"
      ]
    },
    {
      "cell_type": "code",
      "metadata": {
        "colab": {
          "base_uri": "https://localhost:8080/",
          "height": 17
        },
        "id": "H7NzWmsETfGf",
        "outputId": "1d1cd407-d8da-4058-e69f-fc057b0efdf7"
      },
      "source": [
        "from google.colab import files\n",
        "retro_data.to_csv('retro_data.csv', index=False)\n",
        "files.download(\"retro_data.csv\")"
      ],
      "execution_count": null,
      "outputs": [
        {
          "output_type": "display_data",
          "data": {
            "application/javascript": [
              "\n",
              "    async function download(id, filename, size) {\n",
              "      if (!google.colab.kernel.accessAllowed) {\n",
              "        return;\n",
              "      }\n",
              "      const div = document.createElement('div');\n",
              "      const label = document.createElement('label');\n",
              "      label.textContent = `Downloading \"${filename}\": `;\n",
              "      div.appendChild(label);\n",
              "      const progress = document.createElement('progress');\n",
              "      progress.max = size;\n",
              "      div.appendChild(progress);\n",
              "      document.body.appendChild(div);\n",
              "\n",
              "      const buffers = [];\n",
              "      let downloaded = 0;\n",
              "\n",
              "      const channel = await google.colab.kernel.comms.open(id);\n",
              "      // Send a message to notify the kernel that we're ready.\n",
              "      channel.send({})\n",
              "\n",
              "      for await (const message of channel.messages) {\n",
              "        // Send a message to notify the kernel that we're ready.\n",
              "        channel.send({})\n",
              "        if (message.buffers) {\n",
              "          for (const buffer of message.buffers) {\n",
              "            buffers.push(buffer);\n",
              "            downloaded += buffer.byteLength;\n",
              "            progress.value = downloaded;\n",
              "          }\n",
              "        }\n",
              "      }\n",
              "      const blob = new Blob(buffers, {type: 'application/binary'});\n",
              "      const a = document.createElement('a');\n",
              "      a.href = window.URL.createObjectURL(blob);\n",
              "      a.download = filename;\n",
              "      div.appendChild(a);\n",
              "      a.click();\n",
              "      div.remove();\n",
              "    }\n",
              "  "
            ],
            "text/plain": [
              "<IPython.core.display.Javascript object>"
            ]
          },
          "metadata": {
            "tags": []
          }
        },
        {
          "output_type": "display_data",
          "data": {
            "application/javascript": [
              "download(\"download_e4a85c8e-e99e-4647-a259-e271469d297b\", \"retro_big.csv\", 6481891)"
            ],
            "text/plain": [
              "<IPython.core.display.Javascript object>"
            ]
          },
          "metadata": {
            "tags": []
          }
        }
      ]
    },
    {
      "cell_type": "markdown",
      "metadata": {
        "id": "aNpIGIZxFkBW"
      },
      "source": [
        "# Опционально - загрузка помеченной выборки\n"
      ]
    },
    {
      "cell_type": "code",
      "metadata": {
        "id": "-xyxyHcnF5HQ"
      },
      "source": [
        "from google.colab import files\n",
        "import io\n",
        "retro_data = pd.read_csv(io.BytesIO(uploaded['retro_data.csv']))"
      ],
      "execution_count": null,
      "outputs": []
    },
    {
      "cell_type": "code",
      "metadata": {
        "colab": {
          "base_uri": "https://localhost:8080/",
          "height": 200
        },
        "id": "6VPBOB5bG4mP",
        "outputId": "c458defa-5b0d-4676-95c9-c1018d0532b3"
      },
      "source": [
        "retro_data.head()"
      ],
      "execution_count": null,
      "outputs": [
        {
          "output_type": "execute_result",
          "data": {
            "text/html": [
              "<div>\n",
              "<style scoped>\n",
              "    .dataframe tbody tr th:only-of-type {\n",
              "        vertical-align: middle;\n",
              "    }\n",
              "\n",
              "    .dataframe tbody tr th {\n",
              "        vertical-align: top;\n",
              "    }\n",
              "\n",
              "    .dataframe thead th {\n",
              "        text-align: right;\n",
              "    }\n",
              "</style>\n",
              "<table border=\"1\" class=\"dataframe\">\n",
              "  <thead>\n",
              "    <tr style=\"text-align: right;\">\n",
              "      <th></th>\n",
              "      <th>created_at</th>\n",
              "      <th>id</th>\n",
              "      <th>retweets</th>\n",
              "      <th>text</th>\n",
              "      <th>opinion_weight</th>\n",
              "      <th>norm_opinion_weight</th>\n",
              "      <th>probability</th>\n",
              "      <th>sentiment</th>\n",
              "    </tr>\n",
              "  </thead>\n",
              "  <tbody>\n",
              "    <tr>\n",
              "      <th>0</th>\n",
              "      <td>2021-05-27T17:57:02.000Z</td>\n",
              "      <td>1397975146367959047</td>\n",
              "      <td>187.0</td>\n",
              "      <td>Since Tesla announced their #Bitcoin position...</td>\n",
              "      <td>0.153944</td>\n",
              "      <td>0.001894</td>\n",
              "      <td>0.867171</td>\n",
              "      <td>NEGATIVE</td>\n",
              "    </tr>\n",
              "    <tr>\n",
              "      <th>1</th>\n",
              "      <td>2021-05-27T17:57:02.000Z</td>\n",
              "      <td>1397975145604698113</td>\n",
              "      <td>0.0</td>\n",
              "      <td>FAD = full self-driving</td>\n",
              "      <td>0.000000</td>\n",
              "      <td>0.000010</td>\n",
              "      <td>0.953569</td>\n",
              "      <td>NEGATIVE</td>\n",
              "    </tr>\n",
              "    <tr>\n",
              "      <th>2</th>\n",
              "      <td>2021-05-27T17:57:02.000Z</td>\n",
              "      <td>1397975143750717445</td>\n",
              "      <td>5.0</td>\n",
              "      <td>Plaid Cymru Senedd Member writes to Elon Musk ...</td>\n",
              "      <td>0.004116</td>\n",
              "      <td>0.000060</td>\n",
              "      <td>0.836317</td>\n",
              "      <td>NEGATIVE</td>\n",
              "    </tr>\n",
              "    <tr>\n",
              "      <th>3</th>\n",
              "      <td>2021-05-27T17:56:58.000Z</td>\n",
              "      <td>1397975128202416128</td>\n",
              "      <td>57.0</td>\n",
              "      <td>Let me get this straight: 1/ Model S Plaid de...</td>\n",
              "      <td>0.046924</td>\n",
              "      <td>0.000584</td>\n",
              "      <td>0.990245</td>\n",
              "      <td>NEGATIVE</td>\n",
              "    </tr>\n",
              "    <tr>\n",
              "      <th>4</th>\n",
              "      <td>2021-05-27T17:56:56.000Z</td>\n",
              "      <td>1397975122523398149</td>\n",
              "      <td>0.0</td>\n",
              "      <td>💃🏾💃🏾💃🏾. Yeah the Tesla was not cutting it! Gl...</td>\n",
              "      <td>0.000000</td>\n",
              "      <td>0.000010</td>\n",
              "      <td>0.765093</td>\n",
              "      <td>POSITIVE</td>\n",
              "    </tr>\n",
              "  </tbody>\n",
              "</table>\n",
              "</div>"
            ],
            "text/plain": [
              "                 created_at                   id  ...  probability sentiment\n",
              "0  2021-05-27T17:57:02.000Z  1397975146367959047  ...     0.867171  NEGATIVE\n",
              "1  2021-05-27T17:57:02.000Z  1397975145604698113  ...     0.953569  NEGATIVE\n",
              "2  2021-05-27T17:57:02.000Z  1397975143750717445  ...     0.836317  NEGATIVE\n",
              "3  2021-05-27T17:56:58.000Z  1397975128202416128  ...     0.990245  NEGATIVE\n",
              "4  2021-05-27T17:56:56.000Z  1397975122523398149  ...     0.765093  POSITIVE\n",
              "\n",
              "[5 rows x 8 columns]"
            ]
          },
          "metadata": {
            "tags": []
          },
          "execution_count": 391
        }
      ]
    }
  ]
}